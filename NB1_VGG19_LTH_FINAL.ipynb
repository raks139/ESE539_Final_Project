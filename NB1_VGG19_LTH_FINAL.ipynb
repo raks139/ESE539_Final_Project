{
  "cells": [
    {
      "cell_type": "markdown",
      "metadata": {
        "id": "sI84nqVBw6nH"
      },
      "source": [
        "# This notebook replaces the pruned index gradients with zero for updating weights."
      ]
    },
    {
      "cell_type": "code",
      "execution_count": null,
      "metadata": {
        "id": "DhmlA1Bgw6nK",
        "outputId": "44b784f7-9641-44a1-8d8f-719ddb860a30",
        "colab": {
          "base_uri": "https://localhost:8080/"
        }
      },
      "outputs": [
        {
          "output_type": "stream",
          "name": "stdout",
          "text": [
            "PyTorch Version:  1.13.0+cu116\n",
            "Torchvision Version:  0.14.0+cu116\n"
          ]
        }
      ],
      "source": [
        "import torch\n",
        "import torch.nn as nn\n",
        "import torchvision\n",
        "import torchvision.transforms as transforms\n",
        "import numpy as np\n",
        "import copy\n",
        "\n",
        "from torchvision import datasets, models\n",
        "from pathlib import Path\n",
        "import torch.optim as optim\n",
        "import torch.nn.utils.prune as prune\n",
        "import pdb\n",
        "import time\n",
        "print(\"PyTorch Version: \", torch.__version__)\n",
        "print(\"Torchvision Version: \", torchvision.__version__)\n",
        "!mkdir data\n",
        "data_dir = Path('./data')\n",
        "net_fn = Path('./net')\n",
        "\n",
        "torch.manual_seed(0)\n",
        "np.random.seed(0)"
      ]
    },
    {
      "cell_type": "markdown",
      "source": [
        "Loading the datasets and dataloader:"
      ],
      "metadata": {
        "id": "wARuUV2eRsmY"
      }
    },
    {
      "cell_type": "markdown",
      "metadata": {
        "id": "ueovH-Ojw6nM"
      },
      "source": []
    },
    {
      "cell_type": "code",
      "execution_count": null,
      "metadata": {
        "id": "3yAYLtKkw6nM"
      },
      "outputs": [],
      "source": [
        "transform = transforms.Compose(\n",
        "    [transforms.ToTensor(),\n",
        "     transforms.Normalize((0.5, 0.5, 0.5), (0.5, 0.5, 0.5))])"
      ]
    },
    {
      "cell_type": "markdown",
      "metadata": {
        "id": "WuBvfXoPw6nN"
      },
      "source": []
    },
    {
      "cell_type": "code",
      "execution_count": null,
      "metadata": {
        "id": "kSWjtPXZw6nN",
        "outputId": "701f3cb5-da87-459d-f377-897d06e89e4e",
        "colab": {
          "base_uri": "https://localhost:8080/",
          "height": 138,
          "referenced_widgets": [
            "4cb96aab5d484b8bbf4c8783115c145e",
            "7e363a48560c49ff9bf05dd00058045c",
            "35eafd42127744c5b6ef9b83b9d3b238",
            "cf3a4dcd9b4e4e24b7a3f9d9530417f4",
            "7d199495160d4eda97e9269951543f18",
            "4b9b9b1b302e4b95a29084378ff59243",
            "d2675b1037b741408410ef19d0f1f4e5",
            "daca220742024d48b6b1bbba58cb6ce2",
            "83d5711693144e158498c238ae570d06",
            "94a612cf30994517ad804c4d229fd9b3",
            "7856133246ea4c81aa67a36a3336cdd2"
          ]
        }
      },
      "outputs": [
        {
          "output_type": "stream",
          "name": "stdout",
          "text": [
            "Downloading https://www.cs.toronto.edu/~kriz/cifar-10-python.tar.gz to ./data/cifar-10-python.tar.gz\n"
          ]
        },
        {
          "output_type": "display_data",
          "data": {
            "text/plain": [
              "  0%|          | 0/170498071 [00:00<?, ?it/s]"
            ],
            "application/vnd.jupyter.widget-view+json": {
              "version_major": 2,
              "version_minor": 0,
              "model_id": "4cb96aab5d484b8bbf4c8783115c145e"
            }
          },
          "metadata": {}
        },
        {
          "output_type": "stream",
          "name": "stdout",
          "text": [
            "Extracting ./data/cifar-10-python.tar.gz to ./data\n"
          ]
        },
        {
          "output_type": "stream",
          "name": "stderr",
          "text": [
            "/usr/local/lib/python3.8/dist-packages/torch/utils/data/dataloader.py:554: UserWarning: This DataLoader will create 4 worker processes in total. Our suggested max number of worker in current system is 2, which is smaller than what this DataLoader is going to create. Please be aware that excessive worker creation might get DataLoader running slow or even freeze, lower the worker number to avoid potential slowness/freeze if necessary.\n",
            "  warnings.warn(_create_warning_msg(\n"
          ]
        }
      ],
      "source": [
        "trainset = torchvision.datasets.CIFAR10(root='./data', train=True, download=True, transform=transform)\n",
        "trainloader = torch.utils.data.DataLoader(trainset, batch_size=64,\n",
        "                                          shuffle=False, num_workers=4)\n",
        "                                \n",
        "classes = ('plane', 'car', 'bird', 'cat','deer', \n",
        "           'dog', 'frog', 'horse', 'ship', 'truck')"
      ]
    },
    {
      "cell_type": "code",
      "execution_count": null,
      "metadata": {
        "id": "j5muDOtjw6nN",
        "outputId": "7542ac32-171a-47cd-a972-be42c3273884",
        "colab": {
          "base_uri": "https://localhost:8080/"
        }
      },
      "outputs": [
        {
          "output_type": "execute_result",
          "data": {
            "text/plain": [
              "50000"
            ]
          },
          "metadata": {},
          "execution_count": 4
        }
      ],
      "source": [
        "len(trainset)"
      ]
    },
    {
      "cell_type": "code",
      "execution_count": null,
      "metadata": {
        "id": "HWEzUvREw6nO",
        "outputId": "f83da9ef-1912-433d-e0ea-90c1294dd958",
        "colab": {
          "base_uri": "https://localhost:8080/"
        }
      },
      "outputs": [
        {
          "output_type": "stream",
          "name": "stdout",
          "text": [
            "Files already downloaded and verified\n"
          ]
        }
      ],
      "source": [
        "testset = torchvision.datasets.CIFAR10(root='./data', train=False, download=True, transform=transform)\n",
        "testloader = torch.utils.data.DataLoader(testset, batch_size = 4, shuffle = False, num_workers = 4)"
      ]
    },
    {
      "cell_type": "code",
      "execution_count": null,
      "metadata": {
        "id": "smp6hMPOw6nO",
        "outputId": "18012f21-3e14-461d-dbf9-d0adbfe56db5",
        "colab": {
          "base_uri": "https://localhost:8080/"
        }
      },
      "outputs": [
        {
          "output_type": "execute_result",
          "data": {
            "text/plain": [
              "10000"
            ]
          },
          "metadata": {},
          "execution_count": 6
        }
      ],
      "source": [
        "len(testset)"
      ]
    },
    {
      "cell_type": "markdown",
      "source": [
        "Loading the pretrained model:"
      ],
      "metadata": {
        "id": "wthDcpNsR0Cc"
      }
    },
    {
      "cell_type": "code",
      "execution_count": null,
      "metadata": {
        "id": "Eo5UyRe8w6nO",
        "outputId": "40d16d42-be65-43ff-b42e-a3a6ebf6166d",
        "colab": {
          "base_uri": "https://localhost:8080/",
          "height": 138,
          "referenced_widgets": [
            "f3e90ace20ff4f4491a9a7ebdbeffb5d",
            "bcd6a4e858a143c294129b21d628cbda",
            "784ca968a5964585b40c1f7ddecbad05",
            "4b6f7c28f6f64f91aa3bbc2bdb4e9b5c",
            "8584c958fc32476c926e36a66838b333",
            "c6cd1b45b1be4a0790a9d60c606fec7b",
            "3da6154b823049e29799aced7cabf129",
            "4ac85ce7b555457283115aa3c5b99964",
            "65059a83556a456aac95431cfe3c80c4",
            "ef6ecc8ccb2f4022b796aa411a56ed28",
            "486d151bf772415ba0d92ecffcaace1d"
          ]
        }
      },
      "outputs": [
        {
          "output_type": "stream",
          "name": "stderr",
          "text": [
            "/usr/local/lib/python3.8/dist-packages/torch/hub.py:267: UserWarning: You are about to download and run code from an untrusted repository. In a future release, this won't be allowed. To add the repository to your trusted list, change the command to {calling_fn}(..., trust_repo=False) and a command prompt will appear asking for an explicit confirmation of trust, or load(..., trust_repo=True), which will assume that the prompt is to be answered with 'yes'. You can also use load(..., trust_repo='check') which will only prompt for confirmation if the repo is not already trusted. This will eventually be the default behaviour\n",
            "  warnings.warn(\n",
            "Downloading: \"https://github.com/chenyaofo/pytorch-cifar-models/zipball/master\" to /root/.cache/torch/hub/master.zip\n",
            "Downloading: \"https://github.com/chenyaofo/pytorch-cifar-models/releases/download/vgg/cifar10_vgg19_bn-57191229.pt\" to /root/.cache/torch/hub/checkpoints/cifar10_vgg19_bn-57191229.pt\n"
          ]
        },
        {
          "output_type": "display_data",
          "data": {
            "text/plain": [
              "  0%|          | 0.00/78.5M [00:00<?, ?B/s]"
            ],
            "application/vnd.jupyter.widget-view+json": {
              "version_major": 2,
              "version_minor": 0,
              "model_id": "f3e90ace20ff4f4491a9a7ebdbeffb5d"
            }
          },
          "metadata": {}
        }
      ],
      "source": [
        "vgg19_CF10 = torch.hub.load(\"chenyaofo/pytorch-cifar-models\", \"cifar10_vgg19_bn\", pretrained=True)"
      ]
    },
    {
      "cell_type": "markdown",
      "source": [
        "Validate function that produces the accuracy and runtime of the model:"
      ],
      "metadata": {
        "id": "3izd3A5eR5mJ"
      }
    },
    {
      "cell_type": "code",
      "execution_count": null,
      "metadata": {
        "id": "vPZUHNWdw6nP"
      },
      "outputs": [],
      "source": [
        "def validate_model(model, dataloader, device = \"cuda\", trials = 1):\n",
        "\n",
        "    model.eval()\n",
        "\n",
        "    dev = torch.device(device)\n",
        "    model.to(dev)\n",
        "\n",
        "    run_time = 0\n",
        "    correct = 0\n",
        "    total = 0 \n",
        "\n",
        "\n",
        "    if (device == \"cuda\"):\n",
        "\n",
        "\n",
        "      for i, (inputs, labels) in enumerate(dataloader):\n",
        "\n",
        "        # print(i)\n",
        "\n",
        "        #print(f\"i = {i}\")\n",
        "        start = time.time()\n",
        "\n",
        "        inputs = inputs.to(dev)\n",
        "        labels = labels.to(dev)\n",
        "        # an option can be of not sending the labels to GPU. Instead sending output back from GPU to CPU and getting the prediction on the CPU.\n",
        "\n",
        "        \n",
        "        outputs = model(inputs)\n",
        "        torch.cuda.synchronize()\n",
        "        # check torch.cuda.current_stream.synchronize()\n",
        "        end = time.time()\n",
        "        run_time += end - start\n",
        "        # outputs = outputs.to(\"cpu\") # an alternative here is ofc to send labels to GPU. \n",
        "\n",
        "        _, predicted = torch.max(outputs,1)\n",
        "\n",
        "        predicted = predicted.to(\"cpu\")\n",
        "        labels = labels.to(\"cpu\")\n",
        "\n",
        "        correct += torch.sum(predicted == labels.data)\n",
        "        total += inputs.size()[0]\n",
        "\n",
        "        if i % 250 == 249:\n",
        "          acc_local = 100 * correct.double() / total\n",
        "          print(f\"[{i+1}] accuracy : {acc_local:.4f}%\")\n",
        "        # in for loop\n",
        "      #in the main fn\n",
        "\n",
        "      run_time = run_time / trials\n",
        "      accuracy = 100 * correct.double() / total\n",
        "\n",
        "      torch.cuda.empty_cache()\n",
        "\n",
        "    elif (device == \"cpu\"):\n",
        "      for i, (inputs, labels) in enumerate(dataloader):\n",
        "\n",
        "        # print(i)totalzeros = 0\n",
        "        totalelements = 0\n",
        "        start = time.time()\n",
        "        # an option can be of not sending the labels to GPU. Instead sending output back from GPU to CPU and getting the prediction on the CPU.\n",
        "\n",
        "        \n",
        "        outputs = model(inputs)\n",
        "        # check torch.cuda.current_stream.synchronize()\n",
        "        end = time.time()\n",
        "        run_time += end - start\n",
        "        # outputs = outputs.to(\"cpu\") # an alternative here is ofc to send labels to GPU. \n",
        "\n",
        "        _, predicted = torch.max(outputs,1)\n",
        "\n",
        "        correct += torch.sum(predicted == labels.data)\n",
        "        total += inputs.size()[0]\n",
        "\n",
        "        if i % 250 == 249:\n",
        "          acc_local = 100 * correct.double() / total\n",
        "          print(f\"[{i+1}] accuracy : {acc_local:.4f}%\")\n",
        "        # in for loop\n",
        "      #in the main fn\n",
        "\n",
        "      run_time = run_time / trials\n",
        "      accuracy = 100 * correct.double() / total\n",
        "\n",
        "\n",
        "    return run_time, accuracy"
      ]
    },
    {
      "cell_type": "code",
      "execution_count": null,
      "metadata": {
        "id": "siGwpijqw6nP"
      },
      "outputs": [],
      "source": [
        "acc_list = []\n",
        "rntm_list = []\n",
        "prune_list = []"
      ]
    },
    {
      "cell_type": "markdown",
      "source": [
        "Validate and record the stats for the original model:"
      ],
      "metadata": {
        "id": "ryheOtt1SDFs"
      }
    },
    {
      "cell_type": "code",
      "execution_count": null,
      "metadata": {
        "id": "1EZ7Kdh0w6nQ",
        "outputId": "300d9901-f531-4a85-f69b-8b7884d6dbfb",
        "colab": {
          "base_uri": "https://localhost:8080/"
        }
      },
      "outputs": [
        {
          "output_type": "stream",
          "name": "stdout",
          "text": [
            "[250] accuracy : 80.9000%\n",
            "[500] accuracy : 81.2500%\n",
            "[750] accuracy : 80.8000%\n",
            "[1000] accuracy : 81.1250%\n",
            "[1250] accuracy : 81.2800%\n",
            "[1500] accuracy : 81.3667%\n",
            "[1750] accuracy : 81.2286%\n",
            "[2000] accuracy : 81.4250%\n",
            "[2250] accuracy : 81.3667%\n",
            "[2500] accuracy : 81.3100%\n"
          ]
        }
      ],
      "source": [
        "# Validate the original model and check the accuracy\n",
        "\n",
        "gpu_og_runtime, gpu_og_accuracy = validate_model(vgg19_CF10, testloader, device = \"cuda\")"
      ]
    },
    {
      "cell_type": "code",
      "execution_count": null,
      "metadata": {
        "id": "H-Slj-5ww6nQ"
      },
      "outputs": [],
      "source": [
        "acc_list.append(gpu_og_accuracy)\n",
        "rntm_list.append(gpu_og_runtime)\n",
        "prune_list.append(0)"
      ]
    },
    {
      "cell_type": "markdown",
      "metadata": {
        "id": "GpKYlBFGw6nR"
      },
      "source": [
        "### Pruning 20% weights structurally along each input channel."
      ]
    },
    {
      "cell_type": "markdown",
      "source": [
        "Function to check sparsity of model:"
      ],
      "metadata": {
        "id": "uSRchWTcSwjo"
      }
    },
    {
      "cell_type": "code",
      "execution_count": null,
      "metadata": {
        "id": "zxmf-9F8w6nR"
      },
      "outputs": [],
      "source": [
        "def check_sparse(model):\n",
        "    totalzeros = 0\n",
        "    totalelements = 0\n",
        "    for child in model.children():\n",
        "        #print(child)\n",
        "        for layer in child.modules(): \n",
        "            if(isinstance(layer,torch.nn.modules.Conv2d) or isinstance(layer,torch.nn.modules.Linear)):\n",
        "                nzeros = torch.sum(layer.weight == 0)\n",
        "                nelement = layer.weight.nelement()\n",
        "                totalzeros += nzeros\n",
        "                totalelements += nelement\n",
        "                print(\"Sparsity: {:.2f}%\".format(100. * float(nzeros) / float(nelement)))\n",
        "    print(\"Global Sparsity: {:.2f}%\".format(100. * float(totalzeros) / float(totalelements)))\n",
        "    return format(100. * float(totalzeros) / float(totalelements))\n",
        "            "
      ]
    },
    {
      "cell_type": "markdown",
      "source": [
        "Function to prune and retrain the model:"
      ],
      "metadata": {
        "id": "0Ki78N5XS0Rm"
      }
    },
    {
      "cell_type": "code",
      "execution_count": null,
      "metadata": {
        "id": "dAD5Jntpw6nR"
      },
      "outputs": [],
      "source": [
        "def prune_and_retrain(model, prune_amount, train_epochs):\n",
        "\n",
        "    # global convs_to_prune\n",
        "    convs_to_prune = (\n",
        "        (vgg19_CF10.features[0], 'weight'), # conv1 of VGG16\n",
        "        (model.features[3], 'weight'),\n",
        "        (model.features[7], 'weight'),\n",
        "        (model.features[10], 'weight'),\n",
        "        (model.features[14], 'weight'),\n",
        "        (model.features[17], 'weight'),\n",
        "        (model.features[20], 'weight'),\n",
        "        (model.features[23], 'weight'),\n",
        "        (model.features[27], 'weight'),\n",
        "        (model.features[30], 'weight'),\n",
        "        (model.features[33], 'weight'),\n",
        "        (model.features[36], 'weight'),\n",
        "        (model.features[40], 'weight'),\n",
        "        (model.features[43], 'weight'),\n",
        "        (model.features[46], 'weight'),\n",
        "        (model.features[49], 'weight'),\n",
        "    )\n",
        "    # global linears_to_prune\n",
        "    linears_to_prune = (\n",
        "        (model.classifier[0], 'weight'),\n",
        "        (model.classifier[3], 'weight')\n",
        "        #  ,(model.classifier[6], 'weight')\n",
        "    ) \n",
        "\n",
        "    for param, name in convs_to_prune:\n",
        "        prune.ln_structured(param, name=name, amount=prune_amount/100, n=2, dim=0)\n",
        "    for param, name in linears_to_prune:\n",
        "        prune.ln_structured(param, name=name, amount=prune_amount/100, n=2, dim=0)\n",
        "        \n",
        "\n",
        "    print(\"===============================\\nSPARSITY\\n===============================\")\n",
        "    check_sparse(model)\n",
        "\n",
        "    # global conv_mask_list\n",
        "    conv_mask_list = []\n",
        "    for param, name in convs_to_prune:\n",
        "        conv_mask_list.append(param.weight_mask)\n",
        "\n",
        "    # global lin_mask_list\n",
        "    lin_mask_list = []\n",
        "    for param, name in linears_to_prune:\n",
        "        lin_mask_list.append(param.weight_mask)\n",
        "\n",
        "    \n",
        "    for param, name in convs_to_prune:\n",
        "        prune.remove(param, name)\n",
        "    for param, name in linears_to_prune:\n",
        "        prune.remove(param, name)\n",
        "\n",
        "    # check accuracy of the pruned model.\n",
        "    print(\"\\n\\n===============================\\nPRUNED MODEL ACCURACY\\n===============================\\n\\n\")\n",
        "    rntm, acc = validate_model(model, testloader, device = \"cuda\")                  \n",
        "    \n",
        "    acc_list.append(acc)\n",
        "    rntm_list.append(rntm)\n",
        "    prune_list.append(prune_amount)    \n",
        "\n",
        "    trainset = torchvision.datasets.CIFAR10(root='./data', train=True,\n",
        "                                            download=True, transform=transform)\n",
        "    # Batch size changed from 4 to 64 as in the paper.\n",
        "    trainloader = torch.utils.data.DataLoader(trainset, batch_size=64,\n",
        "                                              shuffle=False, num_workers=2)\n",
        "    classes = ('plane', 'car', 'bird', 'cat',\n",
        "              'deer', 'dog', 'frog', 'horse', 'ship', 'truck')\n",
        "    \n",
        "    # declare optimiser and loss here\n",
        "    # also inlcude parameters such as weight decay\n",
        "    criterion = nn.CrossEntropyLoss() \n",
        "    optimizer = optim.SGD(model.parameters(), lr = 0.01, momentum=0.9, weight_decay=0.0001)\n",
        "\n",
        "    print(\"\\n\\n===============================\\nTraining model\\n===============================\\n\")\n",
        "    \n",
        "    for epoch in range(train_epochs):\n",
        "        running_loss = 0\n",
        "        model.train()\n",
        "        dev = torch.device(\"cuda\")\n",
        "        model.to(dev)\n",
        "        print(f\"EPOCH = {epoch}\")\n",
        "        \n",
        "        for i, data in enumerate(trainloader, 0):\n",
        "            \n",
        "            inputs, labels = data\n",
        "            inputs = inputs.to(dev)\n",
        "            labels = labels.to(dev)\n",
        "\n",
        "            optimizer.zero_grad()\n",
        "\n",
        "            outputs = model(inputs)\n",
        "\n",
        "            loss = criterion(outputs, labels)\n",
        "            loss.backward()\n",
        "            # at this point we have back propogated the loss. \n",
        "            # but we still hvae not changed the weights.\n",
        "            # before we change the weights, we make the gradients corresponding to the pruned indices 0.\n",
        "\n",
        "            # conv_mask_list = conv_mask_list.to(dev)\n",
        "            # lin_mask_list = lin_mask_list.to(dev)\n",
        "\n",
        "            conv_mask_idx = 0\n",
        "            for param, name in convs_to_prune:\n",
        "                # here param is the layer - linear / conv2d, ...\n",
        "                index_tensor = conv_mask_list[conv_mask_idx]\n",
        "                index_tensor = index_tensor.to(dev)\n",
        "                param.weight.grad = param.weight.grad * index_tensor\n",
        "                conv_mask_idx += 1\n",
        "\n",
        "            lin_mask_idx = 0\n",
        "            for param, name in linears_to_prune:\n",
        "                index_tensor = lin_mask_list[lin_mask_idx]\n",
        "                index_tensor = index_tensor.to(dev)\n",
        "                param.weight.grad = param.weight.grad * index_tensor\n",
        "                lin_mask_idx += 1\n",
        "\n",
        "            optimizer.step()\n",
        "\n",
        "            running_loss += loss.item()\n",
        "\n",
        "            if i % (100) == (100) - 1:\n",
        "                print(f'[{epoch + 1}, {i + 1:5d}] loss: {(running_loss):.8f}')\n",
        "                running_loss = 0.0\n",
        "\n",
        "    print(\"\\n\\n===============================\\nRETRAINED MODEL ACCURACY\\n===============================\\n\\n\")\n",
        "    rntm, acc = validate_model(model, testloader, device = \"cuda\")     \n",
        "\n",
        "\n",
        "    acc_list.append(acc)\n",
        "    rntm_list.append(rntm)\n",
        "    prune_list.append(prune_amount) \n",
        "\n",
        "    print(\"\\n\\n===============================\\nRETRAINED MODEL SPARSITY\\n===============================\\n\")\n",
        "    check_sparse(model) \n",
        "\n",
        "\n",
        "    return model"
      ]
    },
    {
      "cell_type": "markdown",
      "source": [
        "Pruning and retraining the model till accuracy matches the original model:"
      ],
      "metadata": {
        "id": "lVaJyiJoS7vc"
      }
    },
    {
      "cell_type": "code",
      "execution_count": null,
      "metadata": {
        "id": "1pIy_ML-w6nS",
        "outputId": "cf3772bf-7453-4496-9830-aecf715864cc",
        "colab": {
          "base_uri": "https://localhost:8080/"
        }
      },
      "outputs": [
        {
          "output_type": "stream",
          "name": "stdout",
          "text": [
            "===============================\n",
            "SPARSITY\n",
            "===============================\n",
            "Sparsity: 20.31%\n",
            "Sparsity: 20.31%\n",
            "Sparsity: 20.31%\n",
            "Sparsity: 20.31%\n",
            "Sparsity: 19.92%\n",
            "Sparsity: 19.92%\n",
            "Sparsity: 19.92%\n",
            "Sparsity: 19.92%\n",
            "Sparsity: 19.92%\n",
            "Sparsity: 19.92%\n",
            "Sparsity: 19.92%\n",
            "Sparsity: 19.92%\n",
            "Sparsity: 19.92%\n",
            "Sparsity: 19.92%\n",
            "Sparsity: 19.92%\n",
            "Sparsity: 19.92%\n",
            "Sparsity: 19.92%\n",
            "Sparsity: 19.92%\n",
            "Sparsity: 0.00%\n",
            "Global Sparsity: 19.92%\n",
            "\n",
            "\n",
            "===============================\n",
            "PRUNED MODEL ACCURACY\n",
            "===============================\n",
            "\n",
            "\n",
            "[250] accuracy : 26.5000%\n",
            "[500] accuracy : 26.3000%\n",
            "[750] accuracy : 26.0667%\n",
            "[1000] accuracy : 25.8500%\n",
            "[1250] accuracy : 26.2400%\n",
            "[1500] accuracy : 25.8667%\n",
            "[1750] accuracy : 25.7857%\n",
            "[2000] accuracy : 25.6875%\n",
            "[2250] accuracy : 25.8222%\n",
            "[2500] accuracy : 25.7300%\n",
            "Files already downloaded and verified\n",
            "\n",
            "\n",
            "===============================\n",
            "Training model\n",
            "===============================\n",
            "\n",
            "EPOCH = 0\n",
            "[1,   100] loss: 109.48466391\n",
            "[1,   200] loss: 71.73251173\n",
            "[1,   300] loss: 56.33361259\n",
            "[1,   400] loss: 50.78873134\n",
            "[1,   500] loss: 47.53489263\n",
            "[1,   600] loss: 45.84224784\n",
            "[1,   700] loss: 41.91595301\n",
            "EPOCH = 1\n",
            "[2,   100] loss: 36.90682465\n",
            "[2,   200] loss: 32.28693350\n",
            "[2,   300] loss: 33.24564333\n",
            "[2,   400] loss: 26.70660280\n",
            "[2,   500] loss: 27.69401492\n",
            "[2,   600] loss: 29.83656041\n",
            "[2,   700] loss: 26.28086093\n",
            "EPOCH = 2\n",
            "[3,   100] loss: 23.29866956\n",
            "[3,   200] loss: 23.37742861\n",
            "[3,   300] loss: 22.42573131\n",
            "[3,   400] loss: 20.56193776\n",
            "[3,   500] loss: 20.43567942\n",
            "[3,   600] loss: 20.09146126\n",
            "[3,   700] loss: 18.88536605\n",
            "EPOCH = 3\n",
            "[4,   100] loss: 19.36633412\n",
            "[4,   200] loss: 16.81429065\n",
            "[4,   300] loss: 17.09260235\n",
            "[4,   400] loss: 16.21801649\n",
            "[4,   500] loss: 15.38586688\n",
            "[4,   600] loss: 16.88634665\n",
            "[4,   700] loss: 13.36916517\n",
            "\n",
            "\n",
            "===============================\n",
            "RETRAINED MODEL ACCURACY\n",
            "===============================\n",
            "\n",
            "\n",
            "[250] accuracy : 85.1000%\n",
            "[500] accuracy : 85.4000%\n",
            "[750] accuracy : 85.1333%\n",
            "[1000] accuracy : 85.4500%\n",
            "[1250] accuracy : 85.5000%\n",
            "[1500] accuracy : 85.0667%\n",
            "[1750] accuracy : 85.0143%\n",
            "[2000] accuracy : 85.2000%\n",
            "[2250] accuracy : 85.1889%\n",
            "[2500] accuracy : 85.2800%\n",
            "\n",
            "\n",
            "===============================\n",
            "RETRAINED MODEL SPARSITY\n",
            "===============================\n",
            "\n",
            "Sparsity: 20.31%\n",
            "Sparsity: 20.31%\n",
            "Sparsity: 20.31%\n",
            "Sparsity: 20.31%\n",
            "Sparsity: 19.92%\n",
            "Sparsity: 19.92%\n",
            "Sparsity: 19.92%\n",
            "Sparsity: 19.92%\n",
            "Sparsity: 19.92%\n",
            "Sparsity: 19.92%\n",
            "Sparsity: 19.92%\n",
            "Sparsity: 19.92%\n",
            "Sparsity: 19.92%\n",
            "Sparsity: 19.92%\n",
            "Sparsity: 19.92%\n",
            "Sparsity: 19.92%\n",
            "Sparsity: 19.92%\n",
            "Sparsity: 19.92%\n",
            "Sparsity: 0.00%\n",
            "Global Sparsity: 19.92%\n"
          ]
        }
      ],
      "source": [
        "epchs = 4\n",
        "vgg19_CF10_v1 = prune_and_retrain(vgg19_CF10, 20, epchs)\n"
      ]
    },
    {
      "cell_type": "code",
      "execution_count": null,
      "metadata": {
        "id": "EJABZsc2w6nS",
        "outputId": "183becab-51c6-4a49-9764-4f8116b1c531",
        "colab": {
          "base_uri": "https://localhost:8080/"
        }
      },
      "outputs": [
        {
          "output_type": "stream",
          "name": "stdout",
          "text": [
            "===============================\n",
            "SPARSITY\n",
            "===============================\n",
            "Sparsity: 40.62%\n",
            "Sparsity: 40.62%\n",
            "Sparsity: 39.84%\n",
            "Sparsity: 39.84%\n",
            "Sparsity: 39.84%\n",
            "Sparsity: 39.84%\n",
            "Sparsity: 39.84%\n",
            "Sparsity: 39.84%\n",
            "Sparsity: 40.04%\n",
            "Sparsity: 40.04%\n",
            "Sparsity: 40.04%\n",
            "Sparsity: 40.04%\n",
            "Sparsity: 40.04%\n",
            "Sparsity: 40.04%\n",
            "Sparsity: 40.04%\n",
            "Sparsity: 40.04%\n",
            "Sparsity: 40.04%\n",
            "Sparsity: 40.04%\n",
            "Sparsity: 0.00%\n",
            "Global Sparsity: 40.01%\n",
            "\n",
            "\n",
            "===============================\n",
            "PRUNED MODEL ACCURACY\n",
            "===============================\n",
            "\n",
            "\n",
            "[250] accuracy : 19.2000%\n",
            "[500] accuracy : 18.2000%\n",
            "[750] accuracy : 17.8000%\n",
            "[1000] accuracy : 17.6500%\n",
            "[1250] accuracy : 17.7600%\n",
            "[1500] accuracy : 17.6833%\n",
            "[1750] accuracy : 17.9000%\n",
            "[2000] accuracy : 18.1250%\n",
            "[2250] accuracy : 18.0333%\n",
            "[2500] accuracy : 17.9800%\n",
            "Files already downloaded and verified\n",
            "\n",
            "\n",
            "===============================\n",
            "Training model\n",
            "===============================\n",
            "\n",
            "EPOCH = 0\n",
            "[1,   100] loss: 38.21450263\n",
            "[1,   200] loss: 29.85738152\n",
            "[1,   300] loss: 31.92807664\n",
            "[1,   400] loss: 28.56716280\n",
            "[1,   500] loss: 27.63373475\n",
            "[1,   600] loss: 27.17742125\n",
            "[1,   700] loss: 25.30904979\n",
            "EPOCH = 1\n",
            "[2,   100] loss: 24.96402436\n",
            "[2,   200] loss: 20.42352258\n",
            "[2,   300] loss: 22.53976343\n",
            "[2,   400] loss: 19.57882760\n",
            "[2,   500] loss: 21.12228713\n",
            "[2,   600] loss: 19.72871595\n",
            "[2,   700] loss: 18.68702582\n",
            "EPOCH = 2\n",
            "[3,   100] loss: 15.76344631\n",
            "[3,   200] loss: 14.93384926\n",
            "[3,   300] loss: 15.57780679\n",
            "[3,   400] loss: 14.69681532\n",
            "[3,   500] loss: 17.81196883\n",
            "[3,   600] loss: 16.61179059\n",
            "[3,   700] loss: 14.88107132\n",
            "EPOCH = 3\n",
            "[4,   100] loss: 12.90703339\n",
            "[4,   200] loss: 10.95660502\n",
            "[4,   300] loss: 12.58205641\n",
            "[4,   400] loss: 14.20913364\n",
            "[4,   500] loss: 12.18527643\n",
            "[4,   600] loss: 13.79130780\n",
            "[4,   700] loss: 11.95295573\n",
            "\n",
            "\n",
            "===============================\n",
            "RETRAINED MODEL ACCURACY\n",
            "===============================\n",
            "\n",
            "\n",
            "[250] accuracy : 85.7000%\n",
            "[500] accuracy : 85.3000%\n",
            "[750] accuracy : 85.1333%\n",
            "[1000] accuracy : 85.3000%\n",
            "[1250] accuracy : 85.5800%\n",
            "[1500] accuracy : 85.8333%\n",
            "[1750] accuracy : 85.9857%\n",
            "[2000] accuracy : 86.0750%\n",
            "[2250] accuracy : 85.9444%\n",
            "[2500] accuracy : 86.0500%\n",
            "\n",
            "\n",
            "===============================\n",
            "RETRAINED MODEL SPARSITY\n",
            "===============================\n",
            "\n",
            "Sparsity: 40.62%\n",
            "Sparsity: 40.62%\n",
            "Sparsity: 39.84%\n",
            "Sparsity: 39.84%\n",
            "Sparsity: 39.84%\n",
            "Sparsity: 39.84%\n",
            "Sparsity: 39.84%\n",
            "Sparsity: 39.84%\n",
            "Sparsity: 40.04%\n",
            "Sparsity: 40.04%\n",
            "Sparsity: 40.04%\n",
            "Sparsity: 40.04%\n",
            "Sparsity: 40.04%\n",
            "Sparsity: 40.04%\n",
            "Sparsity: 40.04%\n",
            "Sparsity: 40.04%\n",
            "Sparsity: 40.04%\n",
            "Sparsity: 40.04%\n",
            "Sparsity: 0.00%\n",
            "Global Sparsity: 40.01%\n"
          ]
        }
      ],
      "source": [
        "vgg19_CF10_v2 = prune_and_retrain(vgg19_CF10_v1, 40, epchs)"
      ]
    },
    {
      "cell_type": "code",
      "execution_count": null,
      "metadata": {
        "id": "6FkgzXVDw6nT",
        "outputId": "5be99b08-dc0f-409a-f5ea-6d077421d497",
        "colab": {
          "base_uri": "https://localhost:8080/"
        }
      },
      "outputs": [
        {
          "output_type": "stream",
          "name": "stdout",
          "text": [
            "===============================\n",
            "SPARSITY\n",
            "===============================\n",
            "Sparsity: 59.38%\n",
            "Sparsity: 59.38%\n",
            "Sparsity: 60.16%\n",
            "Sparsity: 60.16%\n",
            "Sparsity: 60.16%\n",
            "Sparsity: 60.16%\n",
            "Sparsity: 60.16%\n",
            "Sparsity: 60.16%\n",
            "Sparsity: 59.96%\n",
            "Sparsity: 59.96%\n",
            "Sparsity: 59.96%\n",
            "Sparsity: 59.96%\n",
            "Sparsity: 59.96%\n",
            "Sparsity: 59.96%\n",
            "Sparsity: 59.96%\n",
            "Sparsity: 59.96%\n",
            "Sparsity: 59.96%\n",
            "Sparsity: 59.96%\n",
            "Sparsity: 0.00%\n",
            "Global Sparsity: 59.97%\n",
            "\n",
            "\n",
            "===============================\n",
            "PRUNED MODEL ACCURACY\n",
            "===============================\n",
            "\n",
            "\n",
            "[250] accuracy : 10.3000%\n",
            "[500] accuracy : 9.9500%\n",
            "[750] accuracy : 9.9000%\n",
            "[1000] accuracy : 9.7750%\n",
            "[1250] accuracy : 10.0000%\n",
            "[1500] accuracy : 10.0667%\n",
            "[1750] accuracy : 10.0286%\n",
            "[2000] accuracy : 10.0750%\n",
            "[2250] accuracy : 10.2000%\n",
            "[2500] accuracy : 10.0600%\n",
            "Files already downloaded and verified\n",
            "\n",
            "\n",
            "===============================\n",
            "Training model\n",
            "===============================\n",
            "\n",
            "EPOCH = 0\n",
            "[1,   100] loss: 62.29927590\n",
            "[1,   200] loss: 49.49758902\n",
            "[1,   300] loss: 45.86468242\n",
            "[1,   400] loss: 43.74458003\n",
            "[1,   500] loss: 40.70235364\n",
            "[1,   600] loss: 41.53741701\n",
            "[1,   700] loss: 36.91856905\n",
            "EPOCH = 1\n",
            "[2,   100] loss: 30.18001310\n",
            "[2,   200] loss: 30.85960203\n",
            "[2,   300] loss: 33.30316415\n",
            "[2,   400] loss: 31.13257731\n",
            "[2,   500] loss: 30.45534994\n",
            "[2,   600] loss: 28.64308631\n",
            "[2,   700] loss: 25.70898511\n",
            "EPOCH = 2\n",
            "[3,   100] loss: 24.97842134\n",
            "[3,   200] loss: 26.31608931\n",
            "[3,   300] loss: 24.47170606\n",
            "[3,   400] loss: 23.77215790\n",
            "[3,   500] loss: 23.84347603\n",
            "[3,   600] loss: 24.79815547\n",
            "[3,   700] loss: 22.29867806\n",
            "EPOCH = 3\n",
            "[4,   100] loss: 20.79700224\n",
            "[4,   200] loss: 19.36314304\n",
            "[4,   300] loss: 22.02632361\n",
            "[4,   400] loss: 21.78938771\n",
            "[4,   500] loss: 17.61385756\n",
            "[4,   600] loss: 21.38379003\n",
            "[4,   700] loss: 18.91337455\n",
            "\n",
            "\n",
            "===============================\n",
            "RETRAINED MODEL ACCURACY\n",
            "===============================\n",
            "\n",
            "\n",
            "[250] accuracy : 83.5000%\n",
            "[500] accuracy : 83.6500%\n",
            "[750] accuracy : 83.0333%\n",
            "[1000] accuracy : 82.9500%\n",
            "[1250] accuracy : 83.3000%\n",
            "[1500] accuracy : 83.2667%\n",
            "[1750] accuracy : 83.2571%\n",
            "[2000] accuracy : 83.4375%\n",
            "[2250] accuracy : 83.3444%\n",
            "[2500] accuracy : 83.6000%\n",
            "\n",
            "\n",
            "===============================\n",
            "RETRAINED MODEL SPARSITY\n",
            "===============================\n",
            "\n",
            "Sparsity: 59.38%\n",
            "Sparsity: 59.38%\n",
            "Sparsity: 60.16%\n",
            "Sparsity: 60.16%\n",
            "Sparsity: 60.16%\n",
            "Sparsity: 60.16%\n",
            "Sparsity: 60.16%\n",
            "Sparsity: 60.16%\n",
            "Sparsity: 59.96%\n",
            "Sparsity: 59.96%\n",
            "Sparsity: 59.96%\n",
            "Sparsity: 59.96%\n",
            "Sparsity: 59.96%\n",
            "Sparsity: 59.96%\n",
            "Sparsity: 59.96%\n",
            "Sparsity: 59.96%\n",
            "Sparsity: 59.96%\n",
            "Sparsity: 59.96%\n",
            "Sparsity: 0.00%\n",
            "Global Sparsity: 59.97%\n"
          ]
        }
      ],
      "source": [
        "vgg19_CF10_v3 = prune_and_retrain(vgg19_CF10_v2, 60, epchs)"
      ]
    },
    {
      "cell_type": "code",
      "execution_count": null,
      "metadata": {
        "id": "X3SpS8W2w6nT",
        "outputId": "01649804-d2df-4ec5-8d68-b901cb7a40d0",
        "colab": {
          "base_uri": "https://localhost:8080/"
        }
      },
      "outputs": [
        {
          "output_type": "stream",
          "name": "stdout",
          "text": [
            "===============================\n",
            "SPARSITY\n",
            "===============================\n",
            "Sparsity: 79.69%\n",
            "Sparsity: 79.69%\n",
            "Sparsity: 79.69%\n",
            "Sparsity: 79.69%\n",
            "Sparsity: 80.08%\n",
            "Sparsity: 80.08%\n",
            "Sparsity: 80.08%\n",
            "Sparsity: 80.08%\n",
            "Sparsity: 80.08%\n",
            "Sparsity: 80.08%\n",
            "Sparsity: 80.08%\n",
            "Sparsity: 80.08%\n",
            "Sparsity: 80.08%\n",
            "Sparsity: 80.08%\n",
            "Sparsity: 80.08%\n",
            "Sparsity: 80.08%\n",
            "Sparsity: 80.08%\n",
            "Sparsity: 80.08%\n",
            "Sparsity: 0.00%\n",
            "Global Sparsity: 80.05%\n",
            "\n",
            "\n",
            "===============================\n",
            "PRUNED MODEL ACCURACY\n",
            "===============================\n",
            "\n",
            "\n",
            "[250] accuracy : 10.3000%\n",
            "[500] accuracy : 9.9500%\n",
            "[750] accuracy : 9.8333%\n",
            "[1000] accuracy : 9.7250%\n",
            "[1250] accuracy : 9.9400%\n",
            "[1500] accuracy : 10.0167%\n",
            "[1750] accuracy : 9.9714%\n",
            "[2000] accuracy : 10.0125%\n",
            "[2250] accuracy : 10.1444%\n",
            "[2500] accuracy : 10.0000%\n",
            "Files already downloaded and verified\n",
            "\n",
            "\n",
            "===============================\n",
            "Training model\n",
            "===============================\n",
            "\n",
            "EPOCH = 0\n",
            "[1,   100] loss: 133.30049163\n",
            "[1,   200] loss: 102.21881902\n",
            "[1,   300] loss: 93.66000867\n",
            "[1,   400] loss: 90.58749819\n",
            "[1,   500] loss: 82.77137733\n",
            "[1,   600] loss: 83.94944119\n",
            "[1,   700] loss: 78.36169326\n",
            "EPOCH = 1\n",
            "[2,   100] loss: 74.62301147\n",
            "[2,   200] loss: 70.85937938\n",
            "[2,   300] loss: 68.78148618\n",
            "[2,   400] loss: 68.17379072\n",
            "[2,   500] loss: 63.35304970\n",
            "[2,   600] loss: 69.49241933\n",
            "[2,   700] loss: 63.77659208\n",
            "EPOCH = 2\n",
            "[3,   100] loss: 60.95737383\n",
            "[3,   200] loss: 59.97707775\n",
            "[3,   300] loss: 59.41282707\n",
            "[3,   400] loss: 59.06842291\n",
            "[3,   500] loss: 54.25705224\n",
            "[3,   600] loss: 57.96383637\n",
            "[3,   700] loss: 56.76166302\n",
            "EPOCH = 3\n",
            "[4,   100] loss: 55.20096074\n",
            "[4,   200] loss: 52.93978608\n",
            "[4,   300] loss: 52.75760970\n",
            "[4,   400] loss: 52.04136062\n",
            "[4,   500] loss: 45.51258788\n",
            "[4,   600] loss: 54.21136874\n",
            "[4,   700] loss: 47.64506526\n",
            "\n",
            "\n",
            "===============================\n",
            "RETRAINED MODEL ACCURACY\n",
            "===============================\n",
            "\n",
            "\n",
            "[250] accuracy : 80.9000%\n",
            "[500] accuracy : 81.0500%\n",
            "[750] accuracy : 80.0000%\n",
            "[1000] accuracy : 79.7500%\n",
            "[1250] accuracy : 80.3400%\n",
            "[1500] accuracy : 79.9667%\n",
            "[1750] accuracy : 79.8714%\n",
            "[2000] accuracy : 80.1500%\n",
            "[2250] accuracy : 80.2111%\n",
            "[2500] accuracy : 80.1300%\n",
            "\n",
            "\n",
            "===============================\n",
            "RETRAINED MODEL SPARSITY\n",
            "===============================\n",
            "\n",
            "Sparsity: 79.69%\n",
            "Sparsity: 79.69%\n",
            "Sparsity: 79.69%\n",
            "Sparsity: 79.69%\n",
            "Sparsity: 80.08%\n",
            "Sparsity: 80.08%\n",
            "Sparsity: 80.08%\n",
            "Sparsity: 80.08%\n",
            "Sparsity: 80.08%\n",
            "Sparsity: 80.08%\n",
            "Sparsity: 80.08%\n",
            "Sparsity: 80.08%\n",
            "Sparsity: 80.08%\n",
            "Sparsity: 80.08%\n",
            "Sparsity: 80.08%\n",
            "Sparsity: 80.08%\n",
            "Sparsity: 80.08%\n",
            "Sparsity: 80.08%\n",
            "Sparsity: 0.00%\n",
            "Global Sparsity: 80.05%\n"
          ]
        }
      ],
      "source": [
        "vgg19_CF10_v4 = prune_and_retrain(vgg19_CF10_v3, 80, epchs)"
      ]
    },
    {
      "cell_type": "code",
      "execution_count": null,
      "metadata": {
        "id": "8_jjs2Ssw6nU",
        "outputId": "2d494d81-3f4b-4074-b89d-bb8a9dac7be7",
        "colab": {
          "base_uri": "https://localhost:8080/"
        }
      },
      "outputs": [
        {
          "output_type": "execute_result",
          "data": {
            "text/plain": [
              "[tensor(81.3100, dtype=torch.float64),\n",
              " tensor(25.7300, dtype=torch.float64),\n",
              " tensor(85.2800, dtype=torch.float64),\n",
              " tensor(17.9800, dtype=torch.float64),\n",
              " tensor(86.0500, dtype=torch.float64),\n",
              " tensor(10.0600, dtype=torch.float64),\n",
              " tensor(83.6000, dtype=torch.float64),\n",
              " tensor(10., dtype=torch.float64),\n",
              " tensor(80.1300, dtype=torch.float64)]"
            ]
          },
          "metadata": {},
          "execution_count": 20
        }
      ],
      "source": [
        "acc_list"
      ]
    },
    {
      "cell_type": "code",
      "execution_count": null,
      "metadata": {
        "id": "zivIucNXw6nU",
        "outputId": "8157d7db-4285-4923-ead7-559a833dd2e4",
        "colab": {
          "base_uri": "https://localhost:8080/"
        }
      },
      "outputs": [
        {
          "output_type": "execute_result",
          "data": {
            "text/plain": [
              "[19.244603633880615,\n",
              " 12.676271438598633,\n",
              " 12.521683931350708,\n",
              " 12.874413967132568,\n",
              " 12.978211402893066,\n",
              " 13.029207706451416,\n",
              " 12.934014320373535,\n",
              " 13.122860193252563,\n",
              " 12.741387605667114]"
            ]
          },
          "metadata": {},
          "execution_count": 21
        }
      ],
      "source": [
        "rntm_list"
      ]
    },
    {
      "cell_type": "markdown",
      "source": [
        "Plotting the results:"
      ],
      "metadata": {
        "id": "69PwurL9TFGp"
      }
    },
    {
      "cell_type": "code",
      "source": [
        "import numpy as np\n",
        "import matplotlib.pyplot as plt\n",
        "\n",
        "\n",
        "new_accu_list = []\n",
        "for ele in acc_list:\n",
        "    new_accu_list.append(ele.item())\n",
        "\n",
        "baseline = np.ones(len(new_accu_list))*81.31\n",
        "# plotting\n",
        "plt.title(\"VGG-19 - Accuracy\")\n",
        "plt.xlabel(\"Pruned percentage\")\n",
        "plt.ylabel(\"Accuracy\")\n",
        "plt.plot(prune_list, new_accu_list, color =\"red\")\n",
        "plt.plot(prune_list, baseline, color =\"green\")\n",
        "plt.show()\n",
        "\n",
        "\n",
        "plt.title(\"VGG-19 - Runtime\")\n",
        "plt.xlabel(\"Pruned percentage\")\n",
        "plt.ylabel(\"Runtime\")\n",
        "plt.plot(prune_list, rntm_list, 'r+', color =\"black\")\n",
        "plt.show()"
      ],
      "metadata": {
        "id": "o1CPAA2V3qB0",
        "colab": {
          "base_uri": "https://localhost:8080/",
          "height": 574
        },
        "outputId": "97959b61-6054-4686-9a44-5fc5c86f9974"
      },
      "execution_count": null,
      "outputs": [
        {
          "output_type": "display_data",
          "data": {
            "text/plain": [
              "<Figure size 432x288 with 1 Axes>"
            ],
            "image/png": "[encoded data removed]"
          },
          "metadata": {
            "needs_background": "light"
          }
        },
        {
          "output_type": "display_data",
          "data": {
            "text/plain": [
              "<Figure size 432x288 with 1 Axes>"
            ],
            "image/png": "[encoded data removed]"
          },
          "metadata": {
            "needs_background": "light"
          }
        }
      ]
    }
  ],
  "metadata": {
    "kernelspec": {
      "display_name": "Python 3.10.6 ('DL')",
      "language": "python",
      "name": "python3"
    },
    "language_info": {
      "codemirror_mode": {
        "name": "ipython",
        "version": 3
      },
      "file_extension": ".py",
      "mimetype": "text/x-python",
      "name": "python",
      "nbconvert_exporter": "python",
      "pygments_lexer": "ipython3",
      "version": "3.10.6"
    },
    "orig_nbformat": 4,
    "vscode": {
      "interpreter": {
        "hash": "00c028aeb00f7fdff40cd87af2538ecbb62e22841edfeded95bfce39532fb4e3"
      }
    },
    "colab": {
      "provenance": []
    },
    "accelerator": "GPU",
    "gpuClass": "standard",
    "widgets": {
      "application/vnd.jupyter.widget-state+json": {
        "4cb96aab5d484b8bbf4c8783115c145e": {
          "model_module": "@jupyter-widgets/controls",
          "model_name": "HBoxModel",
          "model_module_version": "1.5.0",
          "state": {
            "_dom_classes": [],
            "_model_module": "@jupyter-widgets/controls",
            "_model_module_version": "1.5.0",
            "_model_name": "HBoxModel",
            "_view_count": null,
            "_view_module": "@jupyter-widgets/controls",
            "_view_module_version": "1.5.0",
            "_view_name": "HBoxView",
            "box_style": "",
            "children": [
              "IPY_MODEL_7e363a48560c49ff9bf05dd00058045c",
              "IPY_MODEL_35eafd42127744c5b6ef9b83b9d3b238",
              "IPY_MODEL_cf3a4dcd9b4e4e24b7a3f9d9530417f4"
            ],
            "layout": "IPY_MODEL_7d199495160d4eda97e9269951543f18"
          }
        },
        "7e363a48560c49ff9bf05dd00058045c": {
          "model_module": "@jupyter-widgets/controls",
          "model_name": "HTMLModel",
          "model_module_version": "1.5.0",
          "state": {
            "_dom_classes": [],
            "_model_module": "@jupyter-widgets/controls",
            "_model_module_version": "1.5.0",
            "_model_name": "HTMLModel",
            "_view_count": null,
            "_view_module": "@jupyter-widgets/controls",
            "_view_module_version": "1.5.0",
            "_view_name": "HTMLView",
            "description": "",
            "description_tooltip": null,
            "layout": "IPY_MODEL_4b9b9b1b302e4b95a29084378ff59243",
            "placeholder": "​",
            "style": "IPY_MODEL_d2675b1037b741408410ef19d0f1f4e5",
            "value": "100%"
          }
        },
        "35eafd42127744c5b6ef9b83b9d3b238": {
          "model_module": "@jupyter-widgets/controls",
          "model_name": "FloatProgressModel",
          "model_module_version": "1.5.0",
          "state": {
            "_dom_classes": [],
            "_model_module": "@jupyter-widgets/controls",
            "_model_module_version": "1.5.0",
            "_model_name": "FloatProgressModel",
            "_view_count": null,
            "_view_module": "@jupyter-widgets/controls",
            "_view_module_version": "1.5.0",
            "_view_name": "ProgressView",
            "bar_style": "success",
            "description": "",
            "description_tooltip": null,
            "layout": "IPY_MODEL_daca220742024d48b6b1bbba58cb6ce2",
            "max": 170498071,
            "min": 0,
            "orientation": "horizontal",
            "style": "IPY_MODEL_83d5711693144e158498c238ae570d06",
            "value": 170498071
          }
        },
        "cf3a4dcd9b4e4e24b7a3f9d9530417f4": {
          "model_module": "@jupyter-widgets/controls",
          "model_name": "HTMLModel",
          "model_module_version": "1.5.0",
          "state": {
            "_dom_classes": [],
            "_model_module": "@jupyter-widgets/controls",
            "_model_module_version": "1.5.0",
            "_model_name": "HTMLModel",
            "_view_count": null,
            "_view_module": "@jupyter-widgets/controls",
            "_view_module_version": "1.5.0",
            "_view_name": "HTMLView",
            "description": "",
            "description_tooltip": null,
            "layout": "IPY_MODEL_94a612cf30994517ad804c4d229fd9b3",
            "placeholder": "​",
            "style": "IPY_MODEL_7856133246ea4c81aa67a36a3336cdd2",
            "value": " 170498071/170498071 [00:02&lt;00:00, 82332359.23it/s]"
          }
        },
        "7d199495160d4eda97e9269951543f18": {
          "model_module": "@jupyter-widgets/base",
          "model_name": "LayoutModel",
          "model_module_version": "1.2.0",
          "state": {
            "_model_module": "@jupyter-widgets/base",
            "_model_module_version": "1.2.0",
            "_model_name": "LayoutModel",
            "_view_count": null,
            "_view_module": "@jupyter-widgets/base",
            "_view_module_version": "1.2.0",
            "_view_name": "LayoutView",
            "align_content": null,
            "align_items": null,
            "align_self": null,
            "border": null,
            "bottom": null,
            "display": null,
            "flex": null,
            "flex_flow": null,
            "grid_area": null,
            "grid_auto_columns": null,
            "grid_auto_flow": null,
            "grid_auto_rows": null,
            "grid_column": null,
            "grid_gap": null,
            "grid_row": null,
            "grid_template_areas": null,
            "grid_template_columns": null,
            "grid_template_rows": null,
            "height": null,
            "justify_content": null,
            "justify_items": null,
            "left": null,
            "margin": null,
            "max_height": null,
            "max_width": null,
            "min_height": null,
            "min_width": null,
            "object_fit": null,
            "object_position": null,
            "order": null,
            "overflow": null,
            "overflow_x": null,
            "overflow_y": null,
            "padding": null,
            "right": null,
            "top": null,
            "visibility": null,
            "width": null
          }
        },
        "4b9b9b1b302e4b95a29084378ff59243": {
          "model_module": "@jupyter-widgets/base",
          "model_name": "LayoutModel",
          "model_module_version": "1.2.0",
          "state": {
            "_model_module": "@jupyter-widgets/base",
            "_model_module_version": "1.2.0",
            "_model_name": "LayoutModel",
            "_view_count": null,
            "_view_module": "@jupyter-widgets/base",
            "_view_module_version": "1.2.0",
            "_view_name": "LayoutView",
            "align_content": null,
            "align_items": null,
            "align_self": null,
            "border": null,
            "bottom": null,
            "display": null,
            "flex": null,
            "flex_flow": null,
            "grid_area": null,
            "grid_auto_columns": null,
            "grid_auto_flow": null,
            "grid_auto_rows": null,
            "grid_column": null,
            "grid_gap": null,
            "grid_row": null,
            "grid_template_areas": null,
            "grid_template_columns": null,
            "grid_template_rows": null,
            "height": null,
            "justify_content": null,
            "justify_items": null,
            "left": null,
            "margin": null,
            "max_height": null,
            "max_width": null,
            "min_height": null,
            "min_width": null,
            "object_fit": null,
            "object_position": null,
            "order": null,
            "overflow": null,
            "overflow_x": null,
            "overflow_y": null,
            "padding": null,
            "right": null,
            "top": null,
            "visibility": null,
            "width": null
          }
        },
        "d2675b1037b741408410ef19d0f1f4e5": {
          "model_module": "@jupyter-widgets/controls",
          "model_name": "DescriptionStyleModel",
          "model_module_version": "1.5.0",
          "state": {
            "_model_module": "@jupyter-widgets/controls",
            "_model_module_version": "1.5.0",
            "_model_name": "DescriptionStyleModel",
            "_view_count": null,
            "_view_module": "@jupyter-widgets/base",
            "_view_module_version": "1.2.0",
            "_view_name": "StyleView",
            "description_width": ""
          }
        },
        "daca220742024d48b6b1bbba58cb6ce2": {
          "model_module": "@jupyter-widgets/base",
          "model_name": "LayoutModel",
          "model_module_version": "1.2.0",
          "state": {
            "_model_module": "@jupyter-widgets/base",
            "_model_module_version": "1.2.0",
            "_model_name": "LayoutModel",
            "_view_count": null,
            "_view_module": "@jupyter-widgets/base",
            "_view_module_version": "1.2.0",
            "_view_name": "LayoutView",
            "align_content": null,
            "align_items": null,
            "align_self": null,
            "border": null,
            "bottom": null,
            "display": null,
            "flex": null,
            "flex_flow": null,
            "grid_area": null,
            "grid_auto_columns": null,
            "grid_auto_flow": null,
            "grid_auto_rows": null,
            "grid_column": null,
            "grid_gap": null,
            "grid_row": null,
            "grid_template_areas": null,
            "grid_template_columns": null,
            "grid_template_rows": null,
            "height": null,
            "justify_content": null,
            "justify_items": null,
            "left": null,
            "margin": null,
            "max_height": null,
            "max_width": null,
            "min_height": null,
            "min_width": null,
            "object_fit": null,
            "object_position": null,
            "order": null,
            "overflow": null,
            "overflow_x": null,
            "overflow_y": null,
            "padding": null,
            "right": null,
            "top": null,
            "visibility": null,
            "width": null
          }
        },
        "83d5711693144e158498c238ae570d06": {
          "model_module": "@jupyter-widgets/controls",
          "model_name": "ProgressStyleModel",
          "model_module_version": "1.5.0",
          "state": {
            "_model_module": "@jupyter-widgets/controls",
            "_model_module_version": "1.5.0",
            "_model_name": "ProgressStyleModel",
            "_view_count": null,
            "_view_module": "@jupyter-widgets/base",
            "_view_module_version": "1.2.0",
            "_view_name": "StyleView",
            "bar_color": null,
            "description_width": ""
          }
        },
        "94a612cf30994517ad804c4d229fd9b3": {
          "model_module": "@jupyter-widgets/base",
          "model_name": "LayoutModel",
          "model_module_version": "1.2.0",
          "state": {
            "_model_module": "@jupyter-widgets/base",
            "_model_module_version": "1.2.0",
            "_model_name": "LayoutModel",
            "_view_count": null,
            "_view_module": "@jupyter-widgets/base",
            "_view_module_version": "1.2.0",
            "_view_name": "LayoutView",
            "align_content": null,
            "align_items": null,
            "align_self": null,
            "border": null,
            "bottom": null,
            "display": null,
            "flex": null,
            "flex_flow": null,
            "grid_area": null,
            "grid_auto_columns": null,
            "grid_auto_flow": null,
            "grid_auto_rows": null,
            "grid_column": null,
            "grid_gap": null,
            "grid_row": null,
            "grid_template_areas": null,
            "grid_template_columns": null,
            "grid_template_rows": null,
            "height": null,
            "justify_content": null,
            "justify_items": null,
            "left": null,
            "margin": null,
            "max_height": null,
            "max_width": null,
            "min_height": null,
            "min_width": null,
            "object_fit": null,
            "object_position": null,
            "order": null,
            "overflow": null,
            "overflow_x": null,
            "overflow_y": null,
            "padding": null,
            "right": null,
            "top": null,
            "visibility": null,
            "width": null
          }
        },
        "7856133246ea4c81aa67a36a3336cdd2": {
          "model_module": "@jupyter-widgets/controls",
          "model_name": "DescriptionStyleModel",
          "model_module_version": "1.5.0",
          "state": {
            "_model_module": "@jupyter-widgets/controls",
            "_model_module_version": "1.5.0",
            "_model_name": "DescriptionStyleModel",
            "_view_count": null,
            "_view_module": "@jupyter-widgets/base",
            "_view_module_version": "1.2.0",
            "_view_name": "StyleView",
            "description_width": ""
          }
        },
        "f3e90ace20ff4f4491a9a7ebdbeffb5d": {
          "model_module": "@jupyter-widgets/controls",
          "model_name": "HBoxModel",
          "model_module_version": "1.5.0",
          "state": {
            "_dom_classes": [],
            "_model_module": "@jupyter-widgets/controls",
            "_model_module_version": "1.5.0",
            "_model_name": "HBoxModel",
            "_view_count": null,
            "_view_module": "@jupyter-widgets/controls",
            "_view_module_version": "1.5.0",
            "_view_name": "HBoxView",
            "box_style": "",
            "children": [
              "IPY_MODEL_bcd6a4e858a143c294129b21d628cbda",
              "IPY_MODEL_784ca968a5964585b40c1f7ddecbad05",
              "IPY_MODEL_4b6f7c28f6f64f91aa3bbc2bdb4e9b5c"
            ],
            "layout": "IPY_MODEL_8584c958fc32476c926e36a66838b333"
          }
        },
        "bcd6a4e858a143c294129b21d628cbda": {
          "model_module": "@jupyter-widgets/controls",
          "model_name": "HTMLModel",
          "model_module_version": "1.5.0",
          "state": {
            "_dom_classes": [],
            "_model_module": "@jupyter-widgets/controls",
            "_model_module_version": "1.5.0",
            "_model_name": "HTMLModel",
            "_view_count": null,
            "_view_module": "@jupyter-widgets/controls",
            "_view_module_version": "1.5.0",
            "_view_name": "HTMLView",
            "description": "",
            "description_tooltip": null,
            "layout": "IPY_MODEL_c6cd1b45b1be4a0790a9d60c606fec7b",
            "placeholder": "​",
            "style": "IPY_MODEL_3da6154b823049e29799aced7cabf129",
            "value": "100%"
          }
        },
        "784ca968a5964585b40c1f7ddecbad05": {
          "model_module": "@jupyter-widgets/controls",
          "model_name": "FloatProgressModel",
          "model_module_version": "1.5.0",
          "state": {
            "_dom_classes": [],
            "_model_module": "@jupyter-widgets/controls",
            "_model_module_version": "1.5.0",
            "_model_name": "FloatProgressModel",
            "_view_count": null,
            "_view_module": "@jupyter-widgets/controls",
            "_view_module_version": "1.5.0",
            "_view_name": "ProgressView",
            "bar_style": "success",
            "description": "",
            "description_tooltip": null,
            "layout": "IPY_MODEL_4ac85ce7b555457283115aa3c5b99964",
            "max": 82346709,
            "min": 0,
            "orientation": "horizontal",
            "style": "IPY_MODEL_65059a83556a456aac95431cfe3c80c4",
            "value": 82346709
          }
        },
        "4b6f7c28f6f64f91aa3bbc2bdb4e9b5c": {
          "model_module": "@jupyter-widgets/controls",
          "model_name": "HTMLModel",
          "model_module_version": "1.5.0",
          "state": {
            "_dom_classes": [],
            "_model_module": "@jupyter-widgets/controls",
            "_model_module_version": "1.5.0",
            "_model_name": "HTMLModel",
            "_view_count": null,
            "_view_module": "@jupyter-widgets/controls",
            "_view_module_version": "1.5.0",
            "_view_name": "HTMLView",
            "description": "",
            "description_tooltip": null,
            "layout": "IPY_MODEL_ef6ecc8ccb2f4022b796aa411a56ed28",
            "placeholder": "​",
            "style": "IPY_MODEL_486d151bf772415ba0d92ecffcaace1d",
            "value": " 78.5M/78.5M [00:00&lt;00:00, 81.4MB/s]"
          }
        },
        "8584c958fc32476c926e36a66838b333": {
          "model_module": "@jupyter-widgets/base",
          "model_name": "LayoutModel",
          "model_module_version": "1.2.0",
          "state": {
            "_model_module": "@jupyter-widgets/base",
            "_model_module_version": "1.2.0",
            "_model_name": "LayoutModel",
            "_view_count": null,
            "_view_module": "@jupyter-widgets/base",
            "_view_module_version": "1.2.0",
            "_view_name": "LayoutView",
            "align_content": null,
            "align_items": null,
            "align_self": null,
            "border": null,
            "bottom": null,
            "display": null,
            "flex": null,
            "flex_flow": null,
            "grid_area": null,
            "grid_auto_columns": null,
            "grid_auto_flow": null,
            "grid_auto_rows": null,
            "grid_column": null,
            "grid_gap": null,
            "grid_row": null,
            "grid_template_areas": null,
            "grid_template_columns": null,
            "grid_template_rows": null,
            "height": null,
            "justify_content": null,
            "justify_items": null,
            "left": null,
            "margin": null,
            "max_height": null,
            "max_width": null,
            "min_height": null,
            "min_width": null,
            "object_fit": null,
            "object_position": null,
            "order": null,
            "overflow": null,
            "overflow_x": null,
            "overflow_y": null,
            "padding": null,
            "right": null,
            "top": null,
            "visibility": null,
            "width": null
          }
        },
        "c6cd1b45b1be4a0790a9d60c606fec7b": {
          "model_module": "@jupyter-widgets/base",
          "model_name": "LayoutModel",
          "model_module_version": "1.2.0",
          "state": {
            "_model_module": "@jupyter-widgets/base",
            "_model_module_version": "1.2.0",
            "_model_name": "LayoutModel",
            "_view_count": null,
            "_view_module": "@jupyter-widgets/base",
            "_view_module_version": "1.2.0",
            "_view_name": "LayoutView",
            "align_content": null,
            "align_items": null,
            "align_self": null,
            "border": null,
            "bottom": null,
            "display": null,
            "flex": null,
            "flex_flow": null,
            "grid_area": null,
            "grid_auto_columns": null,
            "grid_auto_flow": null,
            "grid_auto_rows": null,
            "grid_column": null,
            "grid_gap": null,
            "grid_row": null,
            "grid_template_areas": null,
            "grid_template_columns": null,
            "grid_template_rows": null,
            "height": null,
            "justify_content": null,
            "justify_items": null,
            "left": null,
            "margin": null,
            "max_height": null,
            "max_width": null,
            "min_height": null,
            "min_width": null,
            "object_fit": null,
            "object_position": null,
            "order": null,
            "overflow": null,
            "overflow_x": null,
            "overflow_y": null,
            "padding": null,
            "right": null,
            "top": null,
            "visibility": null,
            "width": null
          }
        },
        "3da6154b823049e29799aced7cabf129": {
          "model_module": "@jupyter-widgets/controls",
          "model_name": "DescriptionStyleModel",
          "model_module_version": "1.5.0",
          "state": {
            "_model_module": "@jupyter-widgets/controls",
            "_model_module_version": "1.5.0",
            "_model_name": "DescriptionStyleModel",
            "_view_count": null,
            "_view_module": "@jupyter-widgets/base",
            "_view_module_version": "1.2.0",
            "_view_name": "StyleView",
            "description_width": ""
          }
        },
        "4ac85ce7b555457283115aa3c5b99964": {
          "model_module": "@jupyter-widgets/base",
          "model_name": "LayoutModel",
          "model_module_version": "1.2.0",
          "state": {
            "_model_module": "@jupyter-widgets/base",
            "_model_module_version": "1.2.0",
            "_model_name": "LayoutModel",
            "_view_count": null,
            "_view_module": "@jupyter-widgets/base",
            "_view_module_version": "1.2.0",
            "_view_name": "LayoutView",
            "align_content": null,
            "align_items": null,
            "align_self": null,
            "border": null,
            "bottom": null,
            "display": null,
            "flex": null,
            "flex_flow": null,
            "grid_area": null,
            "grid_auto_columns": null,
            "grid_auto_flow": null,
            "grid_auto_rows": null,
            "grid_column": null,
            "grid_gap": null,
            "grid_row": null,
            "grid_template_areas": null,
            "grid_template_columns": null,
            "grid_template_rows": null,
            "height": null,
            "justify_content": null,
            "justify_items": null,
            "left": null,
            "margin": null,
            "max_height": null,
            "max_width": null,
            "min_height": null,
            "min_width": null,
            "object_fit": null,
            "object_position": null,
            "order": null,
            "overflow": null,
            "overflow_x": null,
            "overflow_y": null,
            "padding": null,
            "right": null,
            "top": null,
            "visibility": null,
            "width": null
          }
        },
        "65059a83556a456aac95431cfe3c80c4": {
          "model_module": "@jupyter-widgets/controls",
          "model_name": "ProgressStyleModel",
          "model_module_version": "1.5.0",
          "state": {
            "_model_module": "@jupyter-widgets/controls",
            "_model_module_version": "1.5.0",
            "_model_name": "ProgressStyleModel",
            "_view_count": null,
            "_view_module": "@jupyter-widgets/base",
            "_view_module_version": "1.2.0",
            "_view_name": "StyleView",
            "bar_color": null,
            "description_width": ""
          }
        },
        "ef6ecc8ccb2f4022b796aa411a56ed28": {
          "model_module": "@jupyter-widgets/base",
          "model_name": "LayoutModel",
          "model_module_version": "1.2.0",
          "state": {
            "_model_module": "@jupyter-widgets/base",
            "_model_module_version": "1.2.0",
            "_model_name": "LayoutModel",
            "_view_count": null,
            "_view_module": "@jupyter-widgets/base",
            "_view_module_version": "1.2.0",
            "_view_name": "LayoutView",
            "align_content": null,
            "align_items": null,
            "align_self": null,
            "border": null,
            "bottom": null,
            "display": null,
            "flex": null,
            "flex_flow": null,
            "grid_area": null,
            "grid_auto_columns": null,
            "grid_auto_flow": null,
            "grid_auto_rows": null,
            "grid_column": null,
            "grid_gap": null,
            "grid_row": null,
            "grid_template_areas": null,
            "grid_template_columns": null,
            "grid_template_rows": null,
            "height": null,
            "justify_content": null,
            "justify_items": null,
            "left": null,
            "margin": null,
            "max_height": null,
            "max_width": null,
            "min_height": null,
            "min_width": null,
            "object_fit": null,
            "object_position": null,
            "order": null,
            "overflow": null,
            "overflow_x": null,
            "overflow_y": null,
            "padding": null,
            "right": null,
            "top": null,
            "visibility": null,
            "width": null
          }
        },
        "486d151bf772415ba0d92ecffcaace1d": {
          "model_module": "@jupyter-widgets/controls",
          "model_name": "DescriptionStyleModel",
          "model_module_version": "1.5.0",
          "state": {
            "_model_module": "@jupyter-widgets/controls",
            "_model_module_version": "1.5.0",
            "_model_name": "DescriptionStyleModel",
            "_view_count": null,
            "_view_module": "@jupyter-widgets/base",
            "_view_module_version": "1.2.0",
            "_view_name": "StyleView",
            "description_width": ""
          }
        }
      }
    }
  },
  "nbformat": 4,
  "nbformat_minor": 0
}