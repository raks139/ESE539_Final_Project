{
  "cells": [
    {
      "cell_type": "code",
      "execution_count": 1,
      "metadata": {
        "id": "MEMZzAagj37D",
        "colab": {
          "base_uri": "https://localhost:8080/"
        },
        "outputId": "e39886c2-3e3a-4925-e622-082040015d87"
      },
      "outputs": [
        {
          "output_type": "stream",
          "name": "stdout",
          "text": [
            "PyTorch Version:  1.13.0+cu116\n",
            "Torchvision Version:  0.14.0+cu116\n"
          ]
        }
      ],
      "source": [
        "import torch\n",
        "import torch.nn as nn\n",
        "import torchvision\n",
        "import torchvision.transforms as transforms\n",
        "import numpy as np\n",
        "import copy\n",
        "import math\n",
        "from torchvision import datasets, models\n",
        "from pathlib import Path\n",
        "import torch.optim as optim\n",
        "import torch.nn.utils.prune as prune\n",
        "import pdb\n",
        "import time\n",
        "print(\"PyTorch Version: \", torch.__version__)\n",
        "print(\"Torchvision Version: \", torchvision.__version__)\n",
        "!mkdir data\n",
        "data_dir = Path('./data')\n",
        "net_fn = Path('./net')\n",
        "\n",
        "import matplotlib.pyplot as plt\n",
        "import os\n",
        "\n",
        "torch.manual_seed(0)\n",
        "np.random.seed(0)"
      ]
    },
    {
      "cell_type": "markdown",
      "source": [
        "Function to quantize MobileNetV2 model:"
      ],
      "metadata": {
        "id": "c-nPwAlIOTDH"
      }
    },
    {
      "cell_type": "code",
      "source": [
        "def quantize_model_mbnet(model):\n",
        "\n",
        "    class ogMBNET(torch.nn.Module):\n",
        "        def __init__(self, pretrained_model):\n",
        "            super(ogMBNET, self).__init__()\n",
        "\n",
        "            self.pretrained = pretrained_model\n",
        "            self.quant = torch.quantization.QuantStub()\n",
        "            self.dequant = torch.quantization.DeQuantStub()\n",
        "\n",
        "        def forward(self, x):\n",
        "\n",
        "            x = self.quant(x)\n",
        "            x = self.pretrained(x)\n",
        "            x = self.dequant(x)\n",
        "            return x\n",
        "            \n",
        "    my_model = ogMBNET(model)\n",
        "    my_model.eval() \n",
        "    my_model\n",
        "\n",
        "    # TODO attach fbgemm config to model\n",
        "    my_model.qconfig = torch.quantization.get_default_qconfig('fbgemm')\n",
        "\n",
        "    # TODO Prepare model for quantization\n",
        "    my_model_prepared = torch.quantization.prepare(my_model) \n",
        "\n",
        "    # TODO Run validation on prepared model for 1024 images\n",
        "    with torch.inference_mode():\n",
        "        for i, (inputs, labels) in enumerate(testloader):\n",
        "            if (i >= 1024):\n",
        "                break\n",
        "\n",
        "            inputs = inputs.to(\"cpu\")\n",
        "            labels = labels.to(\"cpu\")\n",
        "\n",
        "            my_model_prepared = my_model_prepared.to(\"cpu\")\n",
        "            outputs = my_model_prepared(inputs)\n",
        "            outputs = outputs.to(\"cpu\")\n",
        "\n",
        "    # TODO Convert model to quantized model\n",
        "    my_model_int8 = torch.quantization.convert(my_model_prepared)\n",
        "\n",
        "    return my_model_int8"
      ],
      "metadata": {
        "id": "xBxpGHVpvEpP"
      },
      "execution_count": 2,
      "outputs": []
    },
    {
      "cell_type": "code",
      "execution_count": 3,
      "metadata": {
        "id": "XQymQInYj37I"
      },
      "outputs": [],
      "source": [
        "'''\n",
        "=============================================================================================================\n",
        "Note from Arjun and Rakshana - \n",
        "This class defines the MobileNet Architecture.\n",
        "It was borrowed from https://github.com/chenyaofo/pytorch-cifar-models.\n",
        "\n",
        "The class was changed slightly as by default residual networks dont allow for \n",
        "direct quantization. This is because the residual addition does not support\n",
        "quantised operation. So that part of the inverted residual block was changed \n",
        "to allow the model to be quantised.\n",
        "\n",
        "The class definition as it is available online starts after this\n",
        "=============================================================================================================\n",
        "\n",
        "\n",
        "Modified from https://raw.githubusercontent.com/pytorch/vision/v0.9.1/torchvision/models/mobilenetv2.py\n",
        "\n",
        "BSD 3-Clause License\n",
        "\n",
        "Copyright (c) Soumith Chintala 2016,\n",
        "All rights reserved.\n",
        "\n",
        "Redistribution and use in source and binary forms, with or without\n",
        "modification, are permitted provided that the following conditions are met:\n",
        "\n",
        "* Redistributions of source code must retain the above copyright notice, this\n",
        "  list of conditions and the following disclaimer.\n",
        "\n",
        "* Redistributions in binary form must reproduce the above copyright notice,\n",
        "  this list of conditions and the following disclaimer in the documentation\n",
        "  and/or other materials provided with the distribution.\n",
        "\n",
        "* Neither the name of the copyright holder nor the names of its\n",
        "  contributors may be used to endorse or promote products derived from\n",
        "  this software without specific prior written permission.\n",
        "\n",
        "THIS SOFTWARE IS PROVIDED BY THE COPYRIGHT HOLDERS AND CONTRIBUTORS \"AS IS\"\n",
        "AND ANY EXPRESS OR IMPLIED WARRANTIES, INCLUDING, BUT NOT LIMITED TO, THE\n",
        "IMPLIED WARRANTIES OF MERCHANTABILITY AND FITNESS FOR A PARTICULAR PURPOSE ARE\n",
        "DISCLAIMED. IN NO EVENT SHALL THE COPYRIGHT HOLDER OR CONTRIBUTORS BE LIABLE\n",
        "FOR ANY DIRECT, INDIRECT, INCIDENTAL, SPECIAL, EXEMPLARY, OR CONSEQUENTIAL\n",
        "DAMAGES (INCLUDING, BUT NOT LIMITED TO, PROCUREMENT OF SUBSTITUTE GOODS OR\n",
        "SERVICES; LOSS OF USE, DATA, OR PROFITS; OR BUSINESS INTERRUPTION) HOWEVER\n",
        "CAUSED AND ON ANY THEORY OF LIABILITY, WHETHER IN CONTRACT, STRICT LIABILITY,\n",
        "OR TORT (INCLUDING NEGLIGENCE OR OTHERWISE) ARISING IN ANY WAY OUT OF THE USE\n",
        "OF THIS SOFTWARE, EVEN IF ADVISED OF THE POSSIBILITY OF SUCH DAMAGE.\n",
        "'''\n",
        "import sys\n",
        "import torch\n",
        "from torch import nn\n",
        "from torch import Tensor\n",
        "try:\n",
        "    from torch.hub import load_state_dict_from_url\n",
        "except ImportError:\n",
        "    from torch.utils.model_zoo import load_url as load_state_dict_from_url\n",
        "\n",
        "from functools import partial\n",
        "from typing import Dict, Type, Any, Callable, Union, List, Optional\n",
        "\n",
        "\n",
        "cifar10_pretrained_weight_urls = {\n",
        "    'mobilenetv2_x0_5': 'https://github.com/chenyaofo/pytorch-cifar-models/releases/download/mobilenetv2/cifar10_mobilenetv2_x0_5-ca14ced9.pt',\n",
        "    'mobilenetv2_x0_75': 'https://github.com/chenyaofo/pytorch-cifar-models/releases/download/mobilenetv2/cifar10_mobilenetv2_x0_75-a53c314e.pt',\n",
        "    'mobilenetv2_x1_0': 'https://github.com/chenyaofo/pytorch-cifar-models/releases/download/mobilenetv2/cifar10_mobilenetv2_x1_0-fe6a5b48.pt',\n",
        "    'mobilenetv2_x1_4': 'https://github.com/chenyaofo/pytorch-cifar-models/releases/download/mobilenetv2/cifar10_mobilenetv2_x1_4-3bbbd6e2.pt',\n",
        "}\n",
        "\n",
        "cifar100_pretrained_weight_urls = {\n",
        "    'mobilenetv2_x0_5': 'https://github.com/chenyaofo/pytorch-cifar-models/releases/download/mobilenetv2/cifar100_mobilenetv2_x0_5-9f915757.pt',\n",
        "    'mobilenetv2_x0_75': 'https://github.com/chenyaofo/pytorch-cifar-models/releases/download/mobilenetv2/cifar100_mobilenetv2_x0_75-d7891e60.pt',\n",
        "    'mobilenetv2_x1_0': 'https://github.com/chenyaofo/pytorch-cifar-models/releases/download/mobilenetv2/cifar100_mobilenetv2_x1_0-1311f9ff.pt',\n",
        "    'mobilenetv2_x1_4': 'https://github.com/chenyaofo/pytorch-cifar-models/releases/download/mobilenetv2/cifar100_mobilenetv2_x1_4-8a269f5e.pt',\n",
        "}\n",
        "\n",
        "\n",
        "def _make_divisible(v: float, divisor: int, min_value: Optional[int] = None) -> int:\n",
        "    \"\"\"\n",
        "    This function is taken from the original tf repo.\n",
        "    It ensures that all layers have a channel number that is divisible by 8\n",
        "    It can be seen here:\n",
        "    https://github.com/tensorflow/models/blob/master/research/slim/nets/mobilenet/mobilenet.py\n",
        "    \"\"\"\n",
        "    if min_value is None:\n",
        "        min_value = divisor\n",
        "    new_v = max(min_value, int(v + divisor / 2) // divisor * divisor)\n",
        "    # Make sure that round down does not go down by more than 10%.\n",
        "    if new_v < 0.9 * v:\n",
        "        new_v += divisor\n",
        "    return new_v\n",
        "\n",
        "\n",
        "class ConvBNActivation(nn.Sequential):\n",
        "    def __init__(\n",
        "        self,\n",
        "        in_planes: int,\n",
        "        out_planes: int,\n",
        "        kernel_size: int = 3,\n",
        "        stride: int = 1,\n",
        "        groups: int = 1,\n",
        "        norm_layer: Optional[Callable[..., nn.Module]] = None,\n",
        "        activation_layer: Optional[Callable[..., nn.Module]] = None,\n",
        "        dilation: int = 1,\n",
        "    ) -> None:\n",
        "        padding = (kernel_size - 1) // 2 * dilation\n",
        "        if norm_layer is None:\n",
        "            norm_layer = nn.BatchNorm2d\n",
        "        if activation_layer is None:\n",
        "            activation_layer = nn.ReLU6\n",
        "        super(ConvBNReLU, self).__init__(\n",
        "            nn.Conv2d(in_planes, out_planes, kernel_size, stride, padding, dilation=dilation, groups=groups,\n",
        "                      bias=False),\n",
        "            norm_layer(out_planes),\n",
        "            activation_layer(inplace=True)\n",
        "        )\n",
        "        self.out_channels = out_planes\n",
        "\n",
        "\n",
        "# necessary for backwards compatibility\n",
        "ConvBNReLU = ConvBNActivation\n",
        "\n",
        "\n",
        "class InvertedResidual(nn.Module):\n",
        "    def __init__(\n",
        "        self,\n",
        "        inp: int,\n",
        "        oup: int,\n",
        "        stride: int,\n",
        "        expand_ratio: int,\n",
        "        norm_layer: Optional[Callable[..., nn.Module]] = None\n",
        "    ) -> None:\n",
        "        super(InvertedResidual, self).__init__()\n",
        "        self.stride = stride\n",
        "        assert stride in [1, 2]\n",
        "\n",
        "        if norm_layer is None:\n",
        "            norm_layer = nn.BatchNorm2d\n",
        "\n",
        "        hidden_dim = int(round(inp * expand_ratio))\n",
        "        self.use_res_connect = self.stride == 1 and inp == oup\n",
        "\n",
        "        layers: List[nn.Module] = []\n",
        "        if expand_ratio != 1:\n",
        "            # pw\n",
        "            layers.append(ConvBNReLU(inp, hidden_dim, kernel_size=1, norm_layer=norm_layer))\n",
        "        layers.extend([\n",
        "            # dw\n",
        "            ConvBNReLU(hidden_dim, hidden_dim, stride=stride, groups=hidden_dim, norm_layer=norm_layer),\n",
        "            # pw-linear\n",
        "            nn.Conv2d(hidden_dim, oup, 1, 1, 0, bias=False),\n",
        "            norm_layer(oup),\n",
        "        ])\n",
        "        self.conv = nn.Sequential(*layers)\n",
        "        self.out_channels = oup\n",
        "        self._is_cn = stride > 1\n",
        "        self.skip_add = nn.quantized.FloatFunctional()\n",
        "\n",
        "\n",
        "    def forward(self, x: Tensor) -> Tensor:\n",
        "        if self.use_res_connect:\n",
        "            # return x + self.conv(x)\n",
        "            return self.skip_add.add(x, self.conv(x))\n",
        "        else:\n",
        "            return self.conv(x)\n",
        "\n",
        "\n",
        "class MobileNetV2(nn.Module):\n",
        "    def __init__(\n",
        "        self,\n",
        "        num_classes: int = 10,\n",
        "        width_mult: float = 1.0,\n",
        "        inverted_residual_setting: Optional[List[List[int]]] = None,\n",
        "        round_nearest: int = 8,\n",
        "        block: Optional[Callable[..., nn.Module]] = None,\n",
        "        norm_layer: Optional[Callable[..., nn.Module]] = None\n",
        "    ) -> None:\n",
        "        \"\"\"\n",
        "        MobileNet V2 main class\n",
        "\n",
        "        Args:\n",
        "            num_classes (int): Number of classes\n",
        "            width_mult (float): Width multiplier - adjusts number of channels in each layer by this amount\n",
        "            inverted_residual_setting: Network structure\n",
        "            round_nearest (int): Round the number of channels in each layer to be a multiple of this number\n",
        "            Set to 1 to turn off rounding\n",
        "            block: Module specifying inverted residual building block for mobilenet\n",
        "            norm_layer: Module specifying the normalization layer to use\n",
        "\n",
        "        \"\"\"\n",
        "        super(MobileNetV2, self).__init__()\n",
        "\n",
        "        if block is None:\n",
        "            block = InvertedResidual\n",
        "\n",
        "        if norm_layer is None:\n",
        "            norm_layer = nn.BatchNorm2d\n",
        "\n",
        "        input_channel = 32\n",
        "        last_channel = 1280\n",
        "\n",
        "        if inverted_residual_setting is None:\n",
        "            inverted_residual_setting = [\n",
        "                # t, c, n, s\n",
        "                [1, 16, 1, 1],\n",
        "                [6, 24, 2, 1],  # NOTE: change stride 2 -> 1 for CIFAR10/100\n",
        "                [6, 32, 3, 2],\n",
        "                [6, 64, 4, 2],\n",
        "                [6, 96, 3, 1],\n",
        "                [6, 160, 3, 2],\n",
        "                [6, 320, 1, 1],\n",
        "            ]\n",
        "\n",
        "        # only check the first element, assuming user knows t,c,n,s are required\n",
        "        if len(inverted_residual_setting) == 0 or len(inverted_residual_setting[0]) != 4:\n",
        "            raise ValueError(\"inverted_residual_setting should be non-empty \"\n",
        "                             \"or a 4-element list, got {}\".format(inverted_residual_setting))\n",
        "\n",
        "        # building first layer\n",
        "        input_channel = _make_divisible(input_channel * width_mult, round_nearest)\n",
        "        self.last_channel = _make_divisible(last_channel * max(1.0, width_mult), round_nearest)\n",
        "        features: List[nn.Module] = [ConvBNReLU(3, input_channel, stride=1, norm_layer=norm_layer)]  # NOTE: change stride 2 -> 1 for CIFAR10/100\n",
        "        # building inverted residual blocks\n",
        "        for t, c, n, s in inverted_residual_setting:\n",
        "            output_channel = _make_divisible(c * width_mult, round_nearest)\n",
        "            for i in range(n):\n",
        "                stride = s if i == 0 else 1\n",
        "                features.append(block(input_channel, output_channel, stride, expand_ratio=t, norm_layer=norm_layer))\n",
        "                input_channel = output_channel\n",
        "        # building last several layers\n",
        "        features.append(ConvBNReLU(input_channel, self.last_channel, kernel_size=1, norm_layer=norm_layer))\n",
        "        # make it nn.Sequential\n",
        "        self.features = nn.Sequential(*features)\n",
        "\n",
        "        # building classifier\n",
        "        self.classifier = nn.Sequential(\n",
        "            nn.Dropout(0.2),\n",
        "            nn.Linear(self.last_channel, num_classes),\n",
        "        )\n",
        "\n",
        "        # weight initialization\n",
        "        for m in self.modules():\n",
        "            if isinstance(m, nn.Conv2d):\n",
        "                nn.init.kaiming_normal_(m.weight, mode='fan_out')\n",
        "                if m.bias is not None:\n",
        "                    nn.init.zeros_(m.bias)\n",
        "            elif isinstance(m, (nn.BatchNorm2d, nn.GroupNorm)):\n",
        "                nn.init.ones_(m.weight)\n",
        "                nn.init.zeros_(m.bias)\n",
        "            elif isinstance(m, nn.Linear):\n",
        "                nn.init.normal_(m.weight, 0, 0.01)\n",
        "                nn.init.zeros_(m.bias)\n",
        "\n",
        "    def _forward_impl(self, x: Tensor) -> Tensor:\n",
        "        # This exists since TorchScript doesn't support inheritance, so the superclass method\n",
        "        # (this one) needs to have a name other than `forward` that can be accessed in a subclass\n",
        "        x = self.features(x)\n",
        "        # Cannot use \"squeeze\" as batch-size can be 1\n",
        "        x = nn.functional.adaptive_avg_pool2d(x, (1, 1))\n",
        "        x = torch.flatten(x, 1)\n",
        "        x = self.classifier(x)\n",
        "        return x\n",
        "\n",
        "    def forward(self, x: Tensor) -> Tensor:\n",
        "        return self._forward_impl(x)\n",
        "\n",
        "\n",
        "def _mobilenet_v2(\n",
        "    arch: str,\n",
        "    width_mult: List[int],\n",
        "    model_urls: Dict[str, str],\n",
        "    progress: bool = True,\n",
        "    pretrained: bool = True,\n",
        "    **kwargs: Any\n",
        ") -> MobileNetV2:\n",
        "    model = MobileNetV2(width_mult=width_mult, **kwargs)\n",
        "    if pretrained:\n",
        "        state_dict = load_state_dict_from_url(model_urls[arch],\n",
        "                                              progress=progress)\n",
        "        model.load_state_dict(state_dict)\n",
        "    return model\n",
        "\n",
        "\n",
        "def cifar10_mobilenetv2_x0_5(*args, **kwargs) -> MobileNetV2: pass\n",
        "def cifar10_mobilenetv2_x0_75(*args, **kwargs) -> MobileNetV2: pass\n",
        "def cifar10_mobilenetv2_x1_0(*args, **kwargs) -> MobileNetV2: pass\n",
        "def cifar10_mobilenetv2_x1_4(*args, **kwargs) -> MobileNetV2: pass\n",
        "\n",
        "\n",
        "def cifar100_mobilenetv2_x0_5(*args, **kwargs) -> MobileNetV2: pass\n",
        "def cifar100_mobilenetv2_x0_75(*args, **kwargs) -> MobileNetV2: pass\n",
        "def cifar100_mobilenetv2_x1_0(*args, **kwargs) -> MobileNetV2: pass\n",
        "def cifar100_mobilenetv2_x1_4(*args, **kwargs) -> MobileNetV2: pass\n",
        "\n",
        "\n",
        "thismodule = sys.modules[__name__]\n",
        "for dataset in [\"cifar10\", \"cifar100\"]:\n",
        "    for width_mult, model_name in zip([0.5, 0.75, 1.0, 1.4],\n",
        "                                      [\"mobilenetv2_x0_5\", \"mobilenetv2_x0_75\", \"mobilenetv2_x1_0\", \"mobilenetv2_x1_4\"]):\n",
        "        method_name = f\"{dataset}_{model_name}\"\n",
        "        model_urls = cifar10_pretrained_weight_urls if dataset == \"cifar10\" else cifar100_pretrained_weight_urls\n",
        "        num_classes = 10 if dataset == \"cifar10\" else 100\n",
        "        setattr(\n",
        "            thismodule,\n",
        "            method_name,\n",
        "            partial(_mobilenet_v2,\n",
        "                    arch=model_name,\n",
        "                    width_mult=width_mult,\n",
        "                    model_urls=model_urls,\n",
        "                    num_classes=num_classes)\n",
        "        )"
      ]
    },
    {
      "cell_type": "markdown",
      "source": [
        "Preparing datasets and dataloaders:"
      ],
      "metadata": {
        "id": "ZQFoxIf2OiY1"
      }
    },
    {
      "cell_type": "code",
      "execution_count": 4,
      "metadata": {
        "id": "tzRAUFH_j37M"
      },
      "outputs": [],
      "source": [
        "transform = transforms.Compose(\n",
        "    [transforms.ToTensor(),\n",
        "     transforms.Normalize((0.5, 0.5, 0.5), (0.5, 0.5, 0.5))])"
      ]
    },
    {
      "cell_type": "code",
      "execution_count": 5,
      "metadata": {
        "id": "OYC23souj37M",
        "colab": {
          "base_uri": "https://localhost:8080/",
          "height": 138,
          "referenced_widgets": [
            "0218ef5edeef4fbc911c50f45a6d32e3",
            "21f33a9755404f15a492b1aa485b3931",
            "c3d34df3079e4e47a1cc6d3efb0aa877",
            "18456bad7b86418d980668e8449f81fc",
            "0c25570320974a8e81eeda5926f6f59d",
            "1d37410bc5cf491cb5c99e88bef0a610",
            "98614d9d281d476c954061e4889559be",
            "5ce8864b37b14e7dadd63474d23712b3",
            "62ac950d6bb74529aad40adbd736e5bc",
            "7471854c73a04da98efdf08eaa695813",
            "166e1ae530c44222a632c53fceac1f1f"
          ]
        },
        "outputId": "f2e62468-0199-4d75-e915-1a9113079ecc"
      },
      "outputs": [
        {
          "output_type": "stream",
          "name": "stdout",
          "text": [
            "Downloading https://www.cs.toronto.edu/~kriz/cifar-10-python.tar.gz to ./data/cifar-10-python.tar.gz\n"
          ]
        },
        {
          "output_type": "display_data",
          "data": {
            "text/plain": [
              "  0%|          | 0/170498071 [00:00<?, ?it/s]"
            ],
            "application/vnd.jupyter.widget-view+json": {
              "version_major": 2,
              "version_minor": 0,
              "model_id": "0218ef5edeef4fbc911c50f45a6d32e3"
            }
          },
          "metadata": {}
        },
        {
          "output_type": "stream",
          "name": "stdout",
          "text": [
            "Extracting ./data/cifar-10-python.tar.gz to ./data\n"
          ]
        },
        {
          "output_type": "stream",
          "name": "stderr",
          "text": [
            "/usr/local/lib/python3.8/dist-packages/torch/utils/data/dataloader.py:554: UserWarning: This DataLoader will create 4 worker processes in total. Our suggested max number of worker in current system is 2, which is smaller than what this DataLoader is going to create. Please be aware that excessive worker creation might get DataLoader running slow or even freeze, lower the worker number to avoid potential slowness/freeze if necessary.\n",
            "  warnings.warn(_create_warning_msg(\n"
          ]
        }
      ],
      "source": [
        "trainset = torchvision.datasets.CIFAR10(root='./data', train=True, download=True, transform=transform)\n",
        "trainloader = torch.utils.data.DataLoader(trainset, batch_size=4,\n",
        "                                          shuffle=False, num_workers=4)\n",
        "                                \n",
        "classes = ('plane', 'car', 'bird', 'cat','deer', \n",
        "           'dog', 'frog', 'horse', 'ship', 'truck')"
      ]
    },
    {
      "cell_type": "code",
      "execution_count": 6,
      "metadata": {
        "id": "R2LOfWkjj37M",
        "colab": {
          "base_uri": "https://localhost:8080/"
        },
        "outputId": "525edc90-dfc3-462a-9fbb-3d1d0ba0b822"
      },
      "outputs": [
        {
          "output_type": "stream",
          "name": "stdout",
          "text": [
            "Files already downloaded and verified\n"
          ]
        }
      ],
      "source": [
        "testset = torchvision.datasets.CIFAR10(root='./data', train=False, download=True, transform=transform)\n",
        "testloader = torch.utils.data.DataLoader(testset, batch_size = 4, shuffle = False, num_workers = 4)"
      ]
    },
    {
      "cell_type": "code",
      "execution_count": 7,
      "metadata": {
        "id": "YDQyVT-6j37N",
        "colab": {
          "base_uri": "https://localhost:8080/",
          "height": 86,
          "referenced_widgets": [
            "e4b4e99b3c8943c4a3416c623a9645a0",
            "9777ce3fba50407ab00a788f7f4e29c5",
            "b0b429e2c14641f69d112322bfdf0787",
            "81ec6ab41e6941b99859432574ae5022",
            "b20036f0f40c485aa16a85e44c8b548d",
            "35ddc5af312d4ae4b72dc1c11d802bdf",
            "2677d914dafc46f7ae639cb441beb62d",
            "94c9314348fa49258c648fa4f4571b77",
            "d41a42d9cdf741a0a9315e400f6ec77a",
            "f31fc7317330411fb2c40a0ddb35ec94",
            "1f338e775dce4e5ea1ae0c406a12f06f"
          ]
        },
        "outputId": "69943eeb-5e55-4ad6-e1b0-a330ce3f437a"
      },
      "outputs": [
        {
          "output_type": "stream",
          "name": "stderr",
          "text": [
            "Downloading: \"https://github.com/chenyaofo/pytorch-cifar-models/releases/download/mobilenetv2/cifar10_mobilenetv2_x1_4-3bbbd6e2.pt\" to /root/.cache/torch/hub/checkpoints/cifar10_mobilenetv2_x1_4-3bbbd6e2.pt\n"
          ]
        },
        {
          "output_type": "display_data",
          "data": {
            "text/plain": [
              "  0%|          | 0.00/16.8M [00:00<?, ?B/s]"
            ],
            "application/vnd.jupyter.widget-view+json": {
              "version_major": 2,
              "version_minor": 0,
              "model_id": "e4b4e99b3c8943c4a3416c623a9645a0"
            }
          },
          "metadata": {}
        }
      ],
      "source": [
        "mbnet = cifar10_mobilenetv2_x1_4(pretrained = True)"
      ]
    },
    {
      "cell_type": "markdown",
      "source": [
        "Helper functions:\n",
        "1. To get model size\n",
        "2. To validate and produce accuracy for the model"
      ],
      "metadata": {
        "id": "bD-JTC9LOooA"
      }
    },
    {
      "cell_type": "code",
      "execution_count": 8,
      "metadata": {
        "id": "5YgtH_OVj37N"
      },
      "outputs": [],
      "source": [
        "def get_size_of_model(model):\n",
        "    torch.save(model.state_dict(), \"temp.p\")\n",
        "    model_size = os.path.getsize(\"temp.p\")/1e6\n",
        "    os.remove('temp.p')\n",
        "    print(\"Model size: \", model_size)\n",
        "    return model_size\n",
        "\n",
        "def validate_model(model, dataloader, device = \"cuda\", trials = 1):\n",
        "\n",
        "    model.eval()\n",
        "\n",
        "    dev = torch.device(device)\n",
        "    model.to(dev)\n",
        "\n",
        "    run_time = 0\n",
        "    correct = 0\n",
        "    total = 0 \n",
        "\n",
        "\n",
        "    if (device == \"cuda\"):\n",
        "\n",
        "\n",
        "      for i, (inputs, labels) in enumerate(dataloader):\n",
        "\n",
        "        # print(i)\n",
        "\n",
        "        #print(f\"i = {i}\")\n",
        "        start = time.time()\n",
        "\n",
        "        inputs = inputs.to(dev)\n",
        "        labels = labels.to(dev)\n",
        "        # an option can be of not sending the labels to GPU. Instead sending output back from GPU to CPU and getting the prediction on the CPU.\n",
        "\n",
        "        \n",
        "        outputs = model(inputs)\n",
        "        torch.cuda.synchronize()\n",
        "        # check torch.cuda.current_stream.synchronize()\n",
        "        end = time.time()\n",
        "        run_time += end - start\n",
        "        # outputs = outputs.to(\"cpu\") # an alternative here is ofc to send labels to GPU. \n",
        "\n",
        "        _, predicted = torch.max(outputs,1)\n",
        "\n",
        "        predicted = predicted.to(\"cpu\")\n",
        "        labels = labels.to(\"cpu\")\n",
        "\n",
        "        correct += torch.sum(predicted == labels.data)\n",
        "        total += inputs.size()[0]\n",
        "\n",
        "        if i % 250 == 249:\n",
        "          acc_local = 100 * correct.double() / total\n",
        "          print(f\"[{i+1}] accuracy : {acc_local:.4f}%\")\n",
        "        # in for loop\n",
        "      #in the main fn\n",
        "\n",
        "      run_time = run_time / trials\n",
        "      accuracy = 100 * correct.double() / total\n",
        "\n",
        "      torch.cuda.empty_cache()\n",
        "\n",
        "    elif (device == \"cpu\"):\n",
        "      for i, (inputs, labels) in enumerate(dataloader):\n",
        "\n",
        "        # print(i)totalzeros = 0\n",
        "        totalelements = 0\n",
        "        start = time.time()\n",
        "        # an option can be of not sending the labels to GPU. Instead sending output back from GPU to CPU and getting the prediction on the CPU.\n",
        "\n",
        "        \n",
        "        outputs = model(inputs)\n",
        "        # check torch.cuda.current_stream.synchronize()\n",
        "        end = time.time()\n",
        "        run_time += end - start\n",
        "        # outputs = outputs.to(\"cpu\") # an alternative here is ofc to send labels to GPU. \n",
        "\n",
        "        _, predicted = torch.max(outputs,1)\n",
        "\n",
        "        correct += torch.sum(predicted == labels.data)\n",
        "        total += inputs.size()[0]\n",
        "\n",
        "        if i % 250 == 249:\n",
        "          acc_local = 100 * correct.double() / total\n",
        "          print(f\"[{i+1}] accuracy : {acc_local:.4f}%\")\n",
        "        # in for loop\n",
        "      #in the main fn\n",
        "\n",
        "      run_time = run_time / trials\n",
        "      accuracy = 100 * correct.double() / total\n",
        "\n",
        "\n",
        "    return run_time, accuracy"
      ]
    },
    {
      "cell_type": "markdown",
      "source": [
        "BatchNorm fusion function:"
      ],
      "metadata": {
        "id": "HqLLTEZAO18d"
      }
    },
    {
      "cell_type": "code",
      "execution_count": 9,
      "metadata": {
        "id": "N84ME-bHj37Q"
      },
      "outputs": [],
      "source": [
        "def fuse_bn_sequential(block):\n",
        "    \"\"\"\n",
        "    This function takes a sequential block and fuses the batch normalization with convolution\n",
        "    :param model: nn.Sequential. Source resnet model\n",
        "    :return: nn.Sequential. Converted block\n",
        "    \"\"\"\n",
        "    if not isinstance(block, nn.Sequential):\n",
        "        return block\n",
        "    stack = []\n",
        "    for m in block.children():\n",
        "        if isinstance(m, nn.BatchNorm2d):\n",
        "            if isinstance(stack[-1], nn.Conv2d):\n",
        "                bn_st_dict = m.state_dict()\n",
        "                conv_st_dict = stack[-1].state_dict()\n",
        "\n",
        "                # BatchNorm params\n",
        "                eps = m.eps\n",
        "                mu = bn_st_dict['running_mean']\n",
        "                var = bn_st_dict['running_var']\n",
        "                gamma = bn_st_dict['weight']\n",
        "\n",
        "                if 'bias' in bn_st_dict:\n",
        "                    beta = bn_st_dict['bias']\n",
        "                else:\n",
        "                    beta = torch.zeros(gamma.size(0)).float().to(gamma.device)\n",
        "\n",
        "                # Conv params\n",
        "                W = conv_st_dict['weight']\n",
        "                if 'bias' in conv_st_dict:\n",
        "                    bias = conv_st_dict['bias']\n",
        "                else:\n",
        "                    bias = torch.zeros(W.size(0)).float().to(gamma.device)\n",
        "\n",
        "                denom = torch.sqrt(var + eps)\n",
        "                b = beta - gamma.mul(mu).div(denom)\n",
        "                A = gamma.div(denom)\n",
        "                bias *= A\n",
        "                A = A.expand_as(W.transpose(0, -1)).transpose(0, -1)\n",
        "\n",
        "                W.mul_(A)\n",
        "                bias.add_(b)\n",
        "\n",
        "                stack[-1].weight.data.copy_(W)\n",
        "                if stack[-1].bias is None:\n",
        "                    stack[-1].bias = torch.nn.Parameter(bias)\n",
        "                else:\n",
        "                    stack[-1].bias.data.copy_(bias)\n",
        "\n",
        "        else:\n",
        "            stack.append(m)\n",
        "\n",
        "    if len(stack) > 1:\n",
        "        return nn.Sequential(*stack)\n",
        "    else:\n",
        "        return stack[0]\n",
        "\n",
        "\n",
        "def fuse_bn_recursively(model):\n",
        "    for module_name in model._modules:\n",
        "        model._modules[module_name] = fuse_bn_sequential(model._modules[module_name])\n",
        "        if len(model._modules[module_name]._modules) > 0:\n",
        "            fuse_bn_recursively(model._modules[module_name])\n",
        "\n",
        "    return model"
      ]
    },
    {
      "cell_type": "markdown",
      "source": [
        "Recording stats (runtime, accuracy, size) for original model: "
      ],
      "metadata": {
        "id": "Ux6im4m5O8wZ"
      }
    },
    {
      "cell_type": "code",
      "source": [
        "original = []"
      ],
      "metadata": {
        "id": "ywZCQHtQ4aQ7"
      },
      "execution_count": 10,
      "outputs": []
    },
    {
      "cell_type": "code",
      "execution_count": 11,
      "metadata": {
        "id": "ANk0pKC1j37O",
        "colab": {
          "base_uri": "https://localhost:8080/"
        },
        "outputId": "d22c38ff-d322-4a0d-c406-ae11aa70c880"
      },
      "outputs": [
        {
          "output_type": "stream",
          "name": "stdout",
          "text": [
            "[250] accuracy : 83.8000%\n",
            "[500] accuracy : 84.8000%\n",
            "[750] accuracy : 83.9333%\n",
            "[1000] accuracy : 83.7750%\n",
            "[1250] accuracy : 84.1000%\n",
            "[1500] accuracy : 83.9667%\n",
            "[1750] accuracy : 83.9714%\n",
            "[2000] accuracy : 84.1250%\n",
            "[2250] accuracy : 84.0444%\n",
            "[2500] accuracy : 84.1200%\n",
            "Model size:  17.619481\n"
          ]
        }
      ],
      "source": [
        "og_rntm, og_acc = validate_model(mbnet, testloader, device = \"cuda\")\n",
        "original.append(og_acc.detach().numpy())\n",
        "original.append(round(og_rntm,3))\n",
        "m_size = get_size_of_model(mbnet)\n",
        "original.append(round(m_size,3))"
      ]
    },
    {
      "cell_type": "markdown",
      "source": [
        "Directly quantizing  original model and recording stats (runtime, accuracy, size):"
      ],
      "metadata": {
        "id": "N-fQShtOPFtR"
      }
    },
    {
      "cell_type": "code",
      "source": [
        "mbnet_quant = quantize_model_mbnet(mbnet)"
      ],
      "metadata": {
        "colab": {
          "base_uri": "https://localhost:8080/"
        },
        "id": "LaUoYxtKwUWr",
        "outputId": "9957c4f5-c97b-498b-fad5-aead831925bb"
      },
      "execution_count": 12,
      "outputs": [
        {
          "output_type": "stream",
          "name": "stderr",
          "text": [
            "/usr/local/lib/python3.8/dist-packages/torch/ao/quantization/observer.py:214: UserWarning: Please use quant_min and quant_max to specify the range for observers.                     reduce_range will be deprecated in a future release of PyTorch.\n",
            "  warnings.warn(\n",
            "/usr/local/lib/python3.8/dist-packages/torch/ao/quantization/observer.py:1204: UserWarning: must run observer before calling calculate_qparams.                                    Returning default scale and zero point \n",
            "  warnings.warn(\n"
          ]
        }
      ]
    },
    {
      "cell_type": "code",
      "execution_count": 13,
      "metadata": {
        "id": "cpAZN-cYj37Q",
        "colab": {
          "base_uri": "https://localhost:8080/"
        },
        "outputId": "025a7e7c-dc3f-4d5d-d43e-1171f71692a9"
      },
      "outputs": [
        {
          "output_type": "stream",
          "name": "stdout",
          "text": [
            "[250] accuracy : 81.8000%\n",
            "[500] accuracy : 82.2500%\n",
            "[750] accuracy : 81.4667%\n",
            "[1000] accuracy : 81.2750%\n",
            "[1250] accuracy : 81.8800%\n",
            "[1500] accuracy : 81.8000%\n",
            "[1750] accuracy : 81.9857%\n",
            "[2000] accuracy : 82.2625%\n",
            "[2250] accuracy : 82.0333%\n",
            "[2500] accuracy : 82.0800%\n",
            "Model size:  5.245881\n"
          ]
        }
      ],
      "source": [
        "normal_quant = []\n",
        "quant_rntm, quant_acc = validate_model(mbnet_quant, testloader, device = \"cpu\")\n",
        "normal_quant.append(quant_acc.detach().numpy())\n",
        "normal_quant.append(round(quant_rntm,3))\n",
        "normal_q_size = get_size_of_model(mbnet_quant)\n",
        "normal_quant.append(round(normal_q_size,3))"
      ]
    },
    {
      "cell_type": "markdown",
      "source": [
        "Loading original model:"
      ],
      "metadata": {
        "id": "5b29w6zkPRK_"
      }
    },
    {
      "cell_type": "code",
      "execution_count": 14,
      "metadata": {
        "id": "vRgk9LEfj37Q"
      },
      "outputs": [],
      "source": [
        "mbnet = cifar10_mobilenetv2_x1_4(pretrained = True)"
      ]
    },
    {
      "cell_type": "markdown",
      "source": [
        "BatchNorm Fusion on original model:"
      ],
      "metadata": {
        "id": "bUuNqgf1PT-z"
      }
    },
    {
      "cell_type": "code",
      "execution_count": 15,
      "metadata": {
        "id": "bLDEesIcj37R"
      },
      "outputs": [],
      "source": [
        "mbnet_fused = fuse_bn_recursively(mbnet)"
      ]
    },
    {
      "cell_type": "code",
      "execution_count": 16,
      "metadata": {
        "id": "HKbmu32Tj37R",
        "colab": {
          "base_uri": "https://localhost:8080/"
        },
        "outputId": "121964f2-32f2-471d-9c6f-ef88834d45a9"
      },
      "outputs": [
        {
          "output_type": "stream",
          "name": "stdout",
          "text": [
            "[250] accuracy : 83.8000%\n",
            "[500] accuracy : 84.8000%\n",
            "[750] accuracy : 83.9333%\n",
            "[1000] accuracy : 83.7750%\n",
            "[1250] accuracy : 84.1000%\n",
            "[1500] accuracy : 83.9667%\n",
            "[1750] accuracy : 83.9714%\n",
            "[2000] accuracy : 84.1250%\n",
            "[2250] accuracy : 84.0444%\n",
            "[2500] accuracy : 84.1200%\n"
          ]
        }
      ],
      "source": [
        "fused_rntm, fused_acc = validate_model(mbnet_fused, testloader, device = \"cpu\")\n"
      ]
    },
    {
      "cell_type": "markdown",
      "source": [
        "AFCLE function for MobileNETV2:"
      ],
      "metadata": {
        "id": "jii9O96NPayJ"
      }
    },
    {
      "cell_type": "code",
      "execution_count": 17,
      "metadata": {
        "id": "YiPFbKNnj37R"
      },
      "outputs": [],
      "source": [
        "block_list = []\n",
        "for name, para in mbnet_fused.named_parameters():\n",
        "    if ('conv' in name):\n",
        "        split_name = list(name.split('.'))\n",
        "        to_append = int(split_name[1])\n",
        "        if (to_append not in block_list):\n",
        "            block_list.append(to_append)"
      ]
    },
    {
      "cell_type": "code",
      "execution_count": 18,
      "metadata": {
        "id": "ObSYz0Nqj37S"
      },
      "outputs": [],
      "source": [
        "def BLOCK_AFCLE(model):\n",
        "\n",
        "    for index in range(len(block_list)):\n",
        "\n",
        "        print(block_list[index])\n",
        "        block = model.features[block_list[index]]\n",
        "\n",
        "\n",
        "\n",
        "        if (block_list[index] == 1):\n",
        "            # in this case we just have 2 convs.\n",
        "\n",
        "            while_loop_counter = 0\n",
        "            \n",
        "\n",
        "            while(1):\n",
        "\n",
        "                s_sum  = 0\n",
        "                s_running_mean = 0\n",
        "                s_count = 0\n",
        "\n",
        "                curr_layer = block.conv[0][0]\n",
        "                next_layer = block.conv[1]\n",
        "\n",
        "                curr_layer_num_out_ch = curr_layer.weight.shape[0]\n",
        "                next_layer_num_in_ch = next_layer.weight.shape[1]\n",
        "\n",
        "                curr_layer_weight_cloned = curr_layer.weight.clone()\n",
        "                curr_layer_bias_cloned = curr_layer.bias.clone()\n",
        "                next_layer_weight_cloned = next_layer.weight.clone()\n",
        "\n",
        "                for channel in range(curr_layer_num_out_ch):\n",
        "\n",
        "                    curr_out_ch = curr_layer_weight_cloned[channel, :, :, :]\n",
        "                    next_in_ch = next_layer_weight_cloned[:, channel, :, :]\n",
        "                    curr_layer_bias = curr_layer_bias_cloned[channel]\n",
        "\n",
        "                    s = (math.sqrt( torch.max(torch.absolute(curr_out_ch)) * torch.max(torch.absolute(next_in_ch)) )) / (torch.max(torch.absolute(next_in_ch)))\n",
        "                    s_count = s_count + 1\n",
        "                    s_sum = s_sum + s\n",
        "\n",
        "                    curr_layer_weight_cloned[channel, :, :, :] = curr_layer_weight_cloned[channel, :, :, :] * (1/(s.item()))\n",
        "                    curr_layer_bias_cloned[channel] = curr_layer_bias_cloned[channel] * (1/(s.item()))\n",
        "                    next_layer_weight_cloned[:, channel, :, :] = next_layer_weight_cloned[:, channel, :, :] * s.item()\n",
        "\n",
        "                model.features[block_list[index]].conv[0][0].weight = torch.nn.Parameter(curr_layer_weight_cloned)\n",
        "                model.features[block_list[index]].conv[0][0].bias = torch.nn.Parameter(curr_layer_bias_cloned)\n",
        "                model.features[block_list[index]].conv[1].weight = torch.nn.Parameter(next_layer_weight_cloned)\n",
        "\n",
        "                while_loop_counter = while_loop_counter + 1\n",
        "                s_running_mean = s_sum / s_count\n",
        "                print(f\"Mean = {s_running_mean}, while loop count = {while_loop_counter}\")\n",
        "                if (torch.abs(s_running_mean - 1) < 1e-3 or (while_loop_counter == 100)):\n",
        "                    break\n",
        "\n",
        "\n",
        "\n",
        "        else:\n",
        "\n",
        "            while_loop_counter = 0\n",
        "            \n",
        "            \n",
        "\n",
        "            while(1):\n",
        "\n",
        "                s_sum  = 0\n",
        "                s_running_mean = 0\n",
        "                s_count = 0\n",
        "\n",
        "                curr_layer = block.conv[0][0]\n",
        "                next_layer = block.conv[1][0]\n",
        "\n",
        "                curr_layer_num_out_ch = curr_layer.weight.shape[0]\n",
        "                next_layer_num_in_ch = next_layer.weight.shape[0]\n",
        "\n",
        "                curr_layer_weight_cloned = curr_layer.weight.clone()\n",
        "                curr_layer_bias_cloned = curr_layer.bias.clone()\n",
        "                next_layer_weight_cloned = next_layer.weight.clone()\n",
        "\n",
        "                for channel in range(curr_layer_num_out_ch):\n",
        "\n",
        "                    curr_out_ch = curr_layer_weight_cloned[channel, :, :, :]\n",
        "                    next_in_ch = next_layer_weight_cloned[channel, :, :, :]\n",
        "                    curr_layer_bias = curr_layer_bias_cloned[channel]\n",
        "\n",
        "                    s = (math.sqrt( torch.max(torch.absolute(curr_out_ch)) * torch.max(torch.absolute(next_in_ch)) )) / (torch.max(torch.absolute(next_in_ch)))\n",
        "                    s_count = s_count + 1\n",
        "                    s_sum = s_sum + s\n",
        "\n",
        "                    curr_layer_weight_cloned[channel, :, :, :] = curr_layer_weight_cloned[channel, :, :, :] * (1/(s.item()))\n",
        "                    curr_layer_bias_cloned[channel] = curr_layer_bias_cloned[channel] * (1/(s.item()))\n",
        "                    next_layer_weight_cloned[channel, :, :, :] = next_layer_weight_cloned[channel, :, :, :] * s.item()\n",
        "\n",
        "                model.features[block_list[index]].conv[0][0].weight = torch.nn.Parameter(curr_layer_weight_cloned)\n",
        "                model.features[block_list[index]].conv[0][0].bias = torch.nn.Parameter(curr_layer_bias_cloned)\n",
        "                model.features[block_list[index]].conv[1][0].weight = torch.nn.Parameter(next_layer_weight_cloned)\n",
        "\n",
        "            \n",
        "            \n",
        "            \n",
        "\n",
        "                # at this point we have equilised the first 2 conv layers.\n",
        "                # now we need to equilise the 2nd and the 3rd conv layer.\n",
        "\n",
        "                curr_layer = block.conv[1][0]\n",
        "                next_layer = block.conv[2]\n",
        "\n",
        "                curr_layer_num_out_ch = curr_layer.weight.shape[0]\n",
        "                next_layer_num_in_ch = next_layer.weight.shape[1]\n",
        "\n",
        "                curr_layer_weight_cloned = curr_layer.weight.clone()\n",
        "                curr_layer_bias_cloned = curr_layer.bias.clone()\n",
        "                next_layer_weight_cloned = next_layer.weight.clone()\n",
        "\n",
        "                for channel in range(curr_layer_num_out_ch):\n",
        "\n",
        "                    curr_out_ch = curr_layer_weight_cloned[channel, :, :, :]\n",
        "                    next_in_ch = next_layer_weight_cloned[:, channel, :, :]\n",
        "                    curr_layer_bias = curr_layer_bias_cloned[channel]\n",
        "\n",
        "                    s = (math.sqrt( torch.max(torch.absolute(curr_out_ch)) * torch.max(torch.absolute(next_in_ch)) )) / (torch.max(torch.absolute(next_in_ch)))\n",
        "                    s_count = s_count + 1\n",
        "                    s_sum = s_sum + s\n",
        "\n",
        "                    curr_layer_weight_cloned[channel, :, :, :] = curr_layer_weight_cloned[channel, :, :, :] * (1/(s.item()))\n",
        "                    curr_layer_bias_cloned[channel] = curr_layer_bias_cloned[channel] * (1/(s.item()))\n",
        "                    next_layer_weight_cloned[:, channel, :, :] = next_layer_weight_cloned[:, channel, :, :] * s.item()\n",
        "\n",
        "                model.features[block_list[index]].conv[1][0].weight = torch.nn.Parameter(curr_layer_weight_cloned)\n",
        "                model.features[block_list[index]].conv[1][0].bias = torch.nn.Parameter(curr_layer_bias_cloned)\n",
        "                model.features[block_list[index]].conv[2].weight = torch.nn.Parameter(next_layer_weight_cloned)\n",
        "\n",
        "                while_loop_counter = while_loop_counter + 1\n",
        "                s_running_mean = s_sum / s_count\n",
        "                print(f\"Mean = {s_running_mean}, while loop count = {while_loop_counter}\")\n",
        "                if (torch.abs(s_running_mean - 1) < 1e-3 or (while_loop_counter == 100)):\n",
        "                    break\n",
        "\n",
        "    return model\n",
        "\n"
      ]
    },
    {
      "cell_type": "markdown",
      "source": [
        "Performing AFCLE Block wise on MobileNetV2 and recording stats (runtime, accuracy, size):"
      ],
      "metadata": {
        "id": "SJO4ysPVPh2R"
      }
    },
    {
      "cell_type": "code",
      "execution_count": 19,
      "metadata": {
        "id": "LP1XHwMGj37T",
        "colab": {
          "base_uri": "https://localhost:8080/"
        },
        "outputId": "89269e9d-f6f8-4e4d-d23d-aea8caa41a72"
      },
      "outputs": [
        {
          "output_type": "stream",
          "name": "stdout",
          "text": [
            "1\n",
            "Mean = 0.8273830413818359, while loop count = 1\n",
            "Mean = 1.0, while loop count = 2\n",
            "2\n",
            "Mean = 0.6992543935775757, while loop count = 1\n",
            "Mean = 0.9053948521614075, while loop count = 2\n",
            "Mean = 0.9634703397750854, while loop count = 3\n",
            "Mean = 0.9897823333740234, while loop count = 4\n",
            "Mean = 0.9973716735839844, while loop count = 5\n",
            "Mean = 0.9993383884429932, while loop count = 6\n",
            "3\n",
            "Mean = 0.6213281750679016, while loop count = 1\n",
            "Mean = 0.8312838077545166, while loop count = 2\n",
            "Mean = 0.942986249923706, while loop count = 3\n",
            "Mean = 0.9844352602958679, while loop count = 4\n",
            "Mean = 0.9960188865661621, while loop count = 5\n",
            "Mean = 0.9989987015724182, while loop count = 6\n",
            "Mean = 0.999749481678009, while loop count = 7\n",
            "4\n",
            "Mean = 0.669990599155426, while loop count = 1\n",
            "Mean = 0.8972411751747131, while loop count = 2\n",
            "Mean = 0.9622824192047119, while loop count = 3\n",
            "Mean = 0.9895254969596863, while loop count = 4\n",
            "Mean = 0.9973098635673523, while loop count = 5\n",
            "Mean = 0.9993228316307068, while loop count = 6\n",
            "5\n",
            "Mean = 0.48017916083335876, while loop count = 1\n",
            "Mean = 0.7701349854469299, while loop count = 2\n",
            "Mean = 0.9242703318595886, while loop count = 3\n",
            "Mean = 0.9795016050338745, while loop count = 4\n",
            "Mean = 0.9947687983512878, while loop count = 5\n",
            "Mean = 0.9986848831176758, while loop count = 6\n",
            "Mean = 0.9996702671051025, while loop count = 7\n",
            "6\n",
            "Mean = 0.42627111077308655, while loop count = 1\n",
            "Mean = 0.7130206823348999, while loop count = 2\n",
            "Mean = 0.9051535725593567, while loop count = 3\n",
            "Mean = 0.9742946624755859, while loop count = 4\n",
            "Mean = 0.9934374690055847, while loop count = 5\n",
            "Mean = 0.9983505606651306, while loop count = 6\n",
            "Mean = 0.9995870590209961, while loop count = 7\n",
            "7\n",
            "Mean = 0.47762906551361084, while loop count = 1\n",
            "Mean = 0.7163054347038269, while loop count = 2\n",
            "Mean = 0.9059609174728394, while loop count = 3\n",
            "Mean = 0.9745318293571472, while loop count = 4\n",
            "Mean = 0.9935004115104675, while loop count = 5\n",
            "Mean = 0.9983665943145752, while loop count = 6\n",
            "Mean = 0.9995908737182617, while loop count = 7\n",
            "8\n",
            "Mean = 0.4150804281234741, while loop count = 1\n",
            "Mean = 0.735450029373169, while loop count = 2\n",
            "Mean = 0.9130631685256958, while loop count = 3\n",
            "Mean = 0.976479709148407, while loop count = 4\n",
            "Mean = 0.993998110294342, while loop count = 5\n",
            "Mean = 0.9984914660453796, while loop count = 6\n",
            "Mean = 0.9996229410171509, while loop count = 7\n",
            "9\n",
            "Mean = 0.3727046549320221, while loop count = 1\n",
            "Mean = 0.6372686624526978, while loop count = 2\n",
            "Mean = 0.8769307136535645, while loop count = 3\n",
            "Mean = 0.9664137959480286, while loop count = 4\n",
            "Mean = 0.9914104342460632, while loop count = 5\n",
            "Mean = 0.9978402853012085, while loop count = 6\n",
            "Mean = 0.999458909034729, while loop count = 7\n",
            "10\n",
            "Mean = 0.3414863049983978, while loop count = 1\n",
            "Mean = 0.5964752435684204, while loop count = 2\n",
            "Mean = 0.8620175123214722, while loop count = 3\n",
            "Mean = 0.9622682332992554, while loop count = 4\n",
            "Mean = 0.9903448820114136, while loop count = 5\n",
            "Mean = 0.9975726008415222, while loop count = 6\n",
            "Mean = 0.9993919730186462, while loop count = 7\n",
            "11\n",
            "Mean = 0.46034321188926697, while loop count = 1\n",
            "Mean = 0.7110337018966675, while loop count = 2\n",
            "Mean = 0.9016043543815613, while loop count = 3\n",
            "Mean = 0.9731894731521606, while loop count = 4\n",
            "Mean = 0.9931480884552002, while loop count = 5\n",
            "Mean = 0.9982776045799255, while loop count = 6\n",
            "Mean = 0.9995681047439575, while loop count = 7\n",
            "12\n",
            "Mean = 0.37317055463790894, while loop count = 1\n",
            "Mean = 0.6531553268432617, while loop count = 2\n",
            "Mean = 0.8842894434928894, while loop count = 3\n",
            "Mean = 0.9685954451560974, while loop count = 4\n",
            "Mean = 0.9919801354408264, while loop count = 5\n",
            "Mean = 0.9979835152626038, while loop count = 6\n",
            "Mean = 0.9994961619377136, while loop count = 7\n",
            "13\n",
            "Mean = 0.36463502049446106, while loop count = 1\n",
            "Mean = 0.627268373966217, while loop count = 2\n",
            "Mean = 0.8751375079154968, while loop count = 3\n",
            "Mean = 0.9660740494728088, while loop count = 4\n",
            "Mean = 0.9913338422775269, while loop count = 5\n",
            "Mean = 0.9978219866752625, while loop count = 6\n",
            "Mean = 0.9994545578956604, while loop count = 7\n",
            "14\n",
            "Mean = 0.4211936295032501, while loop count = 1\n",
            "Mean = 0.6631845235824585, while loop count = 2\n",
            "Mean = 0.887599766254425, while loop count = 3\n",
            "Mean = 0.9695449471473694, while loop count = 4\n",
            "Mean = 0.9922263026237488, while loop count = 5\n",
            "Mean = 0.9980463981628418, while loop count = 6\n",
            "Mean = 0.9995115399360657, while loop count = 7\n",
            "15\n",
            "Mean = 0.5092123746871948, while loop count = 1\n",
            "Mean = 0.758553683757782, while loop count = 2\n",
            "Mean = 0.9197394847869873, while loop count = 3\n",
            "Mean = 0.9782425761222839, while loop count = 4\n",
            "Mean = 0.9944462776184082, while loop count = 5\n",
            "Mean = 0.9986038208007812, while loop count = 6\n",
            "Mean = 0.9996538758277893, while loop count = 7\n",
            "16\n",
            "Mean = 0.49304866790771484, while loop count = 1\n",
            "Mean = 0.6989195942878723, while loop count = 2\n",
            "Mean = 0.8982166051864624, while loop count = 3\n",
            "Mean = 0.972270131111145, while loop count = 4\n",
            "Mean = 0.9929112792015076, while loop count = 5\n",
            "Mean = 0.9982177019119263, while loop count = 6\n",
            "Mean = 0.999557614326477, while loop count = 7\n",
            "17\n",
            "Mean = 0.5451429486274719, while loop count = 1\n",
            "Mean = 0.8131179809570312, while loop count = 2\n",
            "Mean = 0.9369989037513733, while loop count = 3\n",
            "Mean = 0.9828976392745972, while loop count = 4\n",
            "Mean = 0.9956337809562683, while loop count = 5\n",
            "Mean = 0.9989027976989746, while loop count = 6\n",
            "Mean = 0.9997202754020691, while loop count = 7\n"
          ]
        }
      ],
      "source": [
        "mbnet_fused_afcle = BLOCK_AFCLE(mbnet_fused)\n"
      ]
    },
    {
      "cell_type": "code",
      "execution_count": 20,
      "metadata": {
        "id": "hmDduxjSj37T",
        "colab": {
          "base_uri": "https://localhost:8080/"
        },
        "outputId": "5cebd41a-fe8d-4571-f8ae-a8b715c84f46"
      },
      "outputs": [
        {
          "output_type": "stream",
          "name": "stdout",
          "text": [
            "[250] accuracy : 83.9000%\n",
            "[500] accuracy : 84.8000%\n",
            "[750] accuracy : 83.9333%\n",
            "[1000] accuracy : 83.7750%\n",
            "[1250] accuracy : 84.1200%\n",
            "[1500] accuracy : 83.9667%\n",
            "[1750] accuracy : 83.9714%\n",
            "[2000] accuracy : 84.1250%\n",
            "[2250] accuracy : 84.0444%\n",
            "[2500] accuracy : 84.1200%\n"
          ]
        }
      ],
      "source": [
        "fused_afcle_rntm, fused_afcle_acc = validate_model(mbnet_fused_afcle, testloader, device = \"cuda\")\n"
      ]
    },
    {
      "cell_type": "code",
      "source": [
        "mbnet_fused_afcle_quant = quantize_model_mbnet(mbnet_fused_afcle)"
      ],
      "metadata": {
        "id": "RE5Dv_TRyw0k"
      },
      "execution_count": 21,
      "outputs": []
    },
    {
      "cell_type": "code",
      "execution_count": 22,
      "metadata": {
        "id": "YZ9w8v3Mj37U",
        "colab": {
          "base_uri": "https://localhost:8080/"
        },
        "outputId": "b5ec31a0-a8ff-46f7-c1cc-c4d2cd727706"
      },
      "outputs": [
        {
          "output_type": "stream",
          "name": "stdout",
          "text": [
            "[250] accuracy : 82.4000%\n",
            "[500] accuracy : 83.8500%\n",
            "[750] accuracy : 83.2667%\n",
            "[1000] accuracy : 82.9000%\n",
            "[1250] accuracy : 83.2600%\n",
            "[1500] accuracy : 83.1500%\n",
            "[1750] accuracy : 83.3286%\n",
            "[2000] accuracy : 83.5125%\n",
            "[2250] accuracy : 83.3889%\n",
            "[2500] accuracy : 83.5200%\n"
          ]
        }
      ],
      "source": [
        "afcle_quant_rntm, afcle_quant_acc = validate_model(mbnet_fused_afcle_quant, testloader, device = \"cpu\")"
      ]
    },
    {
      "cell_type": "code",
      "source": [
        "afcle_quant = []\n",
        "afcle_quant.append(afcle_quant_acc.detach().numpy())\n",
        "afcle_quant.append(round(afcle_quant_rntm,3))\n",
        "afcle_q_size = get_size_of_model(mbnet_fused_afcle_quant)\n",
        "afcle_quant.append(round(afcle_q_size,3))"
      ],
      "metadata": {
        "colab": {
          "base_uri": "https://localhost:8080/"
        },
        "id": "0kjtZbIz0v5Y",
        "outputId": "183598cd-717a-4397-ce46-6cdb8712a815"
      },
      "execution_count": 23,
      "outputs": [
        {
          "output_type": "stream",
          "name": "stdout",
          "text": [
            "Model size:  4.867409\n"
          ]
        }
      ]
    },
    {
      "cell_type": "code",
      "source": [
        "print(original)\n",
        "print(normal_quant)\n",
        "print(afcle_quant)"
      ],
      "metadata": {
        "colab": {
          "base_uri": "https://localhost:8080/"
        },
        "id": "0zEbGNaL1oop",
        "outputId": "ba602e38-bb11-43eb-f7e1-ff79a7c3b47e"
      },
      "execution_count": 24,
      "outputs": [
        {
          "output_type": "stream",
          "name": "stdout",
          "text": [
            "[array(84.12), 28.296, 17.619]\n",
            "[array(82.08), 97.709, 5.246]\n",
            "[array(83.52), 85.767, 4.867]\n"
          ]
        }
      ]
    },
    {
      "cell_type": "markdown",
      "source": [
        "Plotting the results:"
      ],
      "metadata": {
        "id": "ZO_YBjBRP0e7"
      }
    },
    {
      "cell_type": "code",
      "source": [
        "def addlabels(x,y,shift):\n",
        "    for i in range(len(x)):\n",
        "        plt.text(i, y[i]+shift, y[i], ha = 'center')\n",
        "\n",
        "fig = plt.figure()\n",
        "ax = fig.add_axes([0,0,1,1])\n",
        "m_type = ['Original model', 'Regular quantization', 'AFCLE quantization']\n",
        "data = [original[0],normal_quant[0],afcle_quant[0]]\n",
        "ax.bar(m_type,data)\n",
        "addlabels(m_type,data,0.1)\n",
        "max_y_lim = max(data) + 1\n",
        "min_y_lim = min(data) - 1\n",
        "plt.ylim(min_y_lim, max_y_lim)\n",
        "plt.xlabel(\"Model type\")\n",
        "plt.ylabel(\"Accuracy\")\n",
        "plt.title(\"Accuracy\")\n",
        "plt.show()\n",
        "\n",
        "fig = plt.figure()\n",
        "ax = fig.add_axes([0,0,1,1])\n",
        "m_type = ['Original model', 'Regular quantization', 'AFCLE quantization']\n",
        "data = [original[1],normal_quant[1],afcle_quant[1]]\n",
        "ax.bar(m_type,data)\n",
        "addlabels(m_type,data,1)\n",
        "max_y_lim = max(data) + 5\n",
        "min_y_lim = min(data) - 1\n",
        "plt.ylim(min_y_lim, max_y_lim)\n",
        "plt.xlabel(\"Model type\")\n",
        "plt.ylabel(\"Runtime\")\n",
        "plt.title(\"Runtime\")\n",
        "plt.show()\n",
        "\n",
        "fig = plt.figure()\n",
        "ax = fig.add_axes([0,0,1,1])\n",
        "m_type = ['Original model', 'Regular quantization', 'AFCLE quantization']\n",
        "data = [original[2],normal_quant[2],afcle_quant[2]]\n",
        "ax.bar(m_type,data)\n",
        "addlabels(m_type,data,0.5)\n",
        "max_y_lim = max(data) + 5\n",
        "min_y_lim = min(data) - 1\n",
        "plt.ylim(min_y_lim, max_y_lim)\n",
        "plt.xlabel(\"Model type\")\n",
        "plt.ylabel(\"Model size\")\n",
        "plt.title(\"Model size\")\n",
        "plt.show()"
      ],
      "metadata": {
        "colab": {
          "base_uri": "https://localhost:8080/",
          "height": 1000
        },
        "id": "ajtNv-B92yEq",
        "outputId": "254f7797-fda4-4533-feb4-b978f861821f"
      },
      "execution_count": 30,
      "outputs": [
        {
          "output_type": "display_data",
          "data": {
            "text/plain": [
              "<Figure size 432x288 with 1 Axes>"
            ],
            "image/png": "[encoded data removed]"
          },
          "metadata": {
            "needs_background": "light"
          }
        },
        {
          "output_type": "display_data",
          "data": {
            "text/plain": [
              "<Figure size 432x288 with 1 Axes>"
            ],
            "image/png": "[encoded data removed]"
          },
          "metadata": {
            "needs_background": "light"
          }
        },
        {
          "output_type": "display_data",
          "data": {
            "text/plain": [
              "<Figure size 432x288 with 1 Axes>"
            ],
            "image/png": "[encoded data removed]"
          },
          "metadata": {
            "needs_background": "light"
          }
        }
      ]
    }
  ],
  "metadata": {
    "kernelspec": {
      "display_name": "DL",
      "language": "python",
      "name": "python3"
    },
    "language_info": {
      "codemirror_mode": {
        "name": "ipython",
        "version": 3
      },
      "file_extension": ".py",
      "mimetype": "text/x-python",
      "name": "python",
      "nbconvert_exporter": "python",
      "pygments_lexer": "ipython3",
      "version": "3.10.6"
    },
    "orig_nbformat": 4,
    "vscode": {
      "interpreter": {
        "hash": "00c028aeb00f7fdff40cd87af2538ecbb62e22841edfeded95bfce39532fb4e3"
      }
    },
    "colab": {
      "provenance": []
    },
    "accelerator": "GPU",
    "gpuClass": "standard",
    "widgets": {
      "application/vnd.jupyter.widget-state+json": {
        "0218ef5edeef4fbc911c50f45a6d32e3": {
          "model_module": "@jupyter-widgets/controls",
          "model_name": "HBoxModel",
          "model_module_version": "1.5.0",
          "state": {
            "_dom_classes": [],
            "_model_module": "@jupyter-widgets/controls",
            "_model_module_version": "1.5.0",
            "_model_name": "HBoxModel",
            "_view_count": null,
            "_view_module": "@jupyter-widgets/controls",
            "_view_module_version": "1.5.0",
            "_view_name": "HBoxView",
            "box_style": "",
            "children": [
              "IPY_MODEL_21f33a9755404f15a492b1aa485b3931",
              "IPY_MODEL_c3d34df3079e4e47a1cc6d3efb0aa877",
              "IPY_MODEL_18456bad7b86418d980668e8449f81fc"
            ],
            "layout": "IPY_MODEL_0c25570320974a8e81eeda5926f6f59d"
          }
        },
        "21f33a9755404f15a492b1aa485b3931": {
          "model_module": "@jupyter-widgets/controls",
          "model_name": "HTMLModel",
          "model_module_version": "1.5.0",
          "state": {
            "_dom_classes": [],
            "_model_module": "@jupyter-widgets/controls",
            "_model_module_version": "1.5.0",
            "_model_name": "HTMLModel",
            "_view_count": null,
            "_view_module": "@jupyter-widgets/controls",
            "_view_module_version": "1.5.0",
            "_view_name": "HTMLView",
            "description": "",
            "description_tooltip": null,
            "layout": "IPY_MODEL_1d37410bc5cf491cb5c99e88bef0a610",
            "placeholder": "​",
            "style": "IPY_MODEL_98614d9d281d476c954061e4889559be",
            "value": "100%"
          }
        },
        "c3d34df3079e4e47a1cc6d3efb0aa877": {
          "model_module": "@jupyter-widgets/controls",
          "model_name": "FloatProgressModel",
          "model_module_version": "1.5.0",
          "state": {
            "_dom_classes": [],
            "_model_module": "@jupyter-widgets/controls",
            "_model_module_version": "1.5.0",
            "_model_name": "FloatProgressModel",
            "_view_count": null,
            "_view_module": "@jupyter-widgets/controls",
            "_view_module_version": "1.5.0",
            "_view_name": "ProgressView",
            "bar_style": "success",
            "description": "",
            "description_tooltip": null,
            "layout": "IPY_MODEL_5ce8864b37b14e7dadd63474d23712b3",
            "max": 170498071,
            "min": 0,
            "orientation": "horizontal",
            "style": "IPY_MODEL_62ac950d6bb74529aad40adbd736e5bc",
            "value": 170498071
          }
        },
        "18456bad7b86418d980668e8449f81fc": {
          "model_module": "@jupyter-widgets/controls",
          "model_name": "HTMLModel",
          "model_module_version": "1.5.0",
          "state": {
            "_dom_classes": [],
            "_model_module": "@jupyter-widgets/controls",
            "_model_module_version": "1.5.0",
            "_model_name": "HTMLModel",
            "_view_count": null,
            "_view_module": "@jupyter-widgets/controls",
            "_view_module_version": "1.5.0",
            "_view_name": "HTMLView",
            "description": "",
            "description_tooltip": null,
            "layout": "IPY_MODEL_7471854c73a04da98efdf08eaa695813",
            "placeholder": "​",
            "style": "IPY_MODEL_166e1ae530c44222a632c53fceac1f1f",
            "value": " 170498071/170498071 [00:06&lt;00:00, 31419619.32it/s]"
          }
        },
        "0c25570320974a8e81eeda5926f6f59d": {
          "model_module": "@jupyter-widgets/base",
          "model_name": "LayoutModel",
          "model_module_version": "1.2.0",
          "state": {
            "_model_module": "@jupyter-widgets/base",
            "_model_module_version": "1.2.0",
            "_model_name": "LayoutModel",
            "_view_count": null,
            "_view_module": "@jupyter-widgets/base",
            "_view_module_version": "1.2.0",
            "_view_name": "LayoutView",
            "align_content": null,
            "align_items": null,
            "align_self": null,
            "border": null,
            "bottom": null,
            "display": null,
            "flex": null,
            "flex_flow": null,
            "grid_area": null,
            "grid_auto_columns": null,
            "grid_auto_flow": null,
            "grid_auto_rows": null,
            "grid_column": null,
            "grid_gap": null,
            "grid_row": null,
            "grid_template_areas": null,
            "grid_template_columns": null,
            "grid_template_rows": null,
            "height": null,
            "justify_content": null,
            "justify_items": null,
            "left": null,
            "margin": null,
            "max_height": null,
            "max_width": null,
            "min_height": null,
            "min_width": null,
            "object_fit": null,
            "object_position": null,
            "order": null,
            "overflow": null,
            "overflow_x": null,
            "overflow_y": null,
            "padding": null,
            "right": null,
            "top": null,
            "visibility": null,
            "width": null
          }
        },
        "1d37410bc5cf491cb5c99e88bef0a610": {
          "model_module": "@jupyter-widgets/base",
          "model_name": "LayoutModel",
          "model_module_version": "1.2.0",
          "state": {
            "_model_module": "@jupyter-widgets/base",
            "_model_module_version": "1.2.0",
            "_model_name": "LayoutModel",
            "_view_count": null,
            "_view_module": "@jupyter-widgets/base",
            "_view_module_version": "1.2.0",
            "_view_name": "LayoutView",
            "align_content": null,
            "align_items": null,
            "align_self": null,
            "border": null,
            "bottom": null,
            "display": null,
            "flex": null,
            "flex_flow": null,
            "grid_area": null,
            "grid_auto_columns": null,
            "grid_auto_flow": null,
            "grid_auto_rows": null,
            "grid_column": null,
            "grid_gap": null,
            "grid_row": null,
            "grid_template_areas": null,
            "grid_template_columns": null,
            "grid_template_rows": null,
            "height": null,
            "justify_content": null,
            "justify_items": null,
            "left": null,
            "margin": null,
            "max_height": null,
            "max_width": null,
            "min_height": null,
            "min_width": null,
            "object_fit": null,
            "object_position": null,
            "order": null,
            "overflow": null,
            "overflow_x": null,
            "overflow_y": null,
            "padding": null,
            "right": null,
            "top": null,
            "visibility": null,
            "width": null
          }
        },
        "98614d9d281d476c954061e4889559be": {
          "model_module": "@jupyter-widgets/controls",
          "model_name": "DescriptionStyleModel",
          "model_module_version": "1.5.0",
          "state": {
            "_model_module": "@jupyter-widgets/controls",
            "_model_module_version": "1.5.0",
            "_model_name": "DescriptionStyleModel",
            "_view_count": null,
            "_view_module": "@jupyter-widgets/base",
            "_view_module_version": "1.2.0",
            "_view_name": "StyleView",
            "description_width": ""
          }
        },
        "5ce8864b37b14e7dadd63474d23712b3": {
          "model_module": "@jupyter-widgets/base",
          "model_name": "LayoutModel",
          "model_module_version": "1.2.0",
          "state": {
            "_model_module": "@jupyter-widgets/base",
            "_model_module_version": "1.2.0",
            "_model_name": "LayoutModel",
            "_view_count": null,
            "_view_module": "@jupyter-widgets/base",
            "_view_module_version": "1.2.0",
            "_view_name": "LayoutView",
            "align_content": null,
            "align_items": null,
            "align_self": null,
            "border": null,
            "bottom": null,
            "display": null,
            "flex": null,
            "flex_flow": null,
            "grid_area": null,
            "grid_auto_columns": null,
            "grid_auto_flow": null,
            "grid_auto_rows": null,
            "grid_column": null,
            "grid_gap": null,
            "grid_row": null,
            "grid_template_areas": null,
            "grid_template_columns": null,
            "grid_template_rows": null,
            "height": null,
            "justify_content": null,
            "justify_items": null,
            "left": null,
            "margin": null,
            "max_height": null,
            "max_width": null,
            "min_height": null,
            "min_width": null,
            "object_fit": null,
            "object_position": null,
            "order": null,
            "overflow": null,
            "overflow_x": null,
            "overflow_y": null,
            "padding": null,
            "right": null,
            "top": null,
            "visibility": null,
            "width": null
          }
        },
        "62ac950d6bb74529aad40adbd736e5bc": {
          "model_module": "@jupyter-widgets/controls",
          "model_name": "ProgressStyleModel",
          "model_module_version": "1.5.0",
          "state": {
            "_model_module": "@jupyter-widgets/controls",
            "_model_module_version": "1.5.0",
            "_model_name": "ProgressStyleModel",
            "_view_count": null,
            "_view_module": "@jupyter-widgets/base",
            "_view_module_version": "1.2.0",
            "_view_name": "StyleView",
            "bar_color": null,
            "description_width": ""
          }
        },
        "7471854c73a04da98efdf08eaa695813": {
          "model_module": "@jupyter-widgets/base",
          "model_name": "LayoutModel",
          "model_module_version": "1.2.0",
          "state": {
            "_model_module": "@jupyter-widgets/base",
            "_model_module_version": "1.2.0",
            "_model_name": "LayoutModel",
            "_view_count": null,
            "_view_module": "@jupyter-widgets/base",
            "_view_module_version": "1.2.0",
            "_view_name": "LayoutView",
            "align_content": null,
            "align_items": null,
            "align_self": null,
            "border": null,
            "bottom": null,
            "display": null,
            "flex": null,
            "flex_flow": null,
            "grid_area": null,
            "grid_auto_columns": null,
            "grid_auto_flow": null,
            "grid_auto_rows": null,
            "grid_column": null,
            "grid_gap": null,
            "grid_row": null,
            "grid_template_areas": null,
            "grid_template_columns": null,
            "grid_template_rows": null,
            "height": null,
            "justify_content": null,
            "justify_items": null,
            "left": null,
            "margin": null,
            "max_height": null,
            "max_width": null,
            "min_height": null,
            "min_width": null,
            "object_fit": null,
            "object_position": null,
            "order": null,
            "overflow": null,
            "overflow_x": null,
            "overflow_y": null,
            "padding": null,
            "right": null,
            "top": null,
            "visibility": null,
            "width": null
          }
        },
        "166e1ae530c44222a632c53fceac1f1f": {
          "model_module": "@jupyter-widgets/controls",
          "model_name": "DescriptionStyleModel",
          "model_module_version": "1.5.0",
          "state": {
            "_model_module": "@jupyter-widgets/controls",
            "_model_module_version": "1.5.0",
            "_model_name": "DescriptionStyleModel",
            "_view_count": null,
            "_view_module": "@jupyter-widgets/base",
            "_view_module_version": "1.2.0",
            "_view_name": "StyleView",
            "description_width": ""
          }
        },
        "e4b4e99b3c8943c4a3416c623a9645a0": {
          "model_module": "@jupyter-widgets/controls",
          "model_name": "HBoxModel",
          "model_module_version": "1.5.0",
          "state": {
            "_dom_classes": [],
            "_model_module": "@jupyter-widgets/controls",
            "_model_module_version": "1.5.0",
            "_model_name": "HBoxModel",
            "_view_count": null,
            "_view_module": "@jupyter-widgets/controls",
            "_view_module_version": "1.5.0",
            "_view_name": "HBoxView",
            "box_style": "",
            "children": [
              "IPY_MODEL_9777ce3fba50407ab00a788f7f4e29c5",
              "IPY_MODEL_b0b429e2c14641f69d112322bfdf0787",
              "IPY_MODEL_81ec6ab41e6941b99859432574ae5022"
            ],
            "layout": "IPY_MODEL_b20036f0f40c485aa16a85e44c8b548d"
          }
        },
        "9777ce3fba50407ab00a788f7f4e29c5": {
          "model_module": "@jupyter-widgets/controls",
          "model_name": "HTMLModel",
          "model_module_version": "1.5.0",
          "state": {
            "_dom_classes": [],
            "_model_module": "@jupyter-widgets/controls",
            "_model_module_version": "1.5.0",
            "_model_name": "HTMLModel",
            "_view_count": null,
            "_view_module": "@jupyter-widgets/controls",
            "_view_module_version": "1.5.0",
            "_view_name": "HTMLView",
            "description": "",
            "description_tooltip": null,
            "layout": "IPY_MODEL_35ddc5af312d4ae4b72dc1c11d802bdf",
            "placeholder": "​",
            "style": "IPY_MODEL_2677d914dafc46f7ae639cb441beb62d",
            "value": "100%"
          }
        },
        "b0b429e2c14641f69d112322bfdf0787": {
          "model_module": "@jupyter-widgets/controls",
          "model_name": "FloatProgressModel",
          "model_module_version": "1.5.0",
          "state": {
            "_dom_classes": [],
            "_model_module": "@jupyter-widgets/controls",
            "_model_module_version": "1.5.0",
            "_model_name": "FloatProgressModel",
            "_view_count": null,
            "_view_module": "@jupyter-widgets/controls",
            "_view_module_version": "1.5.0",
            "_view_name": "ProgressView",
            "bar_style": "success",
            "description": "",
            "description_tooltip": null,
            "layout": "IPY_MODEL_94c9314348fa49258c648fa4f4571b77",
            "max": 17635961,
            "min": 0,
            "orientation": "horizontal",
            "style": "IPY_MODEL_d41a42d9cdf741a0a9315e400f6ec77a",
            "value": 17635961
          }
        },
        "81ec6ab41e6941b99859432574ae5022": {
          "model_module": "@jupyter-widgets/controls",
          "model_name": "HTMLModel",
          "model_module_version": "1.5.0",
          "state": {
            "_dom_classes": [],
            "_model_module": "@jupyter-widgets/controls",
            "_model_module_version": "1.5.0",
            "_model_name": "HTMLModel",
            "_view_count": null,
            "_view_module": "@jupyter-widgets/controls",
            "_view_module_version": "1.5.0",
            "_view_name": "HTMLView",
            "description": "",
            "description_tooltip": null,
            "layout": "IPY_MODEL_f31fc7317330411fb2c40a0ddb35ec94",
            "placeholder": "​",
            "style": "IPY_MODEL_1f338e775dce4e5ea1ae0c406a12f06f",
            "value": " 16.8M/16.8M [00:00&lt;00:00, 21.5MB/s]"
          }
        },
        "b20036f0f40c485aa16a85e44c8b548d": {
          "model_module": "@jupyter-widgets/base",
          "model_name": "LayoutModel",
          "model_module_version": "1.2.0",
          "state": {
            "_model_module": "@jupyter-widgets/base",
            "_model_module_version": "1.2.0",
            "_model_name": "LayoutModel",
            "_view_count": null,
            "_view_module": "@jupyter-widgets/base",
            "_view_module_version": "1.2.0",
            "_view_name": "LayoutView",
            "align_content": null,
            "align_items": null,
            "align_self": null,
            "border": null,
            "bottom": null,
            "display": null,
            "flex": null,
            "flex_flow": null,
            "grid_area": null,
            "grid_auto_columns": null,
            "grid_auto_flow": null,
            "grid_auto_rows": null,
            "grid_column": null,
            "grid_gap": null,
            "grid_row": null,
            "grid_template_areas": null,
            "grid_template_columns": null,
            "grid_template_rows": null,
            "height": null,
            "justify_content": null,
            "justify_items": null,
            "left": null,
            "margin": null,
            "max_height": null,
            "max_width": null,
            "min_height": null,
            "min_width": null,
            "object_fit": null,
            "object_position": null,
            "order": null,
            "overflow": null,
            "overflow_x": null,
            "overflow_y": null,
            "padding": null,
            "right": null,
            "top": null,
            "visibility": null,
            "width": null
          }
        },
        "35ddc5af312d4ae4b72dc1c11d802bdf": {
          "model_module": "@jupyter-widgets/base",
          "model_name": "LayoutModel",
          "model_module_version": "1.2.0",
          "state": {
            "_model_module": "@jupyter-widgets/base",
            "_model_module_version": "1.2.0",
            "_model_name": "LayoutModel",
            "_view_count": null,
            "_view_module": "@jupyter-widgets/base",
            "_view_module_version": "1.2.0",
            "_view_name": "LayoutView",
            "align_content": null,
            "align_items": null,
            "align_self": null,
            "border": null,
            "bottom": null,
            "display": null,
            "flex": null,
            "flex_flow": null,
            "grid_area": null,
            "grid_auto_columns": null,
            "grid_auto_flow": null,
            "grid_auto_rows": null,
            "grid_column": null,
            "grid_gap": null,
            "grid_row": null,
            "grid_template_areas": null,
            "grid_template_columns": null,
            "grid_template_rows": null,
            "height": null,
            "justify_content": null,
            "justify_items": null,
            "left": null,
            "margin": null,
            "max_height": null,
            "max_width": null,
            "min_height": null,
            "min_width": null,
            "object_fit": null,
            "object_position": null,
            "order": null,
            "overflow": null,
            "overflow_x": null,
            "overflow_y": null,
            "padding": null,
            "right": null,
            "top": null,
            "visibility": null,
            "width": null
          }
        },
        "2677d914dafc46f7ae639cb441beb62d": {
          "model_module": "@jupyter-widgets/controls",
          "model_name": "DescriptionStyleModel",
          "model_module_version": "1.5.0",
          "state": {
            "_model_module": "@jupyter-widgets/controls",
            "_model_module_version": "1.5.0",
            "_model_name": "DescriptionStyleModel",
            "_view_count": null,
            "_view_module": "@jupyter-widgets/base",
            "_view_module_version": "1.2.0",
            "_view_name": "StyleView",
            "description_width": ""
          }
        },
        "94c9314348fa49258c648fa4f4571b77": {
          "model_module": "@jupyter-widgets/base",
          "model_name": "LayoutModel",
          "model_module_version": "1.2.0",
          "state": {
            "_model_module": "@jupyter-widgets/base",
            "_model_module_version": "1.2.0",
            "_model_name": "LayoutModel",
            "_view_count": null,
            "_view_module": "@jupyter-widgets/base",
            "_view_module_version": "1.2.0",
            "_view_name": "LayoutView",
            "align_content": null,
            "align_items": null,
            "align_self": null,
            "border": null,
            "bottom": null,
            "display": null,
            "flex": null,
            "flex_flow": null,
            "grid_area": null,
            "grid_auto_columns": null,
            "grid_auto_flow": null,
            "grid_auto_rows": null,
            "grid_column": null,
            "grid_gap": null,
            "grid_row": null,
            "grid_template_areas": null,
            "grid_template_columns": null,
            "grid_template_rows": null,
            "height": null,
            "justify_content": null,
            "justify_items": null,
            "left": null,
            "margin": null,
            "max_height": null,
            "max_width": null,
            "min_height": null,
            "min_width": null,
            "object_fit": null,
            "object_position": null,
            "order": null,
            "overflow": null,
            "overflow_x": null,
            "overflow_y": null,
            "padding": null,
            "right": null,
            "top": null,
            "visibility": null,
            "width": null
          }
        },
        "d41a42d9cdf741a0a9315e400f6ec77a": {
          "model_module": "@jupyter-widgets/controls",
          "model_name": "ProgressStyleModel",
          "model_module_version": "1.5.0",
          "state": {
            "_model_module": "@jupyter-widgets/controls",
            "_model_module_version": "1.5.0",
            "_model_name": "ProgressStyleModel",
            "_view_count": null,
            "_view_module": "@jupyter-widgets/base",
            "_view_module_version": "1.2.0",
            "_view_name": "StyleView",
            "bar_color": null,
            "description_width": ""
          }
        },
        "f31fc7317330411fb2c40a0ddb35ec94": {
          "model_module": "@jupyter-widgets/base",
          "model_name": "LayoutModel",
          "model_module_version": "1.2.0",
          "state": {
            "_model_module": "@jupyter-widgets/base",
            "_model_module_version": "1.2.0",
            "_model_name": "LayoutModel",
            "_view_count": null,
            "_view_module": "@jupyter-widgets/base",
            "_view_module_version": "1.2.0",
            "_view_name": "LayoutView",
            "align_content": null,
            "align_items": null,
            "align_self": null,
            "border": null,
            "bottom": null,
            "display": null,
            "flex": null,
            "flex_flow": null,
            "grid_area": null,
            "grid_auto_columns": null,
            "grid_auto_flow": null,
            "grid_auto_rows": null,
            "grid_column": null,
            "grid_gap": null,
            "grid_row": null,
            "grid_template_areas": null,
            "grid_template_columns": null,
            "grid_template_rows": null,
            "height": null,
            "justify_content": null,
            "justify_items": null,
            "left": null,
            "margin": null,
            "max_height": null,
            "max_width": null,
            "min_height": null,
            "min_width": null,
            "object_fit": null,
            "object_position": null,
            "order": null,
            "overflow": null,
            "overflow_x": null,
            "overflow_y": null,
            "padding": null,
            "right": null,
            "top": null,
            "visibility": null,
            "width": null
          }
        },
        "1f338e775dce4e5ea1ae0c406a12f06f": {
          "model_module": "@jupyter-widgets/controls",
          "model_name": "DescriptionStyleModel",
          "model_module_version": "1.5.0",
          "state": {
            "_model_module": "@jupyter-widgets/controls",
            "_model_module_version": "1.5.0",
            "_model_name": "DescriptionStyleModel",
            "_view_count": null,
            "_view_module": "@jupyter-widgets/base",
            "_view_module_version": "1.2.0",
            "_view_name": "StyleView",
            "description_width": ""
          }
        }
      }
    }
  },
  "nbformat": 4,
  "nbformat_minor": 0
}