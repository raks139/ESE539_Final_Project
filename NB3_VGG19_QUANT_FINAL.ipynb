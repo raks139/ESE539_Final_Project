{
  "cells": [
    {
      "cell_type": "code",
      "execution_count": 1,
      "metadata": {
        "colab": {
          "base_uri": "https://localhost:8080/"
        },
        "id": "W27yG4hY0jWn",
        "outputId": "028400a4-80f0-4c30-dd80-a65bb4764b70"
      },
      "outputs": [
        {
          "output_type": "stream",
          "name": "stdout",
          "text": [
            "rm: cannot remove 'data': No such file or directory\n",
            "PyTorch Version:  1.13.0+cu116\n",
            "Torchvision Version:  0.14.0+cu116\n"
          ]
        }
      ],
      "source": [
        "import torch\n",
        "import torch.nn as nn\n",
        "import torch.nn.functional as F\n",
        "import torchvision\n",
        "import numpy as np\n",
        "import copy\n",
        "import os\n",
        "import torch.nn.utils.prune as prune\n",
        "import matplotlib.pyplot as plt\n",
        "import time\n",
        "from torchvision import datasets, models, transforms\n",
        "from pathlib import Path\n",
        "from typing import Any, cast, Dict, List, Optional, Union\n",
        "import torchvision.transforms as transforms\n",
        "import torch.optim as optim\n",
        "\n",
        "from pprint import pprint\n",
        "\n",
        "!rm data || rm -rf data\n",
        "!mkdir data\n",
        "print(\"PyTorch Version: \", torch.__version__)\n",
        "print(\"Torchvision Version: \", torchvision.__version__)\n",
        "\n",
        "torch.manual_seed(0)\n",
        "np.random.seed(0)"
      ]
    },
    {
      "cell_type": "markdown",
      "source": [
        "Helper functions:\n",
        "\n",
        "1. To get model size\n",
        "2. To validate and produce accuracy for the model"
      ],
      "metadata": {
        "id": "kSK2MhGocmiQ"
      }
    },
    {
      "cell_type": "code",
      "execution_count": 2,
      "metadata": {
        "id": "cwY-NZ7P0mrG"
      },
      "outputs": [],
      "source": [
        "def validate_model(model, dataloader, device = \"cuda\", trials = 1):\n",
        "\n",
        "    model.eval()\n",
        "\n",
        "    dev = torch.device(device)\n",
        "    model.to(dev)\n",
        "\n",
        "    run_time = 0\n",
        "    correct = 0\n",
        "    total = 0 \n",
        "\n",
        "\n",
        "    if (device == \"cuda\"):\n",
        "\n",
        "\n",
        "      for i, (inputs, labels) in enumerate(dataloader):\n",
        "\n",
        "        # print(i)\n",
        "\n",
        "        #print(f\"i = {i}\")\n",
        "        start = time.time()\n",
        "\n",
        "        inputs = inputs.to(dev)\n",
        "        labels = labels.to(dev)\n",
        "        # an option can be of not sending the labels to GPU. Instead sending output back from GPU to CPU and getting the prediction on the CPU.\n",
        "\n",
        "        \n",
        "        outputs = model(inputs)\n",
        "        torch.cuda.synchronize()\n",
        "        # check torch.cuda.current_stream.synchronize()\n",
        "        end = time.time()\n",
        "        run_time += end - start\n",
        "        # outputs = outputs.to(\"cpu\") # an alternative here is ofc to send labels to GPU. \n",
        "\n",
        "        _, predicted = torch.max(outputs,1)\n",
        "\n",
        "        predicted = predicted.to(\"cpu\")\n",
        "        labels = labels.to(\"cpu\")\n",
        "\n",
        "        correct += torch.sum(predicted == labels.data)\n",
        "        total += inputs.size()[0]\n",
        "\n",
        "        if i % 250 == 249:\n",
        "          acc_local = 100 * correct.double() / total\n",
        "          print(f\"[{i+1}] accuracy : {acc_local:.4f}%\")\n",
        "        # in for loop\n",
        "      #in the main fn\n",
        "\n",
        "      run_time = run_time / trials\n",
        "      accuracy = 100 * correct.double() / total\n",
        "\n",
        "      torch.cuda.empty_cache()\n",
        "\n",
        "    elif (device == \"cpu\"):\n",
        "      for i, (inputs, labels) in enumerate(dataloader):\n",
        "\n",
        "        # print(i)totalzeros = 0\n",
        "        totalelements = 0\n",
        "        start = time.time()\n",
        "        # an option can be of not sending the labels to GPU. Instead sending output back from GPU to CPU and getting the prediction on the CPU.\n",
        "\n",
        "        \n",
        "        outputs = model(inputs)\n",
        "        # check torch.cuda.current_stream.synchronize()\n",
        "        end = time.time()\n",
        "        run_time += end - start\n",
        "        # outputs = outputs.to(\"cpu\") # an alternative here is ofc to send labels to GPU. \n",
        "\n",
        "        _, predicted = torch.max(outputs,1)\n",
        "\n",
        "        correct += torch.sum(predicted == labels.data)\n",
        "        total += inputs.size()[0]\n",
        "\n",
        "        if i % 250 == 249:\n",
        "          acc_local = 100 * correct.double() / total\n",
        "          print(f\"[{i+1}] accuracy : {acc_local:.4f}%\")\n",
        "        # in for loop\n",
        "      #in the main fn\n",
        "\n",
        "      run_time = run_time / trials\n",
        "      accuracy = 100 * correct.double() / total\n",
        "\n",
        "\n",
        "    return run_time, accuracy\n",
        "\n",
        "def get_size_of_model(model):\n",
        "    torch.save(model.state_dict(), \"temp.p\")\n",
        "    model_size = os.path.getsize(\"temp.p\")/1e6\n",
        "    os.remove('temp.p')\n",
        "    print(\"Model size: \", model_size)\n",
        "    return model_size"
      ]
    },
    {
      "cell_type": "markdown",
      "source": [
        "Functions to reconstruct the smaller new VGG-19 models after pruning:"
      ],
      "metadata": {
        "id": "U8h9rNlIczdK"
      }
    },
    {
      "cell_type": "code",
      "execution_count": 3,
      "metadata": {
        "id": "5TWKcVagoN8g"
      },
      "outputs": [],
      "source": [
        "def make_layers(cfg: List[Union[str, int]], batch_norm: bool = False) -> nn.Sequential:\n",
        "    layers: List[nn.Module] = []\n",
        "    in_channels = 3\n",
        "    for v in cfg:\n",
        "        if v == \"M\":\n",
        "            layers += [nn.MaxPool2d(kernel_size=2, stride=2)]\n",
        "        else:\n",
        "            v = cast(int, v)\n",
        "            conv2d = nn.Conv2d(in_channels, v, kernel_size=3, padding=1)\n",
        "            if batch_norm:\n",
        "                layers += [conv2d, nn.BatchNorm2d(v), nn.ReLU(inplace=True)]\n",
        "            else:\n",
        "                layers += [conv2d, nn.ReLU(inplace=True)]\n",
        "            in_channels = v\n",
        "    return nn.Sequential(*layers)\n",
        "\n",
        "def make_lin_layers(last_out_channels,num_hidden,num_classes) -> nn.Sequential:\n",
        "\n",
        "    layers: List[nn.Module] = []\n",
        "    layers += [nn.Linear(last_out_channels,num_hidden)]\n",
        "    layers += [nn.ReLU(inplace=True)]\n",
        "    layers += [nn.Dropout(p=0.5)]\n",
        "    layers += [nn.Linear(num_hidden, num_hidden)]\n",
        "    layers += [nn.ReLU(inplace=True)]\n",
        "    layers += [nn.Dropout(p=0.5)]\n",
        "    layers += [nn.Linear(num_hidden, num_classes)]\n",
        "\n",
        "    return nn.Sequential(*layers)"
      ]
    },
    {
      "cell_type": "markdown",
      "source": [
        "Loading the pretrained model:"
      ],
      "metadata": {
        "id": "-Kd53chxc0xN"
      }
    },
    {
      "cell_type": "code",
      "execution_count": 4,
      "metadata": {
        "colab": {
          "base_uri": "https://localhost:8080/",
          "height": 138,
          "referenced_widgets": [
            "49e210ba83454c0eb263c16f49234bff",
            "4c13a18e76bc408abf2b3721aec26b43",
            "7935f58e48294cb8893de9877766b2d9",
            "4004edcb4d014037898b779e7cc910ae",
            "6e2eebdcb4ed42689e5ec00225e8fe89",
            "b7249626235f4e3187852b5bd3499c7e",
            "bb8e13a08dfd4d69aa0128ed3cfe1ba2",
            "a112da23eae249bb961d609d3d978724",
            "f7ce61e194454a7486c0cdd0fbed6c15",
            "b2403f14c6c4459eba6250d16258be6a",
            "d3232dc5a8c04fd89c0e7465f3636f0b"
          ]
        },
        "id": "rrbXyj6Z0v7y",
        "outputId": "44955654-56b3-41ea-bc2c-b6bc7398afe8"
      },
      "outputs": [
        {
          "output_type": "stream",
          "name": "stderr",
          "text": [
            "/usr/local/lib/python3.8/dist-packages/torch/hub.py:267: UserWarning: You are about to download and run code from an untrusted repository. In a future release, this won't be allowed. To add the repository to your trusted list, change the command to {calling_fn}(..., trust_repo=False) and a command prompt will appear asking for an explicit confirmation of trust, or load(..., trust_repo=True), which will assume that the prompt is to be answered with 'yes'. You can also use load(..., trust_repo='check') which will only prompt for confirmation if the repo is not already trusted. This will eventually be the default behaviour\n",
            "  warnings.warn(\n",
            "Downloading: \"https://github.com/chenyaofo/pytorch-cifar-models/zipball/master\" to /root/.cache/torch/hub/master.zip\n",
            "Downloading: \"https://github.com/chenyaofo/pytorch-cifar-models/releases/download/vgg/cifar10_vgg19_bn-57191229.pt\" to /root/.cache/torch/hub/checkpoints/cifar10_vgg19_bn-57191229.pt\n"
          ]
        },
        {
          "output_type": "display_data",
          "data": {
            "text/plain": [
              "  0%|          | 0.00/78.5M [00:00<?, ?B/s]"
            ],
            "application/vnd.jupyter.widget-view+json": {
              "version_major": 2,
              "version_minor": 0,
              "model_id": "49e210ba83454c0eb263c16f49234bff"
            }
          },
          "metadata": {}
        }
      ],
      "source": [
        "vgg_19_CIFAR_10_ver1 = torch.hub.load(\"chenyaofo/pytorch-cifar-models\", \"cifar10_vgg19_bn\", pretrained = True)"
      ]
    },
    {
      "cell_type": "markdown",
      "source": [
        "Function to plot the weight distribution layerwise before/after AFCLE:"
      ],
      "metadata": {
        "id": "_F4OXX5Yc5Md"
      }
    },
    {
      "cell_type": "code",
      "source": [
        "def plot_weights_VGG19(model1,conv_list1, model2, conv_list2):\n",
        "    \n",
        "    for i in range(len(conv_list1)):  \n",
        "        x1 = model1.features[conv_list1[i]].weight\n",
        "        sh1 = model1.features[conv_list1[i]].weight.shape\n",
        "        N1, C1, W1, H1 = sh1[0], sh1[1], sh1[2], sh1[3]\n",
        "        y1 = x1.view(N1, C1 * W1 * H1)\n",
        "        x1_new = y1.detach().cpu().numpy()\n",
        "\n",
        "        x2 = model2.features[conv_list2[i]].weight\n",
        "        sh2 = model2.features[conv_list2[i]].weight.shape\n",
        "        N2, C2, W2, H2 = sh2[0], sh2[1], sh2[2], sh2[3]\n",
        "        y2 = x2.view(N2, C2 * W2 * H2)\n",
        "        x2_new = y2.detach().cpu().numpy()    \n",
        "\n",
        "        fig, (ax1, ax2) = plt.subplots(1, 2)\n",
        "        fig.suptitle(\"CONV LAYER: \"+str(i))\n",
        "        fig.set_figwidth(35)\n",
        "        fig.set_figheight(7)\n",
        "        ax1.boxplot(x1_new.T,showfliers=False)\n",
        "        ax2.boxplot(x2_new.T,showfliers=False) \n",
        "        fig.autofmt_xdate()\n",
        "        plt.show()\n"
      ],
      "metadata": {
        "id": "IpHWjM52TnFr"
      },
      "execution_count": 58,
      "outputs": []
    },
    {
      "cell_type": "markdown",
      "source": [
        "Loading the datasets and dataloader:"
      ],
      "metadata": {
        "id": "nEQ0Bs1qc9uo"
      }
    },
    {
      "cell_type": "code",
      "execution_count": 6,
      "metadata": {
        "colab": {
          "base_uri": "https://localhost:8080/",
          "height": 138,
          "referenced_widgets": [
            "65778aec11114ac39167550722670746",
            "12075ad7386f4b748964bd46987fc7d9",
            "88818872c85c41c5aedcb20cc90090ae",
            "f74d6ee9b3474a30b1519f64a1e46af8",
            "71e2c908c8cf4d038926a514ef6b6d3e",
            "84a5d6118d1548e5ac723b5a1cceddcb",
            "b7dff1dcead14a18b934696606ac83e0",
            "4e8056b5ea8040cd901c0c11e7629663",
            "4d6b76a620b64f348c8343bb1d248de0",
            "5754905578f04148980b2f805dc14f8a",
            "f043c7d92b25453abd0e580709a83553"
          ]
        },
        "id": "O8vk_1pkm78l",
        "outputId": "710bc12a-6f4f-41ea-afe1-3211168b1bc9"
      },
      "outputs": [
        {
          "output_type": "stream",
          "name": "stdout",
          "text": [
            "Downloading https://www.cs.toronto.edu/~kriz/cifar-10-python.tar.gz to ./data/cifar-10-python.tar.gz\n"
          ]
        },
        {
          "output_type": "display_data",
          "data": {
            "text/plain": [
              "  0%|          | 0/170498071 [00:00<?, ?it/s]"
            ],
            "application/vnd.jupyter.widget-view+json": {
              "version_major": 2,
              "version_minor": 0,
              "model_id": "65778aec11114ac39167550722670746"
            }
          },
          "metadata": {}
        },
        {
          "output_type": "stream",
          "name": "stdout",
          "text": [
            "Extracting ./data/cifar-10-python.tar.gz to ./data\n"
          ]
        },
        {
          "output_type": "stream",
          "name": "stderr",
          "text": [
            "/usr/local/lib/python3.8/dist-packages/torch/utils/data/dataloader.py:554: UserWarning: This DataLoader will create 4 worker processes in total. Our suggested max number of worker in current system is 2, which is smaller than what this DataLoader is going to create. Please be aware that excessive worker creation might get DataLoader running slow or even freeze, lower the worker number to avoid potential slowness/freeze if necessary.\n",
            "  warnings.warn(_create_warning_msg(\n"
          ]
        }
      ],
      "source": [
        "transform = transforms.Compose(\n",
        "    [transforms.ToTensor(),\n",
        "     transforms.Normalize((0.5, 0.5, 0.5), (0.5, 0.5, 0.5))])\n",
        "\n",
        "testset = torchvision.datasets.CIFAR10(root='./data', train=False,\n",
        "                                        download=True, transform=transform)\n",
        "testloader = torch.utils.data.DataLoader(testset, batch_size=4,\n",
        "                                          shuffle=True, num_workers=4)\n",
        "                                \n",
        "classes = ('plane', 'car', 'bird', 'cat',\n",
        "           'deer', 'dog', 'frog', 'horse', 'ship', 'truck')"
      ]
    },
    {
      "cell_type": "code",
      "execution_count": 7,
      "metadata": {
        "id": "RVyjGXfIveRR"
      },
      "outputs": [],
      "source": [
        "accu_list = []\n",
        "size_model = []\n",
        "sparse_list = []\n",
        "runtime_list = []"
      ]
    },
    {
      "cell_type": "markdown",
      "source": [
        "Validating and recording stats (accuracy, runtime, model size) for original model:"
      ],
      "metadata": {
        "id": "mpYEe911dC4y"
      }
    },
    {
      "cell_type": "code",
      "execution_count": 8,
      "metadata": {
        "colab": {
          "base_uri": "https://localhost:8080/"
        },
        "id": "CL9FJA81v3Hn",
        "outputId": "47bfe0c0-3e79-4acb-abb8-46045746aeff"
      },
      "outputs": [
        {
          "output_type": "stream",
          "name": "stdout",
          "text": [
            "[250] accuracy : 81.4000%\n",
            "[500] accuracy : 82.1000%\n",
            "[750] accuracy : 82.1000%\n",
            "[1000] accuracy : 82.4250%\n",
            "[1250] accuracy : 81.9600%\n",
            "[1500] accuracy : 81.4000%\n",
            "[1750] accuracy : 81.3000%\n",
            "[2000] accuracy : 81.3625%\n",
            "[2250] accuracy : 81.3000%\n",
            "[2500] accuracy : 81.3100%\n",
            "Model size:  82.338669\n"
          ]
        }
      ],
      "source": [
        "rn_time, acc = validate_model(vgg_19_CIFAR_10_ver1, testloader,device=\"cuda\")\n",
        "\n",
        "model_sz = get_size_of_model(vgg_19_CIFAR_10_ver1)\n",
        "\n",
        "accu_list.append(acc)\n",
        "runtime_list.append(rn_time)\n",
        "size_model.append(model_sz)\n",
        "sparse_list.append(0)"
      ]
    },
    {
      "cell_type": "markdown",
      "source": [
        "Function that prunes, reduces the model size and retrains the model:"
      ],
      "metadata": {
        "id": "9g203-8XdGth"
      }
    },
    {
      "cell_type": "code",
      "execution_count": 9,
      "metadata": {
        "id": "Wa8dTueJ0jK6"
      },
      "outputs": [],
      "source": [
        "def prune_compr(vgg_19_CIFAR_10, prune_rate_r, num_epochs, model_spars):\n",
        "    \n",
        "    conv2d = [0,3,7,10,14,17,20,23,27,30,33,36,40,43,46,49]   # List of conv2d layers numbers\n",
        "    fc = [0,3,6] \n",
        "\n",
        "    convs_to_prune = (\n",
        "        (vgg_19_CIFAR_10.features[0], 'weight'), # conv1 of VGG19\n",
        "        (vgg_19_CIFAR_10.features[3], 'weight'), # conv2 of VGG19\n",
        "        (vgg_19_CIFAR_10.features[7], 'weight'), # conv3 of VGG19\n",
        "        (vgg_19_CIFAR_10.features[10], 'weight'), # conv4 of VGG19\n",
        "        (vgg_19_CIFAR_10.features[14], 'weight'), # conv5 of VGG19\n",
        "        (vgg_19_CIFAR_10.features[17], 'weight'), # conv6 of VGG19\n",
        "        (vgg_19_CIFAR_10.features[20], 'weight'), # conv7 of VGG19\n",
        "        (vgg_19_CIFAR_10.features[23], 'weight'), # conv8 of VGG19\n",
        "        (vgg_19_CIFAR_10.features[27], 'weight'), # conv9 of VGG19\n",
        "        (vgg_19_CIFAR_10.features[30], 'weight'), # conv10 of VGG19\n",
        "        (vgg_19_CIFAR_10.features[33], 'weight'), # conv11 of VGG19\n",
        "        (vgg_19_CIFAR_10.features[36], 'weight'), # conv12 of VGG19\n",
        "        (vgg_19_CIFAR_10.features[40], 'weight'), # conv13 of VGG19 \n",
        "        (vgg_19_CIFAR_10.features[43], 'weight'),# conv14 of VGG19 \n",
        "        (vgg_19_CIFAR_10.features[46], 'weight'), # conv15 of VGG19 \n",
        "        (vgg_19_CIFAR_10.features[49], 'weight') # conv16 of VGG19 \n",
        "    )\n",
        "    #TODO: Add linear layers to prune\n",
        "    linears_to_prune = (\n",
        "        (vgg_19_CIFAR_10.classifier[0], 'weight'), # fc1 of VGG19\n",
        "        (vgg_19_CIFAR_10.classifier[3], 'weight') # f2c of VGG19\n",
        "    )\n",
        "\n",
        "    # prune along output\n",
        "    dimen = 0 \n",
        "    num_classes = 10\n",
        "\n",
        "      #TODO: Prune model\n",
        "    for param, name in convs_to_prune:\n",
        "        prune.ln_structured(param, name=name, amount=prune_rate_r/100, n=2, dim=dimen)\n",
        "    for param, name in linears_to_prune:\n",
        "        prune.ln_structured(param, name=name, amount=prune_rate_r/100, n=2, dim=dimen)\n",
        "\n",
        "    for param, name in convs_to_prune:\n",
        "        prune.remove(param, name)\n",
        "    for param, name in linears_to_prune:\n",
        "        prune.remove(param, name)\n",
        "\n",
        "\n",
        "    # rn_time, acc = validate_model(vgg_19_CIFAR_10, testloader,device=\"cuda\")\n",
        "\n",
        "    print(\"\\n\\n===============================\\nMODEL SIZE WITHOUT COMPRESSION\\n===============================\\n\\n\")\n",
        "    model_sz = get_size_of_model(vgg_19_CIFAR_10)\n",
        "\n",
        "    # accu_list.append(acc)\n",
        "    # runtime_list.append(rn_time)\n",
        "    size_model.append(model_sz)\n",
        "    # sparse_list.append(model_spars)\n",
        "\n",
        "\n",
        "    vgg_19_CIFAR_10_new = copy.deepcopy(vgg_19_CIFAR_10)\n",
        "    outputs = []                                # List of num of output channels in conv layers\n",
        "    main_ind = []                               # List of non-zero indexes for conv layers\n",
        "    make_layer_len = []                         # new conv model config\n",
        "\n",
        "    # getting num of output channels\n",
        "    for i in conv2d:\n",
        "        #print(vgg_19_CIFAR_10.features[i].weight.size()[0])\n",
        "        outputs.append(vgg_19_CIFAR_10.features[i].weight.size()[0]) #pruning along outputs(dim=0)\n",
        "\n",
        "    #getting non-zero output channel indexes for conv layers\n",
        "    for i in range(len(conv2d)):\n",
        "        non_zero_layer = []                     # List of non-zero indexes for each conv layer\n",
        "        for y in range(outputs[i]):\n",
        "            sub_mod = vgg_19_CIFAR_10.features[conv2d[i]].weight[y,:,:,:]\n",
        "            sub_mod_cloned = sub_mod.clone()\n",
        "            if(torch.nonzero(sub_mod_cloned).size()[0]!=0):\n",
        "                non_zero_layer.append(y)\n",
        "\n",
        "        main_ind.append(non_zero_layer)\n",
        "        \n",
        "        #constructing new model config\n",
        "        if (conv2d[i]==3 or conv2d[i]==10 or conv2d[i]==23 or conv2d[i]==36 or conv2d[i]==49):\n",
        "            #print(len(non_zero_layer))\n",
        "            make_layer_len.append(len(non_zero_layer))\n",
        "            make_layer_len.append(\"M\")\n",
        "        else:\n",
        "            #print(len(non_zero_layer))\n",
        "            make_layer_len.append(len(non_zero_layer))   \n",
        "\n",
        "    #constructing new features for new model\n",
        "    tmp_conv_model = make_layers(make_layer_len,batch_norm = True)\n",
        "    vgg_19_CIFAR_10_new.features = tmp_conv_model\n",
        "\n",
        "    #storing pruned weights in new conv model\n",
        "    for i in range(len(main_ind)):\n",
        "        \n",
        "        # removing only output channels for first layer\n",
        "        if (conv2d[i]==0):\n",
        "            indices_out = torch.tensor(main_ind[i])\n",
        "            indices_out = indices_out.to(\"cuda\")\n",
        "            \n",
        "            new_sub_mod = torch.index_select(vgg_19_CIFAR_10.features[conv2d[i]].weight, 0, indices_out)\n",
        "            new_sub_bias = torch.index_select(vgg_19_CIFAR_10.features[conv2d[i]].bias, 0, indices_out)\n",
        "            \n",
        "            new_sub_batch_norm_mod = torch.index_select(vgg_19_CIFAR_10.features[conv2d[i]+1].weight, 0, indices_out)\n",
        "            new_sub_batch_norm_bias = torch.index_select(vgg_19_CIFAR_10.features[conv2d[i]+1].bias, 0, indices_out)\n",
        "\n",
        "        # removing input and output channels    \n",
        "        else:\n",
        "            indices_out = torch.tensor(main_ind[i])\n",
        "            indices_out = indices_out.to(\"cuda\")\n",
        "            \n",
        "            new_sub_mod = torch.index_select(vgg_19_CIFAR_10.features[conv2d[i]].weight, 0, indices_out)\n",
        "            \n",
        "            new_sub_batch_norm_mod = torch.index_select(vgg_19_CIFAR_10.features[conv2d[i]+1].weight, 0, indices_out)\n",
        "           \n",
        "            indices_in = torch.tensor(main_ind[i-1])\n",
        "            indices_in = indices_in.to(\"cuda\")\n",
        "            \n",
        "            new_sub_mod = torch.index_select(new_sub_mod, 1, indices_in)\n",
        "            new_sub_bias = torch.index_select(vgg_19_CIFAR_10.features[conv2d[i]].bias, 0, indices_out)\n",
        "\n",
        "            new_sub_batch_norm_bias = torch.index_select(vgg_19_CIFAR_10.features[conv2d[i]+1].bias, 0, indices_out)\n",
        "\n",
        "                  \n",
        "        #assigning the non-zero weights\n",
        "        vgg_19_CIFAR_10_new.features[conv2d[i]].weight =  torch.nn.Parameter(new_sub_mod)\n",
        "        vgg_19_CIFAR_10_new.features[conv2d[i]].bias =  torch.nn.Parameter(new_sub_bias)\n",
        "        vgg_19_CIFAR_10_new.features[conv2d[i]+1].weight =  torch.nn.Parameter(new_sub_batch_norm_mod)\n",
        "        vgg_19_CIFAR_10_new.features[conv2d[i]+1].bias =  torch.nn.Parameter(new_sub_batch_norm_bias)\n",
        "        \n",
        "    main_ind_linear_out = []                               # List of non-zero indexes for linear layers\n",
        "    make_layer_len_linear_out = []                         # new linear model config\n",
        "\n",
        "    # getting non-zero output channel indexes for linear layers\n",
        "    for i in range(len(fc)):\n",
        "        if (fc[i]==0 or fc[i]==3):                          # omit last layer for output pruning\n",
        "            non_zero_layer = []                             # List of non-zero indexes for each layer\n",
        "            for y in range(vgg_19_CIFAR_10.classifier[fc[i]].weight.size()[0]):\n",
        "                sub_mod = vgg_19_CIFAR_10.classifier[fc[i]].weight[y][:]\n",
        "                if(torch.nonzero(torch.tensor(sub_mod)).size()[0]!=0):\n",
        "                    non_zero_layer.append(y)\n",
        "            \n",
        "            main_ind_linear_out.append(non_zero_layer)  \n",
        "            make_layer_len_linear_out.append(len(non_zero_layer)) \n",
        "\n",
        "            \n",
        "    #constructing new classifier for new model\n",
        "    tmp_lin_model = make_lin_layers(len(main_ind[15]),len(main_ind[15]),num_classes) \n",
        "    vgg_19_CIFAR_10_new.classifier = tmp_lin_model\n",
        "    \n",
        "    #storing pruned weights in new lin model\n",
        "    for i in range(len(fc)):\n",
        "        \n",
        "        # removing output channels for first layer and input channel wrt conv output\n",
        "        if (fc[i]==0):\n",
        "            indices_out = torch.tensor(main_ind_linear_out[i])\n",
        "            indices_out = indices_out.to(\"cuda\")\n",
        "            new_sub_mod = torch.index_select(vgg_19_CIFAR_10.classifier[fc[i]].weight, 0, indices_out)\n",
        "\n",
        "            out_ind_last_conv =  main_ind[15]\n",
        "\n",
        "            indices_in = torch.tensor(out_ind_last_conv)\n",
        "            indices_in = indices_in.to(\"cuda\")\n",
        "            new_sub_mod = torch.index_select(new_sub_mod, 1, indices_in)\n",
        "\n",
        "            new_sub_bias = torch.index_select(vgg_19_CIFAR_10.classifier[fc[i]].bias, 0, indices_out)\n",
        "        \n",
        "        #removing input and output channels    \n",
        "        elif(fc[i]==3):\n",
        "            indices_out = torch.tensor(main_ind_linear_out[i])\n",
        "            indices_out = indices_out.to(\"cuda\")\n",
        "            new_sub_mod = torch.index_select(vgg_19_CIFAR_10.classifier[fc[i]].weight, 0, indices_out)\n",
        "            \n",
        "            indices_in = torch.tensor(main_ind_linear_out[i-1])\n",
        "            indices_in = indices_in.to(\"cuda\")\n",
        "            new_sub_mod = torch.index_select(new_sub_mod, 1, indices_in)\n",
        "\n",
        "            new_sub_bias = torch.index_select(vgg_19_CIFAR_10.classifier[fc[i]].bias, 0, indices_out)\n",
        "\n",
        "        # removing only input channels    \n",
        "        elif(fc[i]==6):\n",
        "            indices_in = torch.tensor(main_ind_linear_out[i-1])\n",
        "            indices_in = indices_in.to(\"cuda\")\n",
        "            new_sub_mod = torch.index_select(vgg_19_CIFAR_10.classifier[fc[i]].weight, 1, indices_in)\n",
        "            \n",
        "            new_sub_bias = vgg_19_CIFAR_10.classifier[fc[i]].bias\n",
        "\n",
        "        #assigning the non-zero weights\n",
        "        vgg_19_CIFAR_10_new.classifier[fc[i]].weight =  torch.nn.Parameter(new_sub_mod)\n",
        "        vgg_19_CIFAR_10_new.classifier[fc[i]].bias =  torch.nn.Parameter(new_sub_bias)\n",
        "\n",
        "    print(\"\\n\\n===============================\\nPRUNED MODEL ACCURACY\\n===============================\\n\\n\")\n",
        "    rn_time, acc = validate_model(vgg_19_CIFAR_10_new, testloader,device=\"cuda\")\n",
        "\n",
        "    print(\"\\n\\n===============================\\nMODEL SIZE WITH COMPRESSION\\n===============================\\n\\n\")\n",
        "    model_sz = get_size_of_model(vgg_19_CIFAR_10_new)\n",
        "\n",
        "    accu_list.append(acc)\n",
        "    runtime_list.append(rn_time)\n",
        "    size_model.append(model_sz)\n",
        "    sparse_list.append(model_spars)\n",
        "\n",
        "    trainset = torchvision.datasets.CIFAR10(root='./data', train=True,\n",
        "                                            download=True, transform=transform)\n",
        "    # Batch size changed from 4 to 64 as in the paper.\n",
        "    trainloader = torch.utils.data.DataLoader(trainset, batch_size=64,\n",
        "                                              shuffle=False, num_workers=2)\n",
        "                                    \n",
        "    classes = ('plane', 'car', 'bird', 'cat',\n",
        "              'deer', 'dog', 'frog', 'horse', 'ship', 'truck')\n",
        "\n",
        "    criterion = nn.CrossEntropyLoss() # TODO create criterion\n",
        "    optimizer = optim.SGD(vgg_19_CIFAR_10_new.parameters(), lr = 0.01, momentum=0.9, weight_decay=0.0001) \n",
        "\n",
        "    print(\"\\n\\n===============================\\nTraining model\\n===============================\\n\")\n",
        "    for epoch in range(num_epochs):\n",
        "            running_loss = 0.0\n",
        "            # this allows us to get an index from a foreach loop\n",
        "            vgg_19_CIFAR_10_new.train()\n",
        "            dev = torch.device(\"cuda\")\n",
        "            vgg_19_CIFAR_10_new.to(dev)\n",
        "            for i, data in enumerate(trainloader, 0):\n",
        "                # data is a list of [inputs, labels]\n",
        "                inputs, labels = data\n",
        "                \n",
        "                inputs = inputs.to(dev)\n",
        "                labels = labels.to(dev)  \n",
        "                # Zero parameter gradients\n",
        "                optimizer.zero_grad()\n",
        "\n",
        "                # Go forward, backward then optimize\n",
        "                outputs = vgg_19_CIFAR_10_new(inputs)   # forward\n",
        "                loss = criterion(outputs, labels)   # calculate loss\n",
        "                loss.backward()         # backward\n",
        "                \n",
        "                optimizer.step()\n",
        "\n",
        "                # print statistics\n",
        "                running_loss += loss.item()\n",
        "                if i % (100) == (100) - 1:\n",
        "                    print(f'[{epoch + 1}, {i + 1:5d}] loss: {(running_loss):.8f}')\n",
        "                    running_loss = 0.0\n",
        "\n",
        "    print(\"\\n\\n===============================\\nRETRAINED MODEL ACCURACY\\n===============================\\n\\n\")\n",
        "    rn_time, acc = validate_model(vgg_19_CIFAR_10_new, testloader,device=\"cuda\")\n",
        "\n",
        "    accu_list.append(acc)\n",
        "    runtime_list.append(rn_time)\n",
        "    sparse_list.append(model_spars)\n",
        "\n",
        "    return vgg_19_CIFAR_10_new"
      ]
    },
    {
      "cell_type": "markdown",
      "source": [
        "Iterative pruning and retraining:"
      ],
      "metadata": {
        "id": "dTnoRqW3dJSR"
      }
    },
    {
      "cell_type": "code",
      "execution_count": 10,
      "metadata": {
        "colab": {
          "base_uri": "https://localhost:8080/"
        },
        "id": "Ps7cTx4NOWuC",
        "outputId": "4d3eda99-bcfe-44a6-82eb-4a5fae943056"
      },
      "outputs": [
        {
          "output_type": "stream",
          "name": "stdout",
          "text": [
            "===============================\n",
            "SPARSITY\n",
            "===============================\n",
            "first prune:  20.0\n",
            "\n",
            "\n",
            "===============================\n",
            "MODEL SIZE WITHOUT COMPRESSION\n",
            "===============================\n",
            "\n",
            "\n",
            "Model size:  82.338669\n",
            "\n",
            "\n",
            "===============================\n",
            "PRUNED MODEL ACCURACY\n",
            "===============================\n",
            "\n",
            "\n"
          ]
        },
        {
          "output_type": "stream",
          "name": "stderr",
          "text": [
            "<ipython-input-9-ea6f03a249b2>:138: UserWarning: To copy construct from a tensor, it is recommended to use sourceTensor.clone().detach() or sourceTensor.clone().detach().requires_grad_(True), rather than torch.tensor(sourceTensor).\n",
            "  if(torch.nonzero(torch.tensor(sub_mod)).size()[0]!=0):\n"
          ]
        },
        {
          "output_type": "stream",
          "name": "stdout",
          "text": [
            "[250] accuracy : 10.0000%\n",
            "[500] accuracy : 10.5500%\n",
            "[750] accuracy : 10.8333%\n",
            "[1000] accuracy : 10.4500%\n",
            "[1250] accuracy : 10.2200%\n",
            "[1500] accuracy : 10.0667%\n",
            "[1750] accuracy : 10.0571%\n",
            "[2000] accuracy : 9.9875%\n",
            "[2250] accuracy : 10.0111%\n",
            "[2500] accuracy : 10.0000%\n",
            "\n",
            "\n",
            "===============================\n",
            "MODEL SIZE WITH COMPRESSION\n",
            "===============================\n",
            "\n",
            "\n",
            "Model size:  52.826477\n",
            "Files already downloaded and verified\n",
            "\n",
            "\n",
            "===============================\n",
            "Training model\n",
            "===============================\n",
            "\n",
            "[1,   100] loss: 89.69362688\n",
            "[1,   200] loss: 61.86028156\n",
            "[1,   300] loss: 50.79209468\n",
            "[1,   400] loss: 48.11314201\n",
            "[1,   500] loss: 42.83233020\n",
            "[1,   600] loss: 43.72513473\n",
            "[1,   700] loss: 41.19649504\n",
            "[2,   100] loss: 37.42985047\n",
            "[2,   200] loss: 29.60469709\n",
            "[2,   300] loss: 28.98887040\n",
            "[2,   400] loss: 28.83655221\n",
            "[2,   500] loss: 26.44696153\n",
            "[2,   600] loss: 27.64385278\n",
            "[2,   700] loss: 25.09790932\n",
            "[3,   100] loss: 21.23229028\n",
            "[3,   200] loss: 23.09769084\n",
            "[3,   300] loss: 21.77182879\n",
            "[3,   400] loss: 18.45543266\n",
            "[3,   500] loss: 19.80357059\n",
            "[3,   600] loss: 19.26503826\n",
            "[3,   700] loss: 18.02589210\n",
            "[4,   100] loss: 16.50501265\n",
            "[4,   200] loss: 17.43646936\n",
            "[4,   300] loss: 17.39709814\n",
            "[4,   400] loss: 15.61211355\n",
            "[4,   500] loss: 15.59853285\n",
            "[4,   600] loss: 14.83984774\n",
            "[4,   700] loss: 12.82344424\n",
            "\n",
            "\n",
            "===============================\n",
            "RETRAINED MODEL ACCURACY\n",
            "===============================\n",
            "\n",
            "\n",
            "[250] accuracy : 86.8000%\n",
            "[500] accuracy : 87.2000%\n",
            "[750] accuracy : 87.4000%\n",
            "[1000] accuracy : 87.5500%\n",
            "[1250] accuracy : 87.2200%\n",
            "[1500] accuracy : 87.4000%\n",
            "[1750] accuracy : 87.4286%\n",
            "[2000] accuracy : 87.5500%\n",
            "[2250] accuracy : 87.5000%\n",
            "[2500] accuracy : 87.4600%\n"
          ]
        }
      ],
      "source": [
        "prune_rate = 20\n",
        "model_sparse_full = 100\n",
        "num_of_epchs = 4\n",
        "\n",
        "print(\"===============================\\nSPARSITY\\n===============================\")\n",
        "sprs = (prune_rate/100)*model_sparse_full \n",
        "print(\"first prune: \",sprs)\n",
        "vgg_19_CIFAR_10_ver2 = prune_compr(vgg_19_CIFAR_10_ver1, prune_rate, num_of_epchs, sprs)\n",
        "model_sparse_full = 100 - sprs"
      ]
    },
    {
      "cell_type": "code",
      "execution_count": 11,
      "metadata": {
        "colab": {
          "base_uri": "https://localhost:8080/"
        },
        "id": "XWbfqvCg42XL",
        "outputId": "ef995dcb-c7d4-47ee-850a-c66ee97fc52a"
      },
      "outputs": [
        {
          "output_type": "stream",
          "name": "stdout",
          "text": [
            "===============================\n",
            "SPARSITY\n",
            "===============================\n",
            "\n",
            "second prune:  36.0\n",
            "\n",
            "\n",
            "===============================\n",
            "MODEL SIZE WITHOUT COMPRESSION\n",
            "===============================\n",
            "\n",
            "\n",
            "Model size:  52.826477\n",
            "\n",
            "\n",
            "===============================\n",
            "PRUNED MODEL ACCURACY\n",
            "===============================\n",
            "\n",
            "\n"
          ]
        },
        {
          "output_type": "stream",
          "name": "stderr",
          "text": [
            "<ipython-input-9-ea6f03a249b2>:138: UserWarning: To copy construct from a tensor, it is recommended to use sourceTensor.clone().detach() or sourceTensor.clone().detach().requires_grad_(True), rather than torch.tensor(sourceTensor).\n",
            "  if(torch.nonzero(torch.tensor(sub_mod)).size()[0]!=0):\n"
          ]
        },
        {
          "output_type": "stream",
          "name": "stdout",
          "text": [
            "[250] accuracy : 9.0000%\n",
            "[500] accuracy : 9.2000%\n",
            "[750] accuracy : 9.4000%\n",
            "[1000] accuracy : 9.9000%\n",
            "[1250] accuracy : 9.8600%\n",
            "[1500] accuracy : 9.9333%\n",
            "[1750] accuracy : 9.9714%\n",
            "[2000] accuracy : 10.0875%\n",
            "[2250] accuracy : 10.0889%\n",
            "[2500] accuracy : 10.0000%\n",
            "\n",
            "\n",
            "===============================\n",
            "MODEL SIZE WITH COMPRESSION\n",
            "===============================\n",
            "\n",
            "\n",
            "Model size:  33.846253\n",
            "Files already downloaded and verified\n",
            "\n",
            "\n",
            "===============================\n",
            "Training model\n",
            "===============================\n",
            "\n",
            "[1,   100] loss: 35.49922372\n",
            "[1,   200] loss: 26.48579491\n",
            "[1,   300] loss: 24.33970704\n",
            "[1,   400] loss: 26.01450417\n",
            "[1,   500] loss: 26.23158144\n",
            "[1,   600] loss: 24.63821313\n",
            "[1,   700] loss: 22.08864983\n",
            "[2,   100] loss: 16.88381343\n",
            "[2,   200] loss: 17.26245404\n",
            "[2,   300] loss: 18.83523071\n",
            "[2,   400] loss: 18.43722651\n",
            "[2,   500] loss: 15.71790573\n",
            "[2,   600] loss: 20.06448118\n",
            "[2,   700] loss: 19.00674591\n",
            "[3,   100] loss: 15.11202860\n",
            "[3,   200] loss: 13.67035068\n",
            "[3,   300] loss: 15.62829766\n",
            "[3,   400] loss: 12.52724626\n",
            "[3,   500] loss: 12.30124149\n",
            "[3,   600] loss: 12.67936885\n",
            "[3,   700] loss: 11.24970996\n",
            "[4,   100] loss: 12.47376790\n",
            "[4,   200] loss: 11.33065941\n",
            "[4,   300] loss: 12.39897792\n",
            "[4,   400] loss: 9.47080272\n",
            "[4,   500] loss: 11.12438936\n",
            "[4,   600] loss: 11.97457442\n",
            "[4,   700] loss: 11.20303332\n",
            "\n",
            "\n",
            "===============================\n",
            "RETRAINED MODEL ACCURACY\n",
            "===============================\n",
            "\n",
            "\n",
            "[250] accuracy : 86.8000%\n",
            "[500] accuracy : 87.0500%\n",
            "[750] accuracy : 87.6000%\n",
            "[1000] accuracy : 87.6750%\n",
            "[1250] accuracy : 87.6600%\n",
            "[1500] accuracy : 87.6167%\n",
            "[1750] accuracy : 87.7429%\n",
            "[2000] accuracy : 87.7000%\n",
            "[2250] accuracy : 87.6333%\n",
            "[2500] accuracy : 87.7000%\n"
          ]
        }
      ],
      "source": [
        "print(\"===============================\\nSPARSITY\\n===============================\")\n",
        "sprs += (prune_rate/100)*model_sparse_full \n",
        "print(\"\\nsecond prune: \",sprs)\n",
        "vgg_19_CIFAR_10_ver3 = prune_compr(vgg_19_CIFAR_10_ver2, prune_rate, num_of_epchs, sprs)\n",
        "model_sparse_full = 100 - sprs"
      ]
    },
    {
      "cell_type": "code",
      "execution_count": 12,
      "metadata": {
        "colab": {
          "base_uri": "https://localhost:8080/"
        },
        "id": "fWAIhCio9rHj",
        "outputId": "ff2b6cfd-3ab0-454a-effa-7823ddccc2c0"
      },
      "outputs": [
        {
          "output_type": "stream",
          "name": "stdout",
          "text": [
            "===============================\n",
            "SPARSITY\n",
            "===============================\n",
            "\n",
            "third prune:  48.8\n",
            "\n",
            "\n",
            "===============================\n",
            "MODEL SIZE WITHOUT COMPRESSION\n",
            "===============================\n",
            "\n",
            "\n",
            "Model size:  33.846253\n",
            "\n",
            "\n",
            "===============================\n",
            "PRUNED MODEL ACCURACY\n",
            "===============================\n",
            "\n",
            "\n"
          ]
        },
        {
          "output_type": "stream",
          "name": "stderr",
          "text": [
            "<ipython-input-9-ea6f03a249b2>:138: UserWarning: To copy construct from a tensor, it is recommended to use sourceTensor.clone().detach() or sourceTensor.clone().detach().requires_grad_(True), rather than torch.tensor(sourceTensor).\n",
            "  if(torch.nonzero(torch.tensor(sub_mod)).size()[0]!=0):\n"
          ]
        },
        {
          "output_type": "stream",
          "name": "stdout",
          "text": [
            "[250] accuracy : 9.3000%\n",
            "[500] accuracy : 9.4000%\n",
            "[750] accuracy : 9.3333%\n",
            "[1000] accuracy : 9.8500%\n",
            "[1250] accuracy : 9.9600%\n",
            "[1500] accuracy : 10.0000%\n",
            "[1750] accuracy : 10.3857%\n",
            "[2000] accuracy : 10.2000%\n",
            "[2250] accuracy : 10.0000%\n",
            "[2500] accuracy : 10.0000%\n",
            "\n",
            "\n",
            "===============================\n",
            "MODEL SIZE WITH COMPRESSION\n",
            "===============================\n",
            "\n",
            "\n",
            "Model size:  21.630701\n",
            "Files already downloaded and verified\n",
            "\n",
            "\n",
            "===============================\n",
            "Training model\n",
            "===============================\n",
            "\n",
            "[1,   100] loss: 32.85225645\n",
            "[1,   200] loss: 25.64318282\n",
            "[1,   300] loss: 27.11356073\n",
            "[1,   400] loss: 24.82305469\n",
            "[1,   500] loss: 25.84491151\n",
            "[1,   600] loss: 22.79391100\n",
            "[1,   700] loss: 21.03939930\n",
            "[2,   100] loss: 18.94301613\n",
            "[2,   200] loss: 18.45370046\n",
            "[2,   300] loss: 16.77098943\n",
            "[2,   400] loss: 18.10993797\n",
            "[2,   500] loss: 17.07838098\n",
            "[2,   600] loss: 16.87937192\n",
            "[2,   700] loss: 16.25645058\n",
            "[3,   100] loss: 12.64696115\n",
            "[3,   200] loss: 14.39812819\n",
            "[3,   300] loss: 15.22428405\n",
            "[3,   400] loss: 14.73020441\n",
            "[3,   500] loss: 11.93891757\n",
            "[3,   600] loss: 13.56502958\n",
            "[3,   700] loss: 13.88426637\n",
            "[4,   100] loss: 11.36836687\n",
            "[4,   200] loss: 12.87689143\n",
            "[4,   300] loss: 11.33141919\n",
            "[4,   400] loss: 11.15149757\n",
            "[4,   500] loss: 10.78242704\n",
            "[4,   600] loss: 10.05664215\n",
            "[4,   700] loss: 9.99890723\n",
            "\n",
            "\n",
            "===============================\n",
            "RETRAINED MODEL ACCURACY\n",
            "===============================\n",
            "\n",
            "\n",
            "[250] accuracy : 88.4000%\n",
            "[500] accuracy : 88.4000%\n",
            "[750] accuracy : 87.6000%\n",
            "[1000] accuracy : 87.5250%\n",
            "[1250] accuracy : 87.2200%\n",
            "[1500] accuracy : 87.2500%\n",
            "[1750] accuracy : 87.5000%\n",
            "[2000] accuracy : 87.4625%\n",
            "[2250] accuracy : 87.2444%\n",
            "[2500] accuracy : 87.2800%\n"
          ]
        }
      ],
      "source": [
        "print(\"===============================\\nSPARSITY\\n===============================\")\n",
        "sprs += (prune_rate/100)*model_sparse_full \n",
        "print(\"\\nthird prune: \",sprs)\n",
        "vgg_19_CIFAR_10_ver4 = prune_compr(vgg_19_CIFAR_10_ver3, prune_rate, num_of_epchs, sprs)\n",
        "model_sparse_full = 100 - sprs"
      ]
    },
    {
      "cell_type": "code",
      "execution_count": 13,
      "metadata": {
        "colab": {
          "base_uri": "https://localhost:8080/"
        },
        "id": "uw27wsp25wyG",
        "outputId": "272cae30-b76d-4aab-e86f-c3f532d08cd8"
      },
      "outputs": [
        {
          "output_type": "stream",
          "name": "stdout",
          "text": [
            "===============================\n",
            "SPARSITY\n",
            "===============================\n",
            "\n",
            "fourth prune:  59.04\n",
            "\n",
            "\n",
            "===============================\n",
            "MODEL SIZE WITHOUT COMPRESSION\n",
            "===============================\n",
            "\n",
            "\n",
            "Model size:  21.630701\n",
            "\n",
            "\n",
            "===============================\n",
            "PRUNED MODEL ACCURACY\n",
            "===============================\n",
            "\n",
            "\n"
          ]
        },
        {
          "output_type": "stream",
          "name": "stderr",
          "text": [
            "<ipython-input-9-ea6f03a249b2>:138: UserWarning: To copy construct from a tensor, it is recommended to use sourceTensor.clone().detach() or sourceTensor.clone().detach().requires_grad_(True), rather than torch.tensor(sourceTensor).\n",
            "  if(torch.nonzero(torch.tensor(sub_mod)).size()[0]!=0):\n"
          ]
        },
        {
          "output_type": "stream",
          "name": "stdout",
          "text": [
            "[250] accuracy : 8.7000%\n",
            "[500] accuracy : 8.1000%\n",
            "[750] accuracy : 9.1333%\n",
            "[1000] accuracy : 9.5750%\n",
            "[1250] accuracy : 9.8600%\n",
            "[1500] accuracy : 9.9667%\n",
            "[1750] accuracy : 9.9000%\n",
            "[2000] accuracy : 10.0000%\n",
            "[2250] accuracy : 10.0333%\n",
            "[2500] accuracy : 10.0000%\n",
            "\n",
            "\n",
            "===============================\n",
            "MODEL SIZE WITH COMPRESSION\n",
            "===============================\n",
            "\n",
            "\n",
            "Model size:  13.919597\n",
            "Files already downloaded and verified\n",
            "\n",
            "\n",
            "===============================\n",
            "Training model\n",
            "===============================\n",
            "\n",
            "[1,   100] loss: 39.61489885\n",
            "[1,   200] loss: 32.83246937\n",
            "[1,   300] loss: 31.77844465\n",
            "[1,   400] loss: 29.69067625\n",
            "[1,   500] loss: 29.07172584\n",
            "[1,   600] loss: 28.30793676\n",
            "[1,   700] loss: 26.73847613\n",
            "[2,   100] loss: 23.47709204\n",
            "[2,   200] loss: 22.89998098\n",
            "[2,   300] loss: 21.31067839\n",
            "[2,   400] loss: 21.12275262\n",
            "[2,   500] loss: 19.36391437\n",
            "[2,   600] loss: 20.84564712\n",
            "[2,   700] loss: 20.15403409\n",
            "[3,   100] loss: 16.03722217\n",
            "[3,   200] loss: 16.10875951\n",
            "[3,   300] loss: 17.11253732\n",
            "[3,   400] loss: 17.10549434\n",
            "[3,   500] loss: 15.52292478\n",
            "[3,   600] loss: 15.29444490\n",
            "[3,   700] loss: 16.32693775\n",
            "[4,   100] loss: 13.53732685\n",
            "[4,   200] loss: 14.13079385\n",
            "[4,   300] loss: 15.07611316\n",
            "[4,   400] loss: 12.34925694\n",
            "[4,   500] loss: 14.97128926\n",
            "[4,   600] loss: 13.49304846\n",
            "[4,   700] loss: 12.64649898\n",
            "\n",
            "\n",
            "===============================\n",
            "RETRAINED MODEL ACCURACY\n",
            "===============================\n",
            "\n",
            "\n",
            "[250] accuracy : 84.6000%\n",
            "[500] accuracy : 84.4500%\n",
            "[750] accuracy : 84.8000%\n",
            "[1000] accuracy : 84.8250%\n",
            "[1250] accuracy : 85.1200%\n",
            "[1500] accuracy : 85.1667%\n",
            "[1750] accuracy : 85.0571%\n",
            "[2000] accuracy : 85.0250%\n",
            "[2250] accuracy : 85.1778%\n",
            "[2500] accuracy : 85.2600%\n"
          ]
        }
      ],
      "source": [
        "print(\"===============================\\nSPARSITY\\n===============================\")\n",
        "sprs += (prune_rate/100)*model_sparse_full \n",
        "print(\"\\nfourth prune: \",sprs)\n",
        "vgg_19_CIFAR_10_ver5 = prune_compr(vgg_19_CIFAR_10_ver4, prune_rate, num_of_epchs, sprs)\n",
        "model_sparse_full = 100 - sprs"
      ]
    },
    {
      "cell_type": "code",
      "execution_count": 14,
      "metadata": {
        "colab": {
          "base_uri": "https://localhost:8080/"
        },
        "id": "LircG1GP61uy",
        "outputId": "f13e74ad-18ff-4673-feaf-13f6cfc95c9b"
      },
      "outputs": [
        {
          "output_type": "stream",
          "name": "stdout",
          "text": [
            "===============================\n",
            "SPARSITY\n",
            "===============================\n",
            "\n",
            "fifth prune:  67.232\n",
            "\n",
            "\n",
            "===============================\n",
            "MODEL SIZE WITHOUT COMPRESSION\n",
            "===============================\n",
            "\n",
            "\n",
            "Model size:  13.919597\n",
            "\n",
            "\n",
            "===============================\n",
            "PRUNED MODEL ACCURACY\n",
            "===============================\n",
            "\n",
            "\n"
          ]
        },
        {
          "output_type": "stream",
          "name": "stderr",
          "text": [
            "<ipython-input-9-ea6f03a249b2>:138: UserWarning: To copy construct from a tensor, it is recommended to use sourceTensor.clone().detach() or sourceTensor.clone().detach().requires_grad_(True), rather than torch.tensor(sourceTensor).\n",
            "  if(torch.nonzero(torch.tensor(sub_mod)).size()[0]!=0):\n"
          ]
        },
        {
          "output_type": "stream",
          "name": "stdout",
          "text": [
            "[250] accuracy : 9.4000%\n",
            "[500] accuracy : 9.4500%\n",
            "[750] accuracy : 9.7000%\n",
            "[1000] accuracy : 9.6500%\n",
            "[1250] accuracy : 9.9600%\n",
            "[1500] accuracy : 10.0333%\n",
            "[1750] accuracy : 9.9571%\n",
            "[2000] accuracy : 10.0000%\n",
            "[2250] accuracy : 9.8222%\n",
            "[2500] accuracy : 10.0000%\n",
            "\n",
            "\n",
            "===============================\n",
            "MODEL SIZE WITH COMPRESSION\n",
            "===============================\n",
            "\n",
            "\n",
            "Model size:  8.927341\n",
            "Files already downloaded and verified\n",
            "\n",
            "\n",
            "===============================\n",
            "Training model\n",
            "===============================\n",
            "\n",
            "[1,   100] loss: 48.57244664\n",
            "[1,   200] loss: 37.65986259\n",
            "[1,   300] loss: 39.26676174\n",
            "[1,   400] loss: 36.74057414\n",
            "[1,   500] loss: 33.68282728\n",
            "[1,   600] loss: 36.19592907\n",
            "[1,   700] loss: 33.48254653\n",
            "[2,   100] loss: 29.53867202\n",
            "[2,   200] loss: 26.92508707\n",
            "[2,   300] loss: 27.37452266\n",
            "[2,   400] loss: 25.84704643\n",
            "[2,   500] loss: 24.51491655\n",
            "[2,   600] loss: 27.26988531\n",
            "[2,   700] loss: 23.11435560\n",
            "[3,   100] loss: 22.02362244\n",
            "[3,   200] loss: 20.85446116\n",
            "[3,   300] loss: 22.40115223\n",
            "[3,   400] loss: 19.48032002\n",
            "[3,   500] loss: 19.87700652\n",
            "[3,   600] loss: 20.85177106\n",
            "[3,   700] loss: 19.61555487\n",
            "[4,   100] loss: 17.85205118\n",
            "[4,   200] loss: 17.45509933\n",
            "[4,   300] loss: 20.20209004\n",
            "[4,   400] loss: 18.87259111\n",
            "[4,   500] loss: 17.96698996\n",
            "[4,   600] loss: 17.49696984\n",
            "[4,   700] loss: 15.22709140\n",
            "\n",
            "\n",
            "===============================\n",
            "RETRAINED MODEL ACCURACY\n",
            "===============================\n",
            "\n",
            "\n",
            "[250] accuracy : 86.2000%\n",
            "[500] accuracy : 85.1000%\n",
            "[750] accuracy : 84.7000%\n",
            "[1000] accuracy : 84.2750%\n",
            "[1250] accuracy : 84.2400%\n",
            "[1500] accuracy : 84.0500%\n",
            "[1750] accuracy : 83.8143%\n",
            "[2000] accuracy : 83.7875%\n",
            "[2250] accuracy : 83.4889%\n",
            "[2500] accuracy : 83.4700%\n"
          ]
        }
      ],
      "source": [
        "print(\"===============================\\nSPARSITY\\n===============================\")\n",
        "sprs += (prune_rate/100)*model_sparse_full \n",
        "print(\"\\nfifth prune: \",sprs)\n",
        "vgg_19_CIFAR_10_ver6 = prune_compr(vgg_19_CIFAR_10_ver5, prune_rate, num_of_epchs, sprs)\n",
        "model_sparse_full = 100 - sprs"
      ]
    },
    {
      "cell_type": "code",
      "execution_count": 15,
      "metadata": {
        "colab": {
          "base_uri": "https://localhost:8080/"
        },
        "id": "RVH3OAOK70wN",
        "outputId": "0c6080db-9dc4-46b6-9587-02ccc32cebe1"
      },
      "outputs": [
        {
          "output_type": "stream",
          "name": "stdout",
          "text": [
            "===============================\n",
            "SPARSITY\n",
            "===============================\n",
            "\n",
            "sixth prune:  70.5088\n",
            "\n",
            "\n",
            "===============================\n",
            "MODEL SIZE WITHOUT COMPRESSION\n",
            "===============================\n",
            "\n",
            "\n",
            "Model size:  8.927341\n",
            "\n",
            "\n",
            "===============================\n",
            "PRUNED MODEL ACCURACY\n",
            "===============================\n",
            "\n",
            "\n"
          ]
        },
        {
          "output_type": "stream",
          "name": "stderr",
          "text": [
            "<ipython-input-9-ea6f03a249b2>:138: UserWarning: To copy construct from a tensor, it is recommended to use sourceTensor.clone().detach() or sourceTensor.clone().detach().requires_grad_(True), rather than torch.tensor(sourceTensor).\n",
            "  if(torch.nonzero(torch.tensor(sub_mod)).size()[0]!=0):\n"
          ]
        },
        {
          "output_type": "stream",
          "name": "stdout",
          "text": [
            "[250] accuracy : 8.9000%\n",
            "[500] accuracy : 10.3000%\n",
            "[750] accuracy : 10.4000%\n",
            "[1000] accuracy : 10.1750%\n",
            "[1250] accuracy : 10.1200%\n",
            "[1500] accuracy : 10.0667%\n",
            "[1750] accuracy : 10.1857%\n",
            "[2000] accuracy : 10.2000%\n",
            "[2250] accuracy : 10.1556%\n",
            "[2500] accuracy : 10.0000%\n",
            "\n",
            "\n",
            "===============================\n",
            "MODEL SIZE WITH COMPRESSION\n",
            "===============================\n",
            "\n",
            "\n",
            "Model size:  7.236589\n",
            "Files already downloaded and verified\n",
            "\n",
            "\n",
            "===============================\n",
            "Training model\n",
            "===============================\n",
            "\n",
            "[1,   100] loss: 33.00829410\n",
            "[1,   200] loss: 29.07139166\n",
            "[1,   300] loss: 27.31869097\n",
            "[1,   400] loss: 26.22262164\n",
            "[1,   500] loss: 27.20241223\n",
            "[1,   600] loss: 28.73708573\n",
            "[1,   700] loss: 23.89646026\n",
            "[2,   100] loss: 21.08754328\n",
            "[2,   200] loss: 20.60101914\n",
            "[2,   300] loss: 21.11037422\n",
            "[2,   400] loss: 21.20098602\n",
            "[2,   500] loss: 21.01239785\n",
            "[2,   600] loss: 21.14963196\n",
            "[2,   700] loss: 20.26840801\n",
            "[3,   100] loss: 18.88867817\n",
            "[3,   200] loss: 18.99289345\n",
            "[3,   300] loss: 19.22049487\n",
            "[3,   400] loss: 16.84175247\n",
            "[3,   500] loss: 17.66641382\n",
            "[3,   600] loss: 20.81263297\n",
            "[3,   700] loss: 15.84722964\n",
            "[4,   100] loss: 20.35206562\n",
            "[4,   200] loss: 17.77593709\n",
            "[4,   300] loss: 18.00518049\n",
            "[4,   400] loss: 16.31373595\n",
            "[4,   500] loss: 16.35351494\n",
            "[4,   600] loss: 16.30831512\n",
            "[4,   700] loss: 15.46830039\n",
            "\n",
            "\n",
            "===============================\n",
            "RETRAINED MODEL ACCURACY\n",
            "===============================\n",
            "\n",
            "\n",
            "[250] accuracy : 86.1000%\n",
            "[500] accuracy : 85.5500%\n",
            "[750] accuracy : 85.5000%\n",
            "[1000] accuracy : 85.1000%\n",
            "[1250] accuracy : 84.7200%\n",
            "[1500] accuracy : 84.4500%\n",
            "[1750] accuracy : 84.4714%\n",
            "[2000] accuracy : 84.5250%\n",
            "[2250] accuracy : 84.7222%\n",
            "[2500] accuracy : 84.7400%\n"
          ]
        }
      ],
      "source": [
        "prune_rate = 10\n",
        "print(\"===============================\\nSPARSITY\\n===============================\")\n",
        "sprs += (prune_rate/100)*model_sparse_full \n",
        "print(\"\\nsixth prune: \",sprs)\n",
        "vgg_19_CIFAR_10_ver7 = prune_compr(vgg_19_CIFAR_10_ver6, prune_rate, num_of_epchs, sprs)\n",
        "model_sparse_full = 100 - sprs"
      ]
    },
    {
      "cell_type": "code",
      "source": [
        "prune_rate = 10\n",
        "print(\"===============================\\nSPARSITY\\n===============================\")\n",
        "sprs += (prune_rate/100)*model_sparse_full \n",
        "print(\"\\nseventh prune: \",sprs)\n",
        "vgg_19_CIFAR_10_ver8 = prune_compr(vgg_19_CIFAR_10_ver7, prune_rate, num_of_epchs, sprs)\n",
        "model_sparse_full = 100 - sprs"
      ],
      "metadata": {
        "colab": {
          "base_uri": "https://localhost:8080/"
        },
        "id": "1QlP_czFHyS2",
        "outputId": "162345f0-eb3d-45dc-9da9-37b9d8abd265"
      },
      "execution_count": 16,
      "outputs": [
        {
          "output_type": "stream",
          "name": "stdout",
          "text": [
            "===============================\n",
            "SPARSITY\n",
            "===============================\n",
            "\n",
            "seventh prune:  73.45792\n",
            "\n",
            "\n",
            "===============================\n",
            "MODEL SIZE WITHOUT COMPRESSION\n",
            "===============================\n",
            "\n",
            "\n",
            "Model size:  7.236589\n",
            "\n",
            "\n",
            "===============================\n",
            "PRUNED MODEL ACCURACY\n",
            "===============================\n",
            "\n",
            "\n"
          ]
        },
        {
          "output_type": "stream",
          "name": "stderr",
          "text": [
            "<ipython-input-9-ea6f03a249b2>:138: UserWarning: To copy construct from a tensor, it is recommended to use sourceTensor.clone().detach() or sourceTensor.clone().detach().requires_grad_(True), rather than torch.tensor(sourceTensor).\n",
            "  if(torch.nonzero(torch.tensor(sub_mod)).size()[0]!=0):\n"
          ]
        },
        {
          "output_type": "stream",
          "name": "stdout",
          "text": [
            "[250] accuracy : 9.9000%\n",
            "[500] accuracy : 10.1000%\n",
            "[750] accuracy : 10.0333%\n",
            "[1000] accuracy : 10.3000%\n",
            "[1250] accuracy : 10.0800%\n",
            "[1500] accuracy : 10.1000%\n",
            "[1750] accuracy : 10.1286%\n",
            "[2000] accuracy : 10.2000%\n",
            "[2250] accuracy : 10.1222%\n",
            "[2500] accuracy : 10.0000%\n",
            "\n",
            "\n",
            "===============================\n",
            "MODEL SIZE WITH COMPRESSION\n",
            "===============================\n",
            "\n",
            "\n",
            "Model size:  5.869805\n",
            "Files already downloaded and verified\n",
            "\n",
            "\n",
            "===============================\n",
            "Training model\n",
            "===============================\n",
            "\n",
            "[1,   100] loss: 33.55032393\n",
            "[1,   200] loss: 32.77978314\n",
            "[1,   300] loss: 29.19846236\n",
            "[1,   400] loss: 31.19675634\n",
            "[1,   500] loss: 29.00225468\n",
            "[1,   600] loss: 28.39598364\n",
            "[1,   700] loss: 26.92133771\n",
            "[2,   100] loss: 22.09994210\n",
            "[2,   200] loss: 24.05646346\n",
            "[2,   300] loss: 22.05471724\n",
            "[2,   400] loss: 22.70362711\n",
            "[2,   500] loss: 23.48626670\n",
            "[2,   600] loss: 24.26819412\n",
            "[2,   700] loss: 20.80066851\n",
            "[3,   100] loss: 18.07683191\n",
            "[3,   200] loss: 18.35727716\n",
            "[3,   300] loss: 20.24639573\n",
            "[3,   400] loss: 18.12036305\n",
            "[3,   500] loss: 18.23149370\n",
            "[3,   600] loss: 20.36481190\n",
            "[3,   700] loss: 18.66780002\n",
            "[4,   100] loss: 16.42598180\n",
            "[4,   200] loss: 17.29625536\n",
            "[4,   300] loss: 16.39096932\n",
            "[4,   400] loss: 17.94402226\n",
            "[4,   500] loss: 16.48341755\n",
            "[4,   600] loss: 18.31915886\n",
            "[4,   700] loss: 16.57988171\n",
            "\n",
            "\n",
            "===============================\n",
            "RETRAINED MODEL ACCURACY\n",
            "===============================\n",
            "\n",
            "\n",
            "[250] accuracy : 81.5000%\n",
            "[500] accuracy : 81.6000%\n",
            "[750] accuracy : 81.9333%\n",
            "[1000] accuracy : 82.0750%\n",
            "[1250] accuracy : 81.9000%\n",
            "[1500] accuracy : 82.1333%\n",
            "[1750] accuracy : 82.0857%\n",
            "[2000] accuracy : 82.2375%\n",
            "[2250] accuracy : 82.4222%\n",
            "[2500] accuracy : 82.5900%\n"
          ]
        }
      ]
    },
    {
      "cell_type": "code",
      "source": [
        "prune_rate = 10\n",
        "print(\"===============================\\nSPARSITY\\n===============================\")\n",
        "sprs += (prune_rate/100)*model_sparse_full \n",
        "print(\"\\neigth prune: \",sprs)\n",
        "vgg_19_CIFAR_10_ver9 = prune_compr(vgg_19_CIFAR_10_ver8, prune_rate, num_of_epchs, sprs)\n",
        "model_sparse_full = 100 - sprs"
      ],
      "metadata": {
        "colab": {
          "base_uri": "https://localhost:8080/"
        },
        "id": "VfpCBvP-H2mV",
        "outputId": "8a863f35-de8e-427b-efd3-d561176ca583"
      },
      "execution_count": 17,
      "outputs": [
        {
          "output_type": "stream",
          "name": "stdout",
          "text": [
            "===============================\n",
            "SPARSITY\n",
            "===============================\n",
            "\n",
            "eigth prune:  76.112128\n",
            "\n",
            "\n",
            "===============================\n",
            "MODEL SIZE WITHOUT COMPRESSION\n",
            "===============================\n",
            "\n",
            "\n",
            "Model size:  5.869805\n",
            "\n",
            "\n",
            "===============================\n",
            "PRUNED MODEL ACCURACY\n",
            "===============================\n",
            "\n",
            "\n"
          ]
        },
        {
          "output_type": "stream",
          "name": "stderr",
          "text": [
            "<ipython-input-9-ea6f03a249b2>:138: UserWarning: To copy construct from a tensor, it is recommended to use sourceTensor.clone().detach() or sourceTensor.clone().detach().requires_grad_(True), rather than torch.tensor(sourceTensor).\n",
            "  if(torch.nonzero(torch.tensor(sub_mod)).size()[0]!=0):\n"
          ]
        },
        {
          "output_type": "stream",
          "name": "stdout",
          "text": [
            "[250] accuracy : 9.9000%\n",
            "[500] accuracy : 10.3000%\n",
            "[750] accuracy : 10.1667%\n",
            "[1000] accuracy : 10.0750%\n",
            "[1250] accuracy : 10.0200%\n",
            "[1500] accuracy : 10.1833%\n",
            "[1750] accuracy : 10.2857%\n",
            "[2000] accuracy : 10.2875%\n",
            "[2250] accuracy : 10.1000%\n",
            "[2500] accuracy : 10.0000%\n",
            "\n",
            "\n",
            "===============================\n",
            "MODEL SIZE WITH COMPRESSION\n",
            "===============================\n",
            "\n",
            "\n",
            "Model size:  4.734253\n",
            "Files already downloaded and verified\n",
            "\n",
            "\n",
            "===============================\n",
            "Training model\n",
            "===============================\n",
            "\n",
            "[1,   100] loss: 46.82433759\n",
            "[1,   200] loss: 38.59874885\n",
            "[1,   300] loss: 33.82612254\n",
            "[1,   400] loss: 32.64496669\n",
            "[1,   500] loss: 27.43194329\n",
            "[1,   600] loss: 32.56688107\n",
            "[1,   700] loss: 28.23212430\n",
            "[2,   100] loss: 26.39803554\n",
            "[2,   200] loss: 23.21637912\n",
            "[2,   300] loss: 25.53179024\n",
            "[2,   400] loss: 23.15908924\n",
            "[2,   500] loss: 23.06625535\n",
            "[2,   600] loss: 23.63039457\n",
            "[2,   700] loss: 22.49639380\n",
            "[3,   100] loss: 24.62187556\n",
            "[3,   200] loss: 22.92313389\n",
            "[3,   300] loss: 20.25540251\n",
            "[3,   400] loss: 19.40967755\n",
            "[3,   500] loss: 19.39288625\n",
            "[3,   600] loss: 20.56057608\n",
            "[3,   700] loss: 17.54142016\n",
            "[4,   100] loss: 19.56699193\n",
            "[4,   200] loss: 18.50083024\n",
            "[4,   300] loss: 18.20874645\n",
            "[4,   400] loss: 20.22309513\n",
            "[4,   500] loss: 16.54343285\n",
            "[4,   600] loss: 21.93518820\n",
            "[4,   700] loss: 18.13838939\n",
            "\n",
            "\n",
            "===============================\n",
            "RETRAINED MODEL ACCURACY\n",
            "===============================\n",
            "\n",
            "\n",
            "[250] accuracy : 81.0000%\n",
            "[500] accuracy : 80.8500%\n",
            "[750] accuracy : 81.2000%\n",
            "[1000] accuracy : 81.6000%\n",
            "[1250] accuracy : 81.8600%\n",
            "[1500] accuracy : 82.2667%\n",
            "[1750] accuracy : 82.3286%\n",
            "[2000] accuracy : 82.1625%\n",
            "[2250] accuracy : 82.2111%\n",
            "[2500] accuracy : 82.0500%\n"
          ]
        }
      ]
    },
    {
      "cell_type": "code",
      "source": [
        "prune_rate = 10\n",
        "print(\"===============================\\nSPARSITY\\n===============================\")\n",
        "sprs += (prune_rate/100)*model_sparse_full \n",
        "print(\"\\nninth prune: \",sprs)\n",
        "vgg_19_CIFAR_10_ver10 = prune_compr(vgg_19_CIFAR_10_ver9, prune_rate, num_of_epchs, sprs)\n",
        "model_sparse_full = 100 - sprs"
      ],
      "metadata": {
        "colab": {
          "base_uri": "https://localhost:8080/"
        },
        "id": "8NdUaOGkJU5r",
        "outputId": "158c15f3-758f-4f6f-fde8-9f2dfd655005"
      },
      "execution_count": 18,
      "outputs": [
        {
          "output_type": "stream",
          "name": "stdout",
          "text": [
            "===============================\n",
            "SPARSITY\n",
            "===============================\n",
            "\n",
            "ninth prune:  78.5009152\n",
            "\n",
            "\n",
            "===============================\n",
            "MODEL SIZE WITHOUT COMPRESSION\n",
            "===============================\n",
            "\n",
            "\n",
            "Model size:  4.734253\n",
            "\n",
            "\n",
            "===============================\n",
            "PRUNED MODEL ACCURACY\n",
            "===============================\n",
            "\n",
            "\n"
          ]
        },
        {
          "output_type": "stream",
          "name": "stderr",
          "text": [
            "<ipython-input-9-ea6f03a249b2>:138: UserWarning: To copy construct from a tensor, it is recommended to use sourceTensor.clone().detach() or sourceTensor.clone().detach().requires_grad_(True), rather than torch.tensor(sourceTensor).\n",
            "  if(torch.nonzero(torch.tensor(sub_mod)).size()[0]!=0):\n"
          ]
        },
        {
          "output_type": "stream",
          "name": "stdout",
          "text": [
            "[250] accuracy : 10.6000%\n",
            "[500] accuracy : 10.4000%\n",
            "[750] accuracy : 10.9000%\n",
            "[1000] accuracy : 10.8000%\n",
            "[1250] accuracy : 10.6400%\n",
            "[1500] accuracy : 10.6000%\n",
            "[1750] accuracy : 10.3714%\n",
            "[2000] accuracy : 10.2875%\n",
            "[2250] accuracy : 10.0667%\n",
            "[2500] accuracy : 10.0000%\n",
            "\n",
            "\n",
            "===============================\n",
            "MODEL SIZE WITH COMPRESSION\n",
            "===============================\n",
            "\n",
            "\n",
            "Model size:  3.856941\n",
            "Files already downloaded and verified\n",
            "\n",
            "\n",
            "===============================\n",
            "Training model\n",
            "===============================\n",
            "\n",
            "[1,   100] loss: 44.01272736\n",
            "[1,   200] loss: 40.59325019\n",
            "[1,   300] loss: 38.75719854\n",
            "[1,   400] loss: 38.10743712\n",
            "[1,   500] loss: 32.45552742\n",
            "[1,   600] loss: 36.95592828\n",
            "[1,   700] loss: 33.09334110\n",
            "[2,   100] loss: 28.79475332\n",
            "[2,   200] loss: 29.64730176\n",
            "[2,   300] loss: 26.66473656\n",
            "[2,   400] loss: 28.28247073\n",
            "[2,   500] loss: 25.77280036\n",
            "[2,   600] loss: 27.07498476\n",
            "[2,   700] loss: 26.91586334\n",
            "[3,   100] loss: 25.16510999\n",
            "[3,   200] loss: 25.34452195\n",
            "[3,   300] loss: 22.32849612\n",
            "[3,   400] loss: 23.88805360\n",
            "[3,   500] loss: 21.85950133\n",
            "[3,   600] loss: 24.78655616\n",
            "[3,   700] loss: 24.41767597\n",
            "[4,   100] loss: 22.83994786\n",
            "[4,   200] loss: 23.93721890\n",
            "[4,   300] loss: 21.46688422\n",
            "[4,   400] loss: 22.17448974\n",
            "[4,   500] loss: 20.98781943\n",
            "[4,   600] loss: 24.29860931\n",
            "[4,   700] loss: 21.47219825\n",
            "\n",
            "\n",
            "===============================\n",
            "RETRAINED MODEL ACCURACY\n",
            "===============================\n",
            "\n",
            "\n",
            "[250] accuracy : 81.2000%\n",
            "[500] accuracy : 82.0500%\n",
            "[750] accuracy : 82.2333%\n",
            "[1000] accuracy : 81.8250%\n",
            "[1250] accuracy : 81.3200%\n",
            "[1500] accuracy : 81.0167%\n",
            "[1750] accuracy : 80.9857%\n",
            "[2000] accuracy : 81.3375%\n",
            "[2250] accuracy : 81.3889%\n",
            "[2500] accuracy : 81.5600%\n"
          ]
        }
      ]
    },
    {
      "cell_type": "code",
      "source": [
        "new_accu_list = []\n",
        "for ele in accu_list:\n",
        "    new_accu_list.append(ele.item())\n",
        "\n",
        "print(new_accu_list)\n",
        "print(size_model)\n",
        "print(sparse_list)\n",
        "print(runtime_list)\n",
        "\n",
        "print(len(new_accu_list))\n",
        "print(len(size_model))\n",
        "print(len(sparse_list))\n",
        "print(len(runtime_list))"
      ],
      "metadata": {
        "id": "3vRL4SPtU3ul",
        "colab": {
          "base_uri": "https://localhost:8080/"
        },
        "outputId": "67d09c21-1ec2-4081-d1b0-79e63df000f1"
      },
      "execution_count": 19,
      "outputs": [
        {
          "output_type": "stream",
          "name": "stdout",
          "text": [
            "[81.31, 10.0, 87.46, 10.0, 87.7, 10.0, 87.28, 10.0, 85.26, 10.0, 83.47, 10.0, 84.74, 10.0, 82.59, 10.0, 82.05, 10.0, 81.56]\n",
            "[82.338669, 82.338669, 52.826477, 52.826477, 33.846253, 33.846253, 21.630701, 21.630701, 13.919597, 13.919597, 8.927341, 8.927341, 7.236589, 7.236589, 5.869805, 5.869805, 4.734253, 4.734253, 3.856941]\n",
            "[0, 20.0, 20.0, 36.0, 36.0, 48.8, 48.8, 59.04, 59.04, 67.232, 67.232, 70.5088, 70.5088, 73.45792, 73.45792, 76.112128, 76.112128, 78.5009152, 78.5009152]\n",
            "[19.243625164031982, 12.009558916091919, 11.729831457138062, 11.510571956634521, 11.223005056381226, 11.03633451461792, 10.596876859664917, 10.66861891746521, 10.651603698730469, 10.3968026638031, 10.290465593338013, 10.60562801361084, 10.498385190963745, 10.45750117301941, 10.611282587051392, 10.473049640655518, 10.782381534576416, 10.703890085220337, 10.465423107147217]\n",
            "19\n",
            "19\n",
            "19\n",
            "19\n"
          ]
        }
      ]
    },
    {
      "cell_type": "code",
      "source": [
        "new_sparselist = []\n",
        "[new_sparselist.append(x) for x in sparse_list if x not in new_sparselist]\n",
        "\n",
        "print(new_sparselist)\n",
        "print(len(new_sparselist))\n",
        "\n",
        "new_size_model = []\n",
        "[new_size_model.append(x) for x in size_model if x not in new_size_model]\n",
        "\n",
        "print(new_size_model)\n",
        "print(len(new_size_model))\n",
        "print()\n",
        " "
      ],
      "metadata": {
        "id": "Nn32x6QIXojx",
        "colab": {
          "base_uri": "https://localhost:8080/"
        },
        "outputId": "87c4a890-2c6e-422e-c980-e8b976029cea"
      },
      "execution_count": 20,
      "outputs": [
        {
          "output_type": "stream",
          "name": "stdout",
          "text": [
            "[0, 20.0, 36.0, 48.8, 59.04, 67.232, 70.5088, 73.45792, 76.112128, 78.5009152]\n",
            "10\n",
            "[82.338669, 52.826477, 33.846253, 21.630701, 13.919597, 8.927341, 7.236589, 5.869805, 4.734253, 3.856941]\n",
            "10\n",
            "\n"
          ]
        }
      ]
    },
    {
      "cell_type": "markdown",
      "source": [
        "Plotting the results:"
      ],
      "metadata": {
        "id": "SvT9LXRadO-A"
      }
    },
    {
      "cell_type": "code",
      "source": [
        "# importing the modules\n",
        "import numpy as np\n",
        "import matplotlib.pyplot as plt\n",
        "\n",
        "baseline = np.ones(len(new_accu_list))*81.31\n",
        "\n",
        "# plotting\n",
        "plt.title(\"VGG-19 model compression - Accuracy\")\n",
        "plt.xlabel(\"Pruned percentage\")\n",
        "plt.ylabel(\"Accuracy\")\n",
        "plt.plot(sparse_list, new_accu_list, color =\"red\")\n",
        "plt.plot(sparse_list, baseline, color =\"green\")\n",
        "plt.show()\n",
        "\n",
        "plt.title(\"VGG-19 model compression - Model size\")\n",
        "plt.xlabel(\"Pruned percentage\")\n",
        "plt.ylabel(\"Model size\")\n",
        "plt.plot(new_sparselist, new_size_model, color =\"blue\")\n",
        "plt.show()\n",
        "\n",
        "plt.title(\"VGG-19 model compression - Runtime\")\n",
        "plt.xlabel(\"Pruned percentage\")\n",
        "plt.ylabel(\"Runtime\")\n",
        "plt.plot(sparse_list, runtime_list, 'r+', color =\"black\")\n",
        "plt.show()"
      ],
      "metadata": {
        "id": "hcC03xs2WEOL",
        "colab": {
          "base_uri": "https://localhost:8080/",
          "height": 853
        },
        "outputId": "edce9c48-4124-42e6-c275-a5c1ed101fac"
      },
      "execution_count": 21,
      "outputs": [
        {
          "output_type": "display_data",
          "data": {
            "text/plain": [
              "<Figure size 432x288 with 1 Axes>"
            ],
            "image/png": "[encoded data removed]"
          },
          "metadata": {
            "needs_background": "light"
          }
        },
        {
          "output_type": "display_data",
          "data": {
            "text/plain": [
              "<Figure size 432x288 with 1 Axes>"
            ],
            "image/png": "[encoded data removed]"
          },
          "metadata": {
            "needs_background": "light"
          }
        },
        {
          "output_type": "display_data",
          "data": {
            "text/plain": [
              "<Figure size 432x288 with 1 Axes>"
            ],
            "image/png": "[encoded data removed]"
          },
          "metadata": {
            "needs_background": "light"
          }
        }
      ]
    },
    {
      "cell_type": "markdown",
      "source": [
        "Function to quantize VGG19 model:"
      ],
      "metadata": {
        "id": "X0sLHYPLdT08"
      }
    },
    {
      "cell_type": "code",
      "source": [
        "def quantize_model(model):\n",
        "\n",
        "    class QuantVGG19(torch.nn.Module):\n",
        "        def __init__(self, pretrained_model):\n",
        "            super(QuantVGG19, self).__init__()\n",
        "            # TODO instantiate stubs\n",
        "            self.pretrained = model\n",
        "            self.quant = torch.quantization.QuantStub()\n",
        "            self.dequant = torch.quantization.DeQuantStub()\n",
        "        \n",
        "        def forward(self, x):\n",
        "            \n",
        "            # TODO add stubs to forward pass\n",
        "            x = self.quant(x)\n",
        "            # TODO implement forward pass, hint: pretrained also has a forward function\n",
        "            x = self.pretrained(x)\n",
        "            x = self.dequant(x)\n",
        "            return x\n",
        "            \n",
        "    my_model = QuantVGG19(model)\n",
        "    my_model.eval()\n",
        "    my_model\n",
        "\n",
        "    # TODO attach fbgemm config to model\n",
        "    my_model.qconfig = torch.quantization.get_default_qconfig('fbgemm')\n",
        "\n",
        "    # TODO Prepare model for quantization\n",
        "    my_model_prepared = torch.quantization.prepare(my_model) \n",
        "\n",
        "    # TODO Run validation on prepared model for 1024 images\n",
        "    with torch.inference_mode():\n",
        "        for i, (inputs, labels) in enumerate(testloader):\n",
        "            if (i >= 1024):\n",
        "                break\n",
        "\n",
        "            inputs = inputs.to(\"cpu\")\n",
        "            labels = labels.to(\"cpu\")\n",
        "\n",
        "            my_model_prepared = my_model_prepared.to(\"cpu\")\n",
        "            outputs = my_model_prepared(inputs)\n",
        "            outputs = outputs.to(\"cpu\")\n",
        "\n",
        "    # TODO Convert model to quantized model\n",
        "    my_model_int8 = torch.quantization.convert(my_model_prepared)\n",
        "\n",
        "    return my_model_int8"
      ],
      "metadata": {
        "id": "RRwB6wst8Nls"
      },
      "execution_count": 22,
      "outputs": []
    },
    {
      "cell_type": "markdown",
      "source": [
        "BatchNorm fusion function:"
      ],
      "metadata": {
        "id": "z96C_bxadivf"
      }
    },
    {
      "cell_type": "code",
      "source": [
        "def fuse_bn_sequential(block):\n",
        "    \"\"\"\n",
        "    This function takes a sequential block and fuses the batch normalization with convolution\n",
        "    :param model: nn.Sequential. Source resnet model\n",
        "    :return: nn.Sequential. Converted block\n",
        "    \"\"\"\n",
        "    if not isinstance(block, nn.Sequential):\n",
        "        return block\n",
        "    stack = []\n",
        "    for m in block.children():\n",
        "        if isinstance(m, nn.BatchNorm2d):\n",
        "            if isinstance(stack[-1], nn.Conv2d):\n",
        "                bn_st_dict = m.state_dict()\n",
        "                conv_st_dict = stack[-1].state_dict()\n",
        "\n",
        "                # BatchNorm params\n",
        "                eps = m.eps\n",
        "                mu = bn_st_dict['running_mean']\n",
        "                var = bn_st_dict['running_var']\n",
        "                gamma = bn_st_dict['weight']\n",
        "\n",
        "                if 'bias' in bn_st_dict:\n",
        "                    beta = bn_st_dict['bias']\n",
        "                else:\n",
        "                    beta = torch.zeros(gamma.size(0)).float().to(gamma.device)\n",
        "\n",
        "                # Conv params\n",
        "                W = conv_st_dict['weight']\n",
        "                if 'bias' in conv_st_dict:\n",
        "                    bias = conv_st_dict['bias']\n",
        "                else:\n",
        "                    bias = torch.zeros(W.size(0)).float().to(gamma.device)\n",
        "\n",
        "                denom = torch.sqrt(var + eps)\n",
        "                b = beta - gamma.mul(mu).div(denom)\n",
        "                A = gamma.div(denom)\n",
        "                bias *= A\n",
        "                A = A.expand_as(W.transpose(0, -1)).transpose(0, -1)\n",
        "\n",
        "                W.mul_(A)\n",
        "                bias.add_(b)\n",
        "\n",
        "                stack[-1].weight.data.copy_(W)\n",
        "                if stack[-1].bias is None:\n",
        "                    stack[-1].bias = torch.nn.Parameter(bias)\n",
        "                else:\n",
        "                    stack[-1].bias.data.copy_(bias)\n",
        "\n",
        "        else:\n",
        "            stack.append(m)\n",
        "\n",
        "    if len(stack) > 1:\n",
        "        return nn.Sequential(*stack)\n",
        "    else:\n",
        "        return stack[0]\n",
        "\n",
        "\n",
        "def fuse_bn_recursively(model):\n",
        "    for module_name in model._modules:\n",
        "        model._modules[module_name] = fuse_bn_sequential(model._modules[module_name])\n",
        "        if len(model._modules[module_name]._modules) > 0:\n",
        "            fuse_bn_recursively(model._modules[module_name])\n",
        "\n",
        "    return model"
      ],
      "metadata": {
        "id": "KQ88ISHv8Vhr"
      },
      "execution_count": 23,
      "outputs": []
    },
    {
      "cell_type": "markdown",
      "source": [
        "AFCLE function for VGG19:"
      ],
      "metadata": {
        "id": "mbs4jFY7dmzZ"
      }
    },
    {
      "cell_type": "code",
      "source": [
        "def AFCLE(model):\n",
        "\n",
        "  while_loop_counter = 1\n",
        "  \n",
        "  while(1):\n",
        "    \n",
        "    s_sum  = 0\n",
        "    s_running_mean = 0\n",
        "    s_count = 0\n",
        "\n",
        "\n",
        "    print(f\"LOOP: {while_loop_counter}\")\n",
        "    for idx in range(len(conv_list) - 1):\n",
        "\n",
        "      # print(conv_list[idx], conv_list[idx + 1])\n",
        "\n",
        "      curr_layer = model.features[conv_list[idx]]\n",
        "      curr_layer_num_out_ch = curr_layer.weight.shape[0]\n",
        "      curr_layer_num_in_ch  = curr_layer.weight.shape[1]\n",
        "\n",
        "\n",
        "      # print(\"ORIGINAL WEIGHTS 1ST OUTPUT CHANNEL\")\n",
        "      # print(curr_layer.weight[0,:,:,:])\n",
        "      \n",
        "      \n",
        "      next_layer = model.features[conv_list[idx + 1]]\n",
        "      next_layer_num_out_ch = next_layer.weight.shape[0]\n",
        "      next_layer_num_in_ch  = next_layer.weight.shape[1]\n",
        "\n",
        "      curr_layer_weight_cloned = curr_layer.weight.clone()\n",
        "      curr_layer_bias_cloned = curr_layer.bias.clone()\n",
        "      next_layer_weight_cloned = next_layer.weight.clone()\n",
        "\n",
        "\n",
        "      # starting with the first layer we scale the output channels of the first layer and the \n",
        "      # corresponding input channels of the second layer\n",
        "      for channel in range(curr_layer_num_out_ch):\n",
        "\n",
        "        curr_out_channel = curr_layer_weight_cloned[channel,:,:,:]\n",
        "        next_in_channel = next_layer_weight_cloned[:,channel,:,:]\n",
        "        curr_layer_bias = curr_layer_bias_cloned[channel]\n",
        "\n",
        "        s = (math.sqrt( torch.max(torch.absolute(curr_out_channel)) * torch.max(torch.absolute(next_in_channel)) )) / (torch.max(torch.absolute(next_in_channel)))\n",
        "        s_count = s_count + 1\n",
        "        s_sum = s_sum + s\n",
        "        # s_running_mean = s_sum/s_count\n",
        "        # s = torch.ones(1)\n",
        "        # s = s*2\n",
        "\n",
        "        curr_layer_weight_cloned[channel,:,:,:] = curr_layer_weight_cloned[channel,:,:,:] * (1/(s.item()))\n",
        "        curr_layer_bias_cloned[channel] = curr_layer_bias_cloned[channel] * (1/(s.item()))\n",
        "        next_layer_weight_cloned[:,channel,:,:] = next_layer_weight_cloned[:,channel,:,:] * s.item()\n",
        "\n",
        "      model.features[conv_list[idx]].weight = torch.nn.Parameter(curr_layer_weight_cloned)\n",
        "      model.features[conv_list[idx]].bias = torch.nn.Parameter(curr_layer_bias_cloned)\n",
        "      model.features[conv_list[idx + 1]].weight = torch.nn.Parameter(next_layer_weight_cloned)\n",
        "\n",
        "      # print(\"UPDATED WEIGHTS 1ST OUTPUT CHANNEL\")\n",
        "      # print(curr_layer.weight[0,:,:,:])\n",
        "    \n",
        "    while_loop_counter = while_loop_counter + 1\n",
        "    s_running_mean = s_sum / s_count\n",
        "    print(f\"Mean = {s_running_mean}\")\n",
        "    if (torch.abs(s_running_mean - 1) < 1e-3 or (while_loop_counter == 150)):\n",
        "      break\n",
        "\n",
        "  return model"
      ],
      "metadata": {
        "id": "CsjDWM-68zjk"
      },
      "execution_count": 24,
      "outputs": []
    },
    {
      "cell_type": "code",
      "source": [
        "original = []"
      ],
      "metadata": {
        "id": "AA_ppKx_9Fow"
      },
      "execution_count": 39,
      "outputs": []
    },
    {
      "cell_type": "markdown",
      "source": [
        "Recording stats (runtime, accuracy, size) for original model:"
      ],
      "metadata": {
        "id": "EP_LTZMLd2Zm"
      }
    },
    {
      "cell_type": "code",
      "source": [
        "vgg19_small_model = copy.deepcopy(vgg_19_CIFAR_10_ver10)\n",
        "get_size_of_model(vgg19_small_model)\n",
        "rt_smodel,acc_smodel = validate_model(vgg19_small_model, testloader,device=\"cpu\")\n",
        "print(acc_smodel)\n",
        "\n",
        "original.append(acc_smodel.detach().numpy())\n",
        "original.append(round(rt_smodel,3))\n",
        "m_size = get_size_of_model(vgg19_small_model)\n",
        "original.append(round(m_size,3))"
      ],
      "metadata": {
        "colab": {
          "base_uri": "https://localhost:8080/"
        },
        "id": "uitzoNoA9AU-",
        "outputId": "e46baf0a-a048-46fe-bedc-42b5603e6f95"
      },
      "execution_count": 40,
      "outputs": [
        {
          "output_type": "stream",
          "name": "stdout",
          "text": [
            "Model size:  3.856941\n",
            "[250] accuracy : 78.5000%\n",
            "[500] accuracy : 81.0000%\n",
            "[750] accuracy : 81.1333%\n",
            "[1000] accuracy : 81.6500%\n",
            "[1250] accuracy : 81.6800%\n",
            "[1500] accuracy : 81.6667%\n",
            "[1750] accuracy : 81.5429%\n",
            "[2000] accuracy : 81.3750%\n",
            "[2250] accuracy : 81.3778%\n",
            "[2500] accuracy : 81.5600%\n",
            "tensor(81.5600, dtype=torch.float64)\n",
            "Model size:  3.855277\n"
          ]
        }
      ]
    },
    {
      "cell_type": "markdown",
      "source": [
        "Directly quantizing original model and recording stats (runtime, accuracy, size):"
      ],
      "metadata": {
        "id": "Uk8TBLNVd7e8"
      }
    },
    {
      "cell_type": "code",
      "source": [
        "vgg19_small_model_quant = copy.deepcopy(vgg19_small_model)\n",
        "vgg19_small_model_quant = quantize_model(vgg19_small_model_quant)\n",
        "rt_smodel_quant,acc_smodel_quant = validate_model(vgg19_small_model_quant, testloader,device=\"cpu\")\n",
        "print(acc_smodel_quant)\n",
        "\n",
        "normal_quant=[]\n",
        "normal_quant.append(acc_smodel_quant.detach().numpy())\n",
        "normal_quant.append(round(rt_smodel_quant,3))\n",
        "normal_q_size = get_size_of_model(vgg19_small_model_quant)\n",
        "normal_quant.append(round(normal_q_size,3))"
      ],
      "metadata": {
        "id": "WtrC8J5p9SrH",
        "colab": {
          "base_uri": "https://localhost:8080/"
        },
        "outputId": "6e083f95-d8bb-46fa-8248-ad95d6b9cffe"
      },
      "execution_count": 41,
      "outputs": [
        {
          "output_type": "stream",
          "name": "stderr",
          "text": [
            "/usr/local/lib/python3.8/dist-packages/torch/ao/quantization/observer.py:214: UserWarning: Please use quant_min and quant_max to specify the range for observers.                     reduce_range will be deprecated in a future release of PyTorch.\n",
            "  warnings.warn(\n"
          ]
        },
        {
          "output_type": "stream",
          "name": "stdout",
          "text": [
            "[250] accuracy : 83.4000%\n",
            "[500] accuracy : 81.8500%\n",
            "[750] accuracy : 81.8333%\n",
            "[1000] accuracy : 82.0750%\n",
            "[1250] accuracy : 81.5600%\n",
            "[1500] accuracy : 81.5167%\n",
            "[1750] accuracy : 81.4714%\n",
            "[2000] accuracy : 81.5250%\n",
            "[2250] accuracy : 81.6444%\n",
            "[2500] accuracy : 81.6400%\n",
            "tensor(81.6400, dtype=torch.float64)\n",
            "Model size:  1.060807\n"
          ]
        }
      ]
    },
    {
      "cell_type": "markdown",
      "source": [
        "BatchNorm Fusion on original model:"
      ],
      "metadata": {
        "id": "eIyZQGfJeNP_"
      }
    },
    {
      "cell_type": "code",
      "source": [
        "vgg19_small_model_fused = copy.deepcopy(vgg19_small_model)\n",
        "vgg19_small_model_fused = fuse_bn_recursively(vgg19_small_model_fused)\n",
        "rt_smodel_fused, acc_smodel_fused = validate_model(vgg19_small_model_fused, testloader,device=\"cpu\")\n",
        "print(acc_smodel_fused)"
      ],
      "metadata": {
        "id": "58dFXK0B-HVh",
        "colab": {
          "base_uri": "https://localhost:8080/"
        },
        "outputId": "7deccef8-536c-46e4-fad2-9a49f4b827e0"
      },
      "execution_count": 28,
      "outputs": [
        {
          "output_type": "stream",
          "name": "stdout",
          "text": [
            "[250] accuracy : 84.0000%\n",
            "[500] accuracy : 82.5000%\n",
            "[750] accuracy : 82.1667%\n",
            "[1000] accuracy : 81.6500%\n",
            "[1250] accuracy : 81.5200%\n",
            "[1500] accuracy : 81.7833%\n",
            "[1750] accuracy : 81.8857%\n",
            "[2000] accuracy : 81.8125%\n",
            "[2250] accuracy : 81.5778%\n",
            "[2500] accuracy : 81.5600%\n",
            "tensor(81.5600, dtype=torch.float64)\n"
          ]
        }
      ]
    },
    {
      "cell_type": "code",
      "source": [
        "conv_list = []\n",
        "for name, para in vgg19_small_model_fused.named_parameters():\n",
        "  if ('features' in name) and ('weight' in name):\n",
        "    split_name = list(name.split('.'))\n",
        "    to_append = conv_list.append(int(split_name[1]))"
      ],
      "metadata": {
        "id": "p7A3E_xH_nJm"
      },
      "execution_count": 29,
      "outputs": []
    },
    {
      "cell_type": "code",
      "source": [
        "print(conv_list)"
      ],
      "metadata": {
        "colab": {
          "base_uri": "https://localhost:8080/"
        },
        "id": "wYij1oaiUdC4",
        "outputId": "a8cad8a2-da4c-4342-9c6c-0ab9a713b0ab"
      },
      "execution_count": 30,
      "outputs": [
        {
          "output_type": "stream",
          "name": "stdout",
          "text": [
            "[0, 2, 5, 7, 10, 12, 14, 16, 19, 21, 23, 25, 28, 30, 32, 34]\n"
          ]
        }
      ]
    },
    {
      "cell_type": "markdown",
      "source": [
        "Performing AFCLE on VGG19:"
      ],
      "metadata": {
        "id": "jMsfAy5UeQiY"
      }
    },
    {
      "cell_type": "code",
      "source": [
        "import math\n",
        "\n",
        "vgg19_small_fused_afcle = AFCLE(vgg19_small_model_fused)\n",
        "rt_smodel_fused_afcle, acc_smodel_fused_afcle = validate_model(vgg19_small_fused_afcle, testloader,device=\"cpu\")\n",
        "print(acc_smodel_fused_afcle)\n"
      ],
      "metadata": {
        "id": "5SJpmXPy_n1U",
        "colab": {
          "base_uri": "https://localhost:8080/"
        },
        "outputId": "f393b65c-68a1-44cd-8a7a-50a7c66572e6"
      },
      "execution_count": 31,
      "outputs": [
        {
          "output_type": "stream",
          "name": "stdout",
          "text": [
            "LOOP: 1\n",
            "Mean = 1.0796374082565308\n",
            "LOOP: 2\n",
            "Mean = 1.0707416534423828\n",
            "LOOP: 3\n",
            "Mean = 1.0764981508255005\n",
            "LOOP: 4\n",
            "Mean = 1.0804728269577026\n",
            "LOOP: 5\n",
            "Mean = 1.0794206857681274\n",
            "LOOP: 6\n",
            "Mean = 1.078715205192566\n",
            "LOOP: 7\n",
            "Mean = 1.0775487422943115\n",
            "LOOP: 8\n",
            "Mean = 1.0763840675354004\n",
            "LOOP: 9\n",
            "Mean = 1.0751407146453857\n",
            "LOOP: 10\n",
            "Mean = 1.0737017393112183\n",
            "LOOP: 11\n",
            "Mean = 1.0720634460449219\n",
            "LOOP: 12\n",
            "Mean = 1.0702972412109375\n",
            "LOOP: 13\n",
            "Mean = 1.0683801174163818\n",
            "LOOP: 14\n",
            "Mean = 1.0663353204727173\n",
            "LOOP: 15\n",
            "Mean = 1.0642507076263428\n",
            "LOOP: 16\n",
            "Mean = 1.0621882677078247\n",
            "LOOP: 17\n",
            "Mean = 1.0601539611816406\n",
            "LOOP: 18\n",
            "Mean = 1.0581550598144531\n",
            "LOOP: 19\n",
            "Mean = 1.056172251701355\n",
            "LOOP: 20\n",
            "Mean = 1.0542327165603638\n",
            "LOOP: 21\n",
            "Mean = 1.052329421043396\n",
            "LOOP: 22\n",
            "Mean = 1.050470232963562\n",
            "LOOP: 23\n",
            "Mean = 1.0486559867858887\n",
            "LOOP: 24\n",
            "Mean = 1.0468956232070923\n",
            "LOOP: 25\n",
            "Mean = 1.0451879501342773\n",
            "LOOP: 26\n",
            "Mean = 1.0435289144515991\n",
            "LOOP: 27\n",
            "Mean = 1.0419141054153442\n",
            "LOOP: 28\n",
            "Mean = 1.040350317955017\n",
            "LOOP: 29\n",
            "Mean = 1.0388367176055908\n",
            "LOOP: 30\n",
            "Mean = 1.0373867750167847\n",
            "LOOP: 31\n",
            "Mean = 1.035969853401184\n",
            "LOOP: 32\n",
            "Mean = 1.0346152782440186\n",
            "LOOP: 33\n",
            "Mean = 1.0332984924316406\n",
            "LOOP: 34\n",
            "Mean = 1.0320409536361694\n",
            "LOOP: 35\n",
            "Mean = 1.0308204889297485\n",
            "LOOP: 36\n",
            "Mean = 1.0296438932418823\n",
            "LOOP: 37\n",
            "Mean = 1.0285143852233887\n",
            "LOOP: 38\n",
            "Mean = 1.0274298191070557\n",
            "LOOP: 39\n",
            "Mean = 1.0263850688934326\n",
            "LOOP: 40\n",
            "Mean = 1.025375247001648\n",
            "LOOP: 41\n",
            "Mean = 1.0244048833847046\n",
            "LOOP: 42\n",
            "Mean = 1.0234742164611816\n",
            "LOOP: 43\n",
            "Mean = 1.0225780010223389\n",
            "LOOP: 44\n",
            "Mean = 1.021715521812439\n",
            "LOOP: 45\n",
            "Mean = 1.0208795070648193\n",
            "LOOP: 46\n",
            "Mean = 1.0200859308242798\n",
            "LOOP: 47\n",
            "Mean = 1.0193113088607788\n",
            "LOOP: 48\n",
            "Mean = 1.018578052520752\n",
            "LOOP: 49\n",
            "Mean = 1.0178624391555786\n",
            "LOOP: 50\n",
            "Mean = 1.0171781778335571\n",
            "LOOP: 51\n",
            "Mean = 1.0165194272994995\n",
            "LOOP: 52\n",
            "Mean = 1.015883445739746\n",
            "LOOP: 53\n",
            "Mean = 1.0152782201766968\n",
            "LOOP: 54\n",
            "Mean = 1.0146944522857666\n",
            "LOOP: 55\n",
            "Mean = 1.0141350030899048\n",
            "LOOP: 56\n",
            "Mean = 1.0135973691940308\n",
            "LOOP: 57\n",
            "Mean = 1.013075590133667\n",
            "LOOP: 58\n",
            "Mean = 1.0125755071640015\n",
            "LOOP: 59\n",
            "Mean = 1.012095332145691\n",
            "LOOP: 60\n",
            "Mean = 1.0116291046142578\n",
            "LOOP: 61\n",
            "Mean = 1.011182188987732\n",
            "LOOP: 62\n",
            "Mean = 1.0107601881027222\n",
            "LOOP: 63\n",
            "Mean = 1.0103437900543213\n",
            "LOOP: 64\n",
            "Mean = 1.0099438428878784\n",
            "LOOP: 65\n",
            "Mean = 1.0095648765563965\n",
            "LOOP: 66\n",
            "Mean = 1.0091975927352905\n",
            "LOOP: 67\n",
            "Mean = 1.0088540315628052\n",
            "LOOP: 68\n",
            "Mean = 1.0085097551345825\n",
            "LOOP: 69\n",
            "Mean = 1.0081855058670044\n",
            "LOOP: 70\n",
            "Mean = 1.0078730583190918\n",
            "LOOP: 71\n",
            "Mean = 1.0075732469558716\n",
            "LOOP: 72\n",
            "Mean = 1.0072818994522095\n",
            "LOOP: 73\n",
            "Mean = 1.0070092678070068\n",
            "LOOP: 74\n",
            "Mean = 1.0067397356033325\n",
            "LOOP: 75\n",
            "Mean = 1.006478190422058\n",
            "LOOP: 76\n",
            "Mean = 1.0062315464019775\n",
            "LOOP: 77\n",
            "Mean = 1.005990743637085\n",
            "LOOP: 78\n",
            "Mean = 1.00576913356781\n",
            "LOOP: 79\n",
            "Mean = 1.0055404901504517\n",
            "LOOP: 80\n",
            "Mean = 1.0053346157073975\n",
            "LOOP: 81\n",
            "Mean = 1.0051332712173462\n",
            "LOOP: 82\n",
            "Mean = 1.0049328804016113\n",
            "LOOP: 83\n",
            "Mean = 1.004746913909912\n",
            "LOOP: 84\n",
            "Mean = 1.004564881324768\n",
            "LOOP: 85\n",
            "Mean = 1.0043944120407104\n",
            "LOOP: 86\n",
            "Mean = 1.0042227506637573\n",
            "LOOP: 87\n",
            "Mean = 1.0040591955184937\n",
            "LOOP: 88\n",
            "Mean = 1.0039093494415283\n",
            "LOOP: 89\n",
            "Mean = 1.003760814666748\n",
            "LOOP: 90\n",
            "Mean = 1.0036195516586304\n",
            "LOOP: 91\n",
            "Mean = 1.0034734010696411\n",
            "LOOP: 92\n",
            "Mean = 1.0033481121063232\n",
            "LOOP: 93\n",
            "Mean = 1.0032258033752441\n",
            "LOOP: 94\n",
            "Mean = 1.0030908584594727\n",
            "LOOP: 95\n",
            "Mean = 1.0029757022857666\n",
            "LOOP: 96\n",
            "Mean = 1.0028647184371948\n",
            "LOOP: 97\n",
            "Mean = 1.0027506351470947\n",
            "LOOP: 98\n",
            "Mean = 1.0026509761810303\n",
            "LOOP: 99\n",
            "Mean = 1.0025495290756226\n",
            "LOOP: 100\n",
            "Mean = 1.0024497509002686\n",
            "LOOP: 101\n",
            "Mean = 1.0023592710494995\n",
            "LOOP: 102\n",
            "Mean = 1.0022752285003662\n",
            "LOOP: 103\n",
            "Mean = 1.0021765232086182\n",
            "LOOP: 104\n",
            "Mean = 1.0021008253097534\n",
            "LOOP: 105\n",
            "Mean = 1.0020124912261963\n",
            "LOOP: 106\n",
            "Mean = 1.0019402503967285\n",
            "LOOP: 107\n",
            "Mean = 1.0018678903579712\n",
            "LOOP: 108\n",
            "Mean = 1.0018011331558228\n",
            "LOOP: 109\n",
            "Mean = 1.0017335414886475\n",
            "LOOP: 110\n",
            "Mean = 1.0016613006591797\n",
            "LOOP: 111\n",
            "Mean = 1.0015956163406372\n",
            "LOOP: 112\n",
            "Mean = 1.0015424489974976\n",
            "LOOP: 113\n",
            "Mean = 1.0014771223068237\n",
            "LOOP: 114\n",
            "Mean = 1.0014255046844482\n",
            "LOOP: 115\n",
            "Mean = 1.0013694763183594\n",
            "LOOP: 116\n",
            "Mean = 1.0013214349746704\n",
            "LOOP: 117\n",
            "Mean = 1.0012649297714233\n",
            "LOOP: 118\n",
            "Mean = 1.0012154579162598\n",
            "LOOP: 119\n",
            "Mean = 1.0011684894561768\n",
            "LOOP: 120\n",
            "Mean = 1.0011276006698608\n",
            "LOOP: 121\n",
            "Mean = 1.001077651977539\n",
            "LOOP: 122\n",
            "Mean = 1.0010440349578857\n",
            "LOOP: 123\n",
            "Mean = 1.0010019540786743\n",
            "LOOP: 124\n",
            "Mean = 1.0009671449661255\n",
            "[250] accuracy : 80.1000%\n",
            "[500] accuracy : 80.8500%\n",
            "[750] accuracy : 80.4000%\n",
            "[1000] accuracy : 80.8500%\n",
            "[1250] accuracy : 81.2600%\n",
            "[1500] accuracy : 81.4333%\n",
            "[1750] accuracy : 81.4000%\n",
            "[2000] accuracy : 81.5250%\n",
            "[2250] accuracy : 81.5444%\n",
            "[2500] accuracy : 81.5600%\n",
            "tensor(81.5600, dtype=torch.float64)\n"
          ]
        }
      ]
    },
    {
      "cell_type": "markdown",
      "source": [
        "Visualizing weight distribution before/after AFCLE in convolutional layers:"
      ],
      "metadata": {
        "id": "DQ2xm6Kdd_Xd"
      }
    },
    {
      "cell_type": "code",
      "source": [
        "\n",
        "conv2d = [0,3,7,10,14,17,20,23,27,30,33,36,40,43,46,49]\n",
        "plot_weights_VGG19(vgg19_small_model,conv2d,vgg19_small_fused_afcle,conv_list)"
      ],
      "metadata": {
        "colab": {
          "base_uri": "https://localhost:8080/",
          "height": 1000
        },
        "id": "SlVlucUFW9Rj",
        "outputId": "c881ff31-aefe-4963-ac93-d000645e2220"
      },
      "execution_count": 57,
      "outputs": [
        {
          "output_type": "display_data",
          "data": {
            "text/plain": [
              "<Figure size 2520x504 with 2 Axes>"
            ],
            "image/png": "[encoded data removed]"
          },
          "metadata": {
            "needs_background": "light"
          }
        },
        {
          "output_type": "display_data",
          "data": {
            "text/plain": [
              "<Figure size 2520x504 with 2 Axes>"
            ],
            "image/png": "[encoded data removed]"
          },
          "metadata": {
            "needs_background": "light"
          }
        },
        {
          "output_type": "display_data",
          "data": {
            "text/plain": [
              "<Figure size 2520x504 with 2 Axes>"
            ],
            "image/png": "[encoded data removed]"
          },
          "metadata": {
            "needs_background": "light"
          }
        },
        {
          "output_type": "display_data",
          "data": {
            "text/plain": [
              "<Figure size 2520x504 with 2 Axes>"
            ],
            "image/png": "[encoded data removed]"
          },
          "metadata": {
            "needs_background": "light"
          }
        },
        {
          "output_type": "display_data",
          "data": {
            "text/plain": [
              "<Figure size 2520x504 with 2 Axes>"
            ],
            "image/png": "[encoded data removed]"
          },
          "metadata": {
            "needs_background": "light"
          }
        },
        {
          "output_type": "display_data",
          "data": {
            "text/plain": [
              "<Figure size 2520x504 with 2 Axes>"
            ],
            "image/png": "[encoded data removed]"
          },
          "metadata": {
            "needs_background": "light"
          }
        },
        {
          "output_type": "display_data",
          "data": {
            "text/plain": [
              "<Figure size 2520x504 with 2 Axes>"
            ],
            "image/png": "[encoded data removed]"
          },
          "metadata": {
            "needs_background": "light"
          }
        },
        {
          "output_type": "display_data",
          "data": {
            "text/plain": [
              "<Figure size 2520x504 with 2 Axes>"
            ],
            "image/png": "[encoded data removed]"
          },
          "metadata": {
            "needs_background": "light"
          }
        },
        {
          "output_type": "display_data",
          "data": {
            "text/plain": [
              "<Figure size 2520x504 with 2 Axes>"
            ],
            "image/png": "[encoded data removed]"
          },
          "metadata": {
            "needs_background": "light"
          }
        },
        {
          "output_type": "display_data",
          "data": {
            "text/plain": [
              "<Figure size 2520x504 with 2 Axes>"
            ],
            "image/png": "[encoded data removed]"
          },
          "metadata": {
            "needs_background": "light"
          }
        },
        {
          "output_type": "display_data",
          "data": {
            "text/plain": [
              "<Figure size 2520x504 with 2 Axes>"
            ],
            "image/png": "[encoded data removed]"
          },
          "metadata": {
            "needs_background": "light"
          }
        },
        {
          "output_type": "display_data",
          "data": {
            "text/plain": [
              "<Figure size 2520x504 with 2 Axes>"
            ],
            "image/png": "[encoded data removed]"
          },
          "metadata": {
            "needs_background": "light"
          }
        },
        {
          "output_type": "display_data",
          "data": {
            "text/plain": [
              "<Figure size 2520x504 with 2 Axes>"
            ],
            "image/png": "[encoded data removed]"
          },
          "metadata": {
            "needs_background": "light"
          }
        },
        {
          "output_type": "display_data",
          "data": {
            "text/plain": [
              "<Figure size 2520x504 with 2 Axes>"
            ],
            "image/png": "[encoded data removed]"
          },
          "metadata": {
            "needs_background": "light"
          }
        },
        {
          "output_type": "display_data",
          "data": {
            "text/plain": [
              "<Figure size 2520x504 with 2 Axes>"
            ],
            "image/png": "[encoded data removed]"
          },
          "metadata": {
            "needs_background": "light"
          }
        },
        {
          "output_type": "display_data",
          "data": {
            "text/plain": [
              "<Figure size 2520x504 with 2 Axes>"
            ],
            "image/png": "[encoded data removed]"
          },
          "metadata": {
            "needs_background": "light"
          }
        }
      ]
    },
    {
      "cell_type": "markdown",
      "source": [
        "Quantizing model after AFCLE and recording stats (runtime, accuracy, size):"
      ],
      "metadata": {
        "id": "mCG7aRDJeGhh"
      }
    },
    {
      "cell_type": "code",
      "source": [
        "vgg19_smodel_afcle_quant = copy.deepcopy(vgg19_small_fused_afcle)\n",
        "vgg19_smodel_afcle_quant = quantize_model(vgg19_smodel_afcle_quant)\n",
        "rt_smodel_afcle_quant, acc_smodel_afcle_quant = validate_model(vgg19_smodel_afcle_quant, testloader,device=\"cpu\")\n",
        "print(acc_smodel_afcle_quant)\n",
        "\n",
        "afcle_quant = []\n",
        "afcle_quant.append(acc_smodel_afcle_quant.detach().numpy())\n",
        "afcle_quant.append(round(rt_smodel_afcle_quant,3))\n",
        "afcle_q_size = get_size_of_model(vgg19_smodel_afcle_quant)\n",
        "afcle_quant.append(round(afcle_q_size,3))"
      ],
      "metadata": {
        "id": "KrwEia8IBFg_",
        "colab": {
          "base_uri": "https://localhost:8080/"
        },
        "outputId": "b03b1940-3b9b-4b5e-efd8-a459ea587419"
      },
      "execution_count": 43,
      "outputs": [
        {
          "output_type": "stream",
          "name": "stdout",
          "text": [
            "[250] accuracy : 81.2000%\n",
            "[500] accuracy : 81.7000%\n",
            "[750] accuracy : 81.9333%\n",
            "[1000] accuracy : 82.0000%\n",
            "[1250] accuracy : 82.1000%\n",
            "[1500] accuracy : 81.9833%\n",
            "[1750] accuracy : 81.8143%\n",
            "[2000] accuracy : 81.6125%\n",
            "[2250] accuracy : 81.7444%\n",
            "[2500] accuracy : 81.7000%\n",
            "tensor(81.7000, dtype=torch.float64)\n",
            "Model size:  1.010679\n"
          ]
        }
      ]
    },
    {
      "cell_type": "markdown",
      "source": [
        "Plotting results:"
      ],
      "metadata": {
        "id": "0DqCpWDjemgq"
      }
    },
    {
      "cell_type": "code",
      "source": [
        "def addlabels(x,y,shift):\n",
        "    for i in range(len(x)):\n",
        "        plt.text(i, y[i]+shift, y[i], ha = 'center')\n",
        "\n",
        "fig = plt.figure()\n",
        "ax = fig.add_axes([0,0,1,1])\n",
        "m_type = ['Original model', 'Regular quantization', 'AFCLE quantization']\n",
        "data = [original[0],normal_quant[0],afcle_quant[0]]\n",
        "ax.bar(m_type,data)\n",
        "addlabels(m_type,data,0.05)\n",
        "max_y_lim = max(data) + 1\n",
        "min_y_lim = min(data) - 1\n",
        "plt.ylim(min_y_lim, max_y_lim)\n",
        "plt.xlabel(\"Model type\")\n",
        "plt.ylabel(\"Accuracy\")\n",
        "plt.title(\"Accuracy\")\n",
        "plt.show()\n",
        "\n",
        "fig = plt.figure()\n",
        "ax = fig.add_axes([0,0,1,1])\n",
        "m_type = ['Original model', 'Regular quantization', 'AFCLE quantization']\n",
        "data = [original[1],normal_quant[1],afcle_quant[1]]\n",
        "ax.bar(m_type,data)\n",
        "addlabels(m_type,data,0.2)\n",
        "max_y_lim = max(data) + 5\n",
        "min_y_lim = min(data) - 1\n",
        "plt.ylim(min_y_lim, max_y_lim)\n",
        "plt.xlabel(\"Model type\")\n",
        "plt.ylabel(\"Runtime\")\n",
        "plt.title(\"Runtime\")\n",
        "plt.show()\n",
        "\n",
        "fig = plt.figure()\n",
        "ax = fig.add_axes([0,0,1,1])\n",
        "m_type = ['Original model', 'Regular quantization', 'AFCLE quantization']\n",
        "data = [original[2],normal_quant[2],afcle_quant[2]]\n",
        "ax.bar(m_type,data)\n",
        "addlabels(m_type,data,0.1)\n",
        "max_y_lim = max(data) + 5\n",
        "min_y_lim = min(data) - 1\n",
        "plt.ylim(min_y_lim, max_y_lim)\n",
        "plt.xlabel(\"Model type\")\n",
        "plt.ylabel(\"Model size\")\n",
        "plt.title(\"Model size\")\n",
        "plt.show()"
      ],
      "metadata": {
        "colab": {
          "base_uri": "https://localhost:8080/",
          "height": 1000
        },
        "id": "sjGO-FGTgema",
        "outputId": "3122f729-c75e-4807-c3c0-9850ffddc941"
      },
      "execution_count": 44,
      "outputs": [
        {
          "output_type": "display_data",
          "data": {
            "text/plain": [
              "<Figure size 432x288 with 1 Axes>"
            ],
            "image/png": "[encoded data removed]"
          },
          "metadata": {
            "needs_background": "light"
          }
        },
        {
          "output_type": "display_data",
          "data": {
            "text/plain": [
              "<Figure size 432x288 with 1 Axes>"
            ],
            "image/png": "[encoded data removed]"
          },
          "metadata": {
            "needs_background": "light"
          }
        },
        {
          "output_type": "display_data",
          "data": {
            "text/plain": [
              "<Figure size 432x288 with 1 Axes>"
            ],
            "image/png": "[encoded data removed]"
          },
          "metadata": {
            "needs_background": "light"
          }
        }
      ]
    }
  ],
  "metadata": {
    "accelerator": "GPU",
    "colab": {
      "provenance": []
    },
    "gpuClass": "premium",
    "kernelspec": {
      "display_name": "Python 3",
      "name": "python3"
    },
    "language_info": {
      "name": "python"
    },
    "widgets": {
      "application/vnd.jupyter.widget-state+json": {
        "49e210ba83454c0eb263c16f49234bff": {
          "model_module": "@jupyter-widgets/controls",
          "model_name": "HBoxModel",
          "model_module_version": "1.5.0",
          "state": {
            "_dom_classes": [],
            "_model_module": "@jupyter-widgets/controls",
            "_model_module_version": "1.5.0",
            "_model_name": "HBoxModel",
            "_view_count": null,
            "_view_module": "@jupyter-widgets/controls",
            "_view_module_version": "1.5.0",
            "_view_name": "HBoxView",
            "box_style": "",
            "children": [
              "IPY_MODEL_4c13a18e76bc408abf2b3721aec26b43",
              "IPY_MODEL_7935f58e48294cb8893de9877766b2d9",
              "IPY_MODEL_4004edcb4d014037898b779e7cc910ae"
            ],
            "layout": "IPY_MODEL_6e2eebdcb4ed42689e5ec00225e8fe89"
          }
        },
        "4c13a18e76bc408abf2b3721aec26b43": {
          "model_module": "@jupyter-widgets/controls",
          "model_name": "HTMLModel",
          "model_module_version": "1.5.0",
          "state": {
            "_dom_classes": [],
            "_model_module": "@jupyter-widgets/controls",
            "_model_module_version": "1.5.0",
            "_model_name": "HTMLModel",
            "_view_count": null,
            "_view_module": "@jupyter-widgets/controls",
            "_view_module_version": "1.5.0",
            "_view_name": "HTMLView",
            "description": "",
            "description_tooltip": null,
            "layout": "IPY_MODEL_b7249626235f4e3187852b5bd3499c7e",
            "placeholder": "​",
            "style": "IPY_MODEL_bb8e13a08dfd4d69aa0128ed3cfe1ba2",
            "value": "100%"
          }
        },
        "7935f58e48294cb8893de9877766b2d9": {
          "model_module": "@jupyter-widgets/controls",
          "model_name": "FloatProgressModel",
          "model_module_version": "1.5.0",
          "state": {
            "_dom_classes": [],
            "_model_module": "@jupyter-widgets/controls",
            "_model_module_version": "1.5.0",
            "_model_name": "FloatProgressModel",
            "_view_count": null,
            "_view_module": "@jupyter-widgets/controls",
            "_view_module_version": "1.5.0",
            "_view_name": "ProgressView",
            "bar_style": "success",
            "description": "",
            "description_tooltip": null,
            "layout": "IPY_MODEL_a112da23eae249bb961d609d3d978724",
            "max": 82346709,
            "min": 0,
            "orientation": "horizontal",
            "style": "IPY_MODEL_f7ce61e194454a7486c0cdd0fbed6c15",
            "value": 82346709
          }
        },
        "4004edcb4d014037898b779e7cc910ae": {
          "model_module": "@jupyter-widgets/controls",
          "model_name": "HTMLModel",
          "model_module_version": "1.5.0",
          "state": {
            "_dom_classes": [],
            "_model_module": "@jupyter-widgets/controls",
            "_model_module_version": "1.5.0",
            "_model_name": "HTMLModel",
            "_view_count": null,
            "_view_module": "@jupyter-widgets/controls",
            "_view_module_version": "1.5.0",
            "_view_name": "HTMLView",
            "description": "",
            "description_tooltip": null,
            "layout": "IPY_MODEL_b2403f14c6c4459eba6250d16258be6a",
            "placeholder": "​",
            "style": "IPY_MODEL_d3232dc5a8c04fd89c0e7465f3636f0b",
            "value": " 78.5M/78.5M [00:03&lt;00:00, 25.5MB/s]"
          }
        },
        "6e2eebdcb4ed42689e5ec00225e8fe89": {
          "model_module": "@jupyter-widgets/base",
          "model_name": "LayoutModel",
          "model_module_version": "1.2.0",
          "state": {
            "_model_module": "@jupyter-widgets/base",
            "_model_module_version": "1.2.0",
            "_model_name": "LayoutModel",
            "_view_count": null,
            "_view_module": "@jupyter-widgets/base",
            "_view_module_version": "1.2.0",
            "_view_name": "LayoutView",
            "align_content": null,
            "align_items": null,
            "align_self": null,
            "border": null,
            "bottom": null,
            "display": null,
            "flex": null,
            "flex_flow": null,
            "grid_area": null,
            "grid_auto_columns": null,
            "grid_auto_flow": null,
            "grid_auto_rows": null,
            "grid_column": null,
            "grid_gap": null,
            "grid_row": null,
            "grid_template_areas": null,
            "grid_template_columns": null,
            "grid_template_rows": null,
            "height": null,
            "justify_content": null,
            "justify_items": null,
            "left": null,
            "margin": null,
            "max_height": null,
            "max_width": null,
            "min_height": null,
            "min_width": null,
            "object_fit": null,
            "object_position": null,
            "order": null,
            "overflow": null,
            "overflow_x": null,
            "overflow_y": null,
            "padding": null,
            "right": null,
            "top": null,
            "visibility": null,
            "width": null
          }
        },
        "b7249626235f4e3187852b5bd3499c7e": {
          "model_module": "@jupyter-widgets/base",
          "model_name": "LayoutModel",
          "model_module_version": "1.2.0",
          "state": {
            "_model_module": "@jupyter-widgets/base",
            "_model_module_version": "1.2.0",
            "_model_name": "LayoutModel",
            "_view_count": null,
            "_view_module": "@jupyter-widgets/base",
            "_view_module_version": "1.2.0",
            "_view_name": "LayoutView",
            "align_content": null,
            "align_items": null,
            "align_self": null,
            "border": null,
            "bottom": null,
            "display": null,
            "flex": null,
            "flex_flow": null,
            "grid_area": null,
            "grid_auto_columns": null,
            "grid_auto_flow": null,
            "grid_auto_rows": null,
            "grid_column": null,
            "grid_gap": null,
            "grid_row": null,
            "grid_template_areas": null,
            "grid_template_columns": null,
            "grid_template_rows": null,
            "height": null,
            "justify_content": null,
            "justify_items": null,
            "left": null,
            "margin": null,
            "max_height": null,
            "max_width": null,
            "min_height": null,
            "min_width": null,
            "object_fit": null,
            "object_position": null,
            "order": null,
            "overflow": null,
            "overflow_x": null,
            "overflow_y": null,
            "padding": null,
            "right": null,
            "top": null,
            "visibility": null,
            "width": null
          }
        },
        "bb8e13a08dfd4d69aa0128ed3cfe1ba2": {
          "model_module": "@jupyter-widgets/controls",
          "model_name": "DescriptionStyleModel",
          "model_module_version": "1.5.0",
          "state": {
            "_model_module": "@jupyter-widgets/controls",
            "_model_module_version": "1.5.0",
            "_model_name": "DescriptionStyleModel",
            "_view_count": null,
            "_view_module": "@jupyter-widgets/base",
            "_view_module_version": "1.2.0",
            "_view_name": "StyleView",
            "description_width": ""
          }
        },
        "a112da23eae249bb961d609d3d978724": {
          "model_module": "@jupyter-widgets/base",
          "model_name": "LayoutModel",
          "model_module_version": "1.2.0",
          "state": {
            "_model_module": "@jupyter-widgets/base",
            "_model_module_version": "1.2.0",
            "_model_name": "LayoutModel",
            "_view_count": null,
            "_view_module": "@jupyter-widgets/base",
            "_view_module_version": "1.2.0",
            "_view_name": "LayoutView",
            "align_content": null,
            "align_items": null,
            "align_self": null,
            "border": null,
            "bottom": null,
            "display": null,
            "flex": null,
            "flex_flow": null,
            "grid_area": null,
            "grid_auto_columns": null,
            "grid_auto_flow": null,
            "grid_auto_rows": null,
            "grid_column": null,
            "grid_gap": null,
            "grid_row": null,
            "grid_template_areas": null,
            "grid_template_columns": null,
            "grid_template_rows": null,
            "height": null,
            "justify_content": null,
            "justify_items": null,
            "left": null,
            "margin": null,
            "max_height": null,
            "max_width": null,
            "min_height": null,
            "min_width": null,
            "object_fit": null,
            "object_position": null,
            "order": null,
            "overflow": null,
            "overflow_x": null,
            "overflow_y": null,
            "padding": null,
            "right": null,
            "top": null,
            "visibility": null,
            "width": null
          }
        },
        "f7ce61e194454a7486c0cdd0fbed6c15": {
          "model_module": "@jupyter-widgets/controls",
          "model_name": "ProgressStyleModel",
          "model_module_version": "1.5.0",
          "state": {
            "_model_module": "@jupyter-widgets/controls",
            "_model_module_version": "1.5.0",
            "_model_name": "ProgressStyleModel",
            "_view_count": null,
            "_view_module": "@jupyter-widgets/base",
            "_view_module_version": "1.2.0",
            "_view_name": "StyleView",
            "bar_color": null,
            "description_width": ""
          }
        },
        "b2403f14c6c4459eba6250d16258be6a": {
          "model_module": "@jupyter-widgets/base",
          "model_name": "LayoutModel",
          "model_module_version": "1.2.0",
          "state": {
            "_model_module": "@jupyter-widgets/base",
            "_model_module_version": "1.2.0",
            "_model_name": "LayoutModel",
            "_view_count": null,
            "_view_module": "@jupyter-widgets/base",
            "_view_module_version": "1.2.0",
            "_view_name": "LayoutView",
            "align_content": null,
            "align_items": null,
            "align_self": null,
            "border": null,
            "bottom": null,
            "display": null,
            "flex": null,
            "flex_flow": null,
            "grid_area": null,
            "grid_auto_columns": null,
            "grid_auto_flow": null,
            "grid_auto_rows": null,
            "grid_column": null,
            "grid_gap": null,
            "grid_row": null,
            "grid_template_areas": null,
            "grid_template_columns": null,
            "grid_template_rows": null,
            "height": null,
            "justify_content": null,
            "justify_items": null,
            "left": null,
            "margin": null,
            "max_height": null,
            "max_width": null,
            "min_height": null,
            "min_width": null,
            "object_fit": null,
            "object_position": null,
            "order": null,
            "overflow": null,
            "overflow_x": null,
            "overflow_y": null,
            "padding": null,
            "right": null,
            "top": null,
            "visibility": null,
            "width": null
          }
        },
        "d3232dc5a8c04fd89c0e7465f3636f0b": {
          "model_module": "@jupyter-widgets/controls",
          "model_name": "DescriptionStyleModel",
          "model_module_version": "1.5.0",
          "state": {
            "_model_module": "@jupyter-widgets/controls",
            "_model_module_version": "1.5.0",
            "_model_name": "DescriptionStyleModel",
            "_view_count": null,
            "_view_module": "@jupyter-widgets/base",
            "_view_module_version": "1.2.0",
            "_view_name": "StyleView",
            "description_width": ""
          }
        },
        "65778aec11114ac39167550722670746": {
          "model_module": "@jupyter-widgets/controls",
          "model_name": "HBoxModel",
          "model_module_version": "1.5.0",
          "state": {
            "_dom_classes": [],
            "_model_module": "@jupyter-widgets/controls",
            "_model_module_version": "1.5.0",
            "_model_name": "HBoxModel",
            "_view_count": null,
            "_view_module": "@jupyter-widgets/controls",
            "_view_module_version": "1.5.0",
            "_view_name": "HBoxView",
            "box_style": "",
            "children": [
              "IPY_MODEL_12075ad7386f4b748964bd46987fc7d9",
              "IPY_MODEL_88818872c85c41c5aedcb20cc90090ae",
              "IPY_MODEL_f74d6ee9b3474a30b1519f64a1e46af8"
            ],
            "layout": "IPY_MODEL_71e2c908c8cf4d038926a514ef6b6d3e"
          }
        },
        "12075ad7386f4b748964bd46987fc7d9": {
          "model_module": "@jupyter-widgets/controls",
          "model_name": "HTMLModel",
          "model_module_version": "1.5.0",
          "state": {
            "_dom_classes": [],
            "_model_module": "@jupyter-widgets/controls",
            "_model_module_version": "1.5.0",
            "_model_name": "HTMLModel",
            "_view_count": null,
            "_view_module": "@jupyter-widgets/controls",
            "_view_module_version": "1.5.0",
            "_view_name": "HTMLView",
            "description": "",
            "description_tooltip": null,
            "layout": "IPY_MODEL_84a5d6118d1548e5ac723b5a1cceddcb",
            "placeholder": "​",
            "style": "IPY_MODEL_b7dff1dcead14a18b934696606ac83e0",
            "value": "100%"
          }
        },
        "88818872c85c41c5aedcb20cc90090ae": {
          "model_module": "@jupyter-widgets/controls",
          "model_name": "FloatProgressModel",
          "model_module_version": "1.5.0",
          "state": {
            "_dom_classes": [],
            "_model_module": "@jupyter-widgets/controls",
            "_model_module_version": "1.5.0",
            "_model_name": "FloatProgressModel",
            "_view_count": null,
            "_view_module": "@jupyter-widgets/controls",
            "_view_module_version": "1.5.0",
            "_view_name": "ProgressView",
            "bar_style": "success",
            "description": "",
            "description_tooltip": null,
            "layout": "IPY_MODEL_4e8056b5ea8040cd901c0c11e7629663",
            "max": 170498071,
            "min": 0,
            "orientation": "horizontal",
            "style": "IPY_MODEL_4d6b76a620b64f348c8343bb1d248de0",
            "value": 170498071
          }
        },
        "f74d6ee9b3474a30b1519f64a1e46af8": {
          "model_module": "@jupyter-widgets/controls",
          "model_name": "HTMLModel",
          "model_module_version": "1.5.0",
          "state": {
            "_dom_classes": [],
            "_model_module": "@jupyter-widgets/controls",
            "_model_module_version": "1.5.0",
            "_model_name": "HTMLModel",
            "_view_count": null,
            "_view_module": "@jupyter-widgets/controls",
            "_view_module_version": "1.5.0",
            "_view_name": "HTMLView",
            "description": "",
            "description_tooltip": null,
            "layout": "IPY_MODEL_5754905578f04148980b2f805dc14f8a",
            "placeholder": "​",
            "style": "IPY_MODEL_f043c7d92b25453abd0e580709a83553",
            "value": " 170498071/170498071 [00:04&lt;00:00, 55388285.17it/s]"
          }
        },
        "71e2c908c8cf4d038926a514ef6b6d3e": {
          "model_module": "@jupyter-widgets/base",
          "model_name": "LayoutModel",
          "model_module_version": "1.2.0",
          "state": {
            "_model_module": "@jupyter-widgets/base",
            "_model_module_version": "1.2.0",
            "_model_name": "LayoutModel",
            "_view_count": null,
            "_view_module": "@jupyter-widgets/base",
            "_view_module_version": "1.2.0",
            "_view_name": "LayoutView",
            "align_content": null,
            "align_items": null,
            "align_self": null,
            "border": null,
            "bottom": null,
            "display": null,
            "flex": null,
            "flex_flow": null,
            "grid_area": null,
            "grid_auto_columns": null,
            "grid_auto_flow": null,
            "grid_auto_rows": null,
            "grid_column": null,
            "grid_gap": null,
            "grid_row": null,
            "grid_template_areas": null,
            "grid_template_columns": null,
            "grid_template_rows": null,
            "height": null,
            "justify_content": null,
            "justify_items": null,
            "left": null,
            "margin": null,
            "max_height": null,
            "max_width": null,
            "min_height": null,
            "min_width": null,
            "object_fit": null,
            "object_position": null,
            "order": null,
            "overflow": null,
            "overflow_x": null,
            "overflow_y": null,
            "padding": null,
            "right": null,
            "top": null,
            "visibility": null,
            "width": null
          }
        },
        "84a5d6118d1548e5ac723b5a1cceddcb": {
          "model_module": "@jupyter-widgets/base",
          "model_name": "LayoutModel",
          "model_module_version": "1.2.0",
          "state": {
            "_model_module": "@jupyter-widgets/base",
            "_model_module_version": "1.2.0",
            "_model_name": "LayoutModel",
            "_view_count": null,
            "_view_module": "@jupyter-widgets/base",
            "_view_module_version": "1.2.0",
            "_view_name": "LayoutView",
            "align_content": null,
            "align_items": null,
            "align_self": null,
            "border": null,
            "bottom": null,
            "display": null,
            "flex": null,
            "flex_flow": null,
            "grid_area": null,
            "grid_auto_columns": null,
            "grid_auto_flow": null,
            "grid_auto_rows": null,
            "grid_column": null,
            "grid_gap": null,
            "grid_row": null,
            "grid_template_areas": null,
            "grid_template_columns": null,
            "grid_template_rows": null,
            "height": null,
            "justify_content": null,
            "justify_items": null,
            "left": null,
            "margin": null,
            "max_height": null,
            "max_width": null,
            "min_height": null,
            "min_width": null,
            "object_fit": null,
            "object_position": null,
            "order": null,
            "overflow": null,
            "overflow_x": null,
            "overflow_y": null,
            "padding": null,
            "right": null,
            "top": null,
            "visibility": null,
            "width": null
          }
        },
        "b7dff1dcead14a18b934696606ac83e0": {
          "model_module": "@jupyter-widgets/controls",
          "model_name": "DescriptionStyleModel",
          "model_module_version": "1.5.0",
          "state": {
            "_model_module": "@jupyter-widgets/controls",
            "_model_module_version": "1.5.0",
            "_model_name": "DescriptionStyleModel",
            "_view_count": null,
            "_view_module": "@jupyter-widgets/base",
            "_view_module_version": "1.2.0",
            "_view_name": "StyleView",
            "description_width": ""
          }
        },
        "4e8056b5ea8040cd901c0c11e7629663": {
          "model_module": "@jupyter-widgets/base",
          "model_name": "LayoutModel",
          "model_module_version": "1.2.0",
          "state": {
            "_model_module": "@jupyter-widgets/base",
            "_model_module_version": "1.2.0",
            "_model_name": "LayoutModel",
            "_view_count": null,
            "_view_module": "@jupyter-widgets/base",
            "_view_module_version": "1.2.0",
            "_view_name": "LayoutView",
            "align_content": null,
            "align_items": null,
            "align_self": null,
            "border": null,
            "bottom": null,
            "display": null,
            "flex": null,
            "flex_flow": null,
            "grid_area": null,
            "grid_auto_columns": null,
            "grid_auto_flow": null,
            "grid_auto_rows": null,
            "grid_column": null,
            "grid_gap": null,
            "grid_row": null,
            "grid_template_areas": null,
            "grid_template_columns": null,
            "grid_template_rows": null,
            "height": null,
            "justify_content": null,
            "justify_items": null,
            "left": null,
            "margin": null,
            "max_height": null,
            "max_width": null,
            "min_height": null,
            "min_width": null,
            "object_fit": null,
            "object_position": null,
            "order": null,
            "overflow": null,
            "overflow_x": null,
            "overflow_y": null,
            "padding": null,
            "right": null,
            "top": null,
            "visibility": null,
            "width": null
          }
        },
        "4d6b76a620b64f348c8343bb1d248de0": {
          "model_module": "@jupyter-widgets/controls",
          "model_name": "ProgressStyleModel",
          "model_module_version": "1.5.0",
          "state": {
            "_model_module": "@jupyter-widgets/controls",
            "_model_module_version": "1.5.0",
            "_model_name": "ProgressStyleModel",
            "_view_count": null,
            "_view_module": "@jupyter-widgets/base",
            "_view_module_version": "1.2.0",
            "_view_name": "StyleView",
            "bar_color": null,
            "description_width": ""
          }
        },
        "5754905578f04148980b2f805dc14f8a": {
          "model_module": "@jupyter-widgets/base",
          "model_name": "LayoutModel",
          "model_module_version": "1.2.0",
          "state": {
            "_model_module": "@jupyter-widgets/base",
            "_model_module_version": "1.2.0",
            "_model_name": "LayoutModel",
            "_view_count": null,
            "_view_module": "@jupyter-widgets/base",
            "_view_module_version": "1.2.0",
            "_view_name": "LayoutView",
            "align_content": null,
            "align_items": null,
            "align_self": null,
            "border": null,
            "bottom": null,
            "display": null,
            "flex": null,
            "flex_flow": null,
            "grid_area": null,
            "grid_auto_columns": null,
            "grid_auto_flow": null,
            "grid_auto_rows": null,
            "grid_column": null,
            "grid_gap": null,
            "grid_row": null,
            "grid_template_areas": null,
            "grid_template_columns": null,
            "grid_template_rows": null,
            "height": null,
            "justify_content": null,
            "justify_items": null,
            "left": null,
            "margin": null,
            "max_height": null,
            "max_width": null,
            "min_height": null,
            "min_width": null,
            "object_fit": null,
            "object_position": null,
            "order": null,
            "overflow": null,
            "overflow_x": null,
            "overflow_y": null,
            "padding": null,
            "right": null,
            "top": null,
            "visibility": null,
            "width": null
          }
        },
        "f043c7d92b25453abd0e580709a83553": {
          "model_module": "@jupyter-widgets/controls",
          "model_name": "DescriptionStyleModel",
          "model_module_version": "1.5.0",
          "state": {
            "_model_module": "@jupyter-widgets/controls",
            "_model_module_version": "1.5.0",
            "_model_name": "DescriptionStyleModel",
            "_view_count": null,
            "_view_module": "@jupyter-widgets/base",
            "_view_module_version": "1.2.0",
            "_view_name": "StyleView",
            "description_width": ""
          }
        }
      }
    }
  },
  "nbformat": 4,
  "nbformat_minor": 0
}